{
 "cells": [
  {
   "cell_type": "markdown",
   "metadata": {},
   "source": [
    "# Sharp Ratio & Frontier"
   ]
  },
  {
   "cell_type": "code",
   "execution_count": 430,
   "metadata": {},
   "outputs": [],
   "source": [
    "import pandas_datareader.data as web\n",
    "import pandas as pd\n",
    "import numpy as np\n",
    "import datetime\n",
    "import matplotlib.pyplot as plt\n",
    "\n",
    "%matplotlib inline\n",
    "\n",
    "ds_yahoo = 'yahoo'\n",
    "\n",
    "last_year = datetime.datetime.now().year - 1\n",
    "start = datetime.datetime.now().replace(year=last_year)\n",
    "end = datetime.datetime.now()"
   ]
  },
  {
   "cell_type": "markdown",
   "metadata": {},
   "source": [
    "## Portfolio Atual"
   ]
  },
  {
   "cell_type": "code",
   "execution_count": 431,
   "metadata": {},
   "outputs": [],
   "source": [
    "tickers = ['ITUB4.SA', 'ABEV3.SA', 'USIM5.SA', 'PMAM3.SA', 'FLRY3.SA', 'PSSA3.SA', 'TIET4.SA']\n",
    "\n",
    "itau = web.DataReader(tickers[0], ds_yahoo, start, end)\n",
    "abev = web.DataReader(tickers[1], ds_yahoo, start, end)\n",
    "usim = web.DataReader(tickers[2], ds_yahoo, start, end)\n",
    "pmam = web.DataReader(tickers[3], ds_yahoo, start, end)\n",
    "flry = web.DataReader(tickers[4], ds_yahoo, start, end)\n",
    "pssa = web.DataReader(tickers[5], ds_yahoo, start, end)\n",
    "tiet = web.DataReader(tickers[6], ds_yahoo, start, end)"
   ]
  },
  {
   "cell_type": "code",
   "execution_count": 432,
   "metadata": {},
   "outputs": [],
   "source": [
    "# USIM5     TIET11   ITUB4   PMAM3  ABEV3   FLRY3   PSSA3\n",
    "# 12.30%    12.13%   28.51%  3.72%  9.54%   6.57%   27.24%"
   ]
  },
  {
   "cell_type": "markdown",
   "metadata": {},
   "source": [
    "## Normalizando o retorno diário de cada ativo do portfólio"
   ]
  },
  {
   "cell_type": "code",
   "execution_count": 433,
   "metadata": {},
   "outputs": [],
   "source": [
    "for acao_df in (itau, abev, usim, pmam, flry, pssa, tiet):\n",
    "    acao_df['Retorno Normalizado'] = acao_df['Adj Close'] / acao_df.iloc[0]['Adj Close']"
   ]
  },
  {
   "cell_type": "markdown",
   "metadata": {},
   "source": [
    "## Alocando cada ativo com um peso específico"
   ]
  },
  {
   "cell_type": "code",
   "execution_count": 434,
   "metadata": {},
   "outputs": [],
   "source": [
    "# [.20, .20, .05, .05, .20, .20, .1]\n",
    "for acao_df, alocacao in zip((itau, abev, usim, pmam, flry, pssa, tiet), [.2851, .0954, .1230, .0372, .0657, .2724, .1213]):\n",
    "    acao_df['Alocacao'] = acao_df['Retorno Normalizado'] * alocacao"
   ]
  },
  {
   "cell_type": "markdown",
   "metadata": {},
   "source": [
    "## Posição de cada ativo no portfólio"
   ]
  },
  {
   "cell_type": "code",
   "execution_count": 435,
   "metadata": {},
   "outputs": [],
   "source": [
    "for acao_df in (itau, abev, usim, pmam, flry, pssa, tiet):\n",
    "    acao_df['Posicao'] = acao_df['Alocacao'] * 10000"
   ]
  },
  {
   "cell_type": "code",
   "execution_count": 436,
   "metadata": {},
   "outputs": [],
   "source": [
    "todas_posicoes = [itau['Posicao'], abev['Posicao'], usim['Posicao'],\n",
    "                  pmam['Posicao'], flry['Posicao'], pssa['Posicao'], tiet['Posicao']]\n",
    "\n",
    "# DF que terá colunas adicionadas como Total e Retorno Diário\n",
    "portfolio_posicao = pd.concat(todas_posicoes, axis=1)\n",
    "\n",
    "# DF que terá apenas as ações com o Adj Close column\n",
    "portfolio_acoes = pd.concat(todas_posicoes, axis=1)"
   ]
  },
  {
   "cell_type": "code",
   "execution_count": 437,
   "metadata": {},
   "outputs": [],
   "source": [
    "portfolio_posicao.columns = ['ITUB', 'ABEV', 'USIM', 'PMAM', 'FLRY', 'PSSA', 'TIET']\n",
    "portfolio_acoes.columns = ['ITUB', 'ABEV', 'USIM', 'PMAM', 'FLRY', 'PSSA', 'TIET']"
   ]
  },
  {
   "cell_type": "markdown",
   "metadata": {},
   "source": [
    "## Calculando o Total da carteira"
   ]
  },
  {
   "cell_type": "code",
   "execution_count": 438,
   "metadata": {},
   "outputs": [],
   "source": [
    "portfolio_posicao['Total'] = portfolio_posicao.sum(axis=1)"
   ]
  },
  {
   "cell_type": "code",
   "execution_count": 439,
   "metadata": {},
   "outputs": [
    {
     "data": {
      "text/html": [
       "<div>\n",
       "<style scoped>\n",
       "    .dataframe tbody tr th:only-of-type {\n",
       "        vertical-align: middle;\n",
       "    }\n",
       "\n",
       "    .dataframe tbody tr th {\n",
       "        vertical-align: top;\n",
       "    }\n",
       "\n",
       "    .dataframe thead th {\n",
       "        text-align: right;\n",
       "    }\n",
       "</style>\n",
       "<table border=\"1\" class=\"dataframe\">\n",
       "  <thead>\n",
       "    <tr style=\"text-align: right;\">\n",
       "      <th></th>\n",
       "      <th>ITUB</th>\n",
       "      <th>ABEV</th>\n",
       "      <th>USIM</th>\n",
       "      <th>PMAM</th>\n",
       "      <th>FLRY</th>\n",
       "      <th>PSSA</th>\n",
       "      <th>TIET</th>\n",
       "      <th>Total</th>\n",
       "    </tr>\n",
       "    <tr>\n",
       "      <th>Date</th>\n",
       "      <th></th>\n",
       "      <th></th>\n",
       "      <th></th>\n",
       "      <th></th>\n",
       "      <th></th>\n",
       "      <th></th>\n",
       "      <th></th>\n",
       "      <th></th>\n",
       "    </tr>\n",
       "  </thead>\n",
       "  <tbody>\n",
       "    <tr>\n",
       "      <th>2018-06-22</th>\n",
       "      <td>2851.000000</td>\n",
       "      <td>954.000000</td>\n",
       "      <td>1230.000000</td>\n",
       "      <td>372.000000</td>\n",
       "      <td>657.000000</td>\n",
       "      <td>2724.000000</td>\n",
       "      <td>1213.000000</td>\n",
       "      <td>10001.000000</td>\n",
       "    </tr>\n",
       "    <tr>\n",
       "      <th>2018-06-25</th>\n",
       "      <td>2856.794184</td>\n",
       "      <td>957.151943</td>\n",
       "      <td>1228.282180</td>\n",
       "      <td>357.119993</td>\n",
       "      <td>664.853632</td>\n",
       "      <td>2778.760617</td>\n",
       "      <td>1225.570045</td>\n",
       "      <td>10068.532594</td>\n",
       "    </tr>\n",
       "    <tr>\n",
       "      <th>2018-06-26</th>\n",
       "      <td>2847.369417</td>\n",
       "      <td>950.322647</td>\n",
       "      <td>1221.410651</td>\n",
       "      <td>348.191989</td>\n",
       "      <td>706.559348</td>\n",
       "      <td>2830.713437</td>\n",
       "      <td>1225.570045</td>\n",
       "      <td>10130.137534</td>\n",
       "    </tr>\n",
       "    <tr>\n",
       "      <th>2018-06-27</th>\n",
       "      <td>2795.919020</td>\n",
       "      <td>942.968045</td>\n",
       "      <td>1228.282180</td>\n",
       "      <td>342.239987</td>\n",
       "      <td>694.101783</td>\n",
       "      <td>2775.250507</td>\n",
       "      <td>1194.145014</td>\n",
       "      <td>9972.906535</td>\n",
       "    </tr>\n",
       "    <tr>\n",
       "      <th>2018-06-28</th>\n",
       "      <td>2873.458529</td>\n",
       "      <td>946.119988</td>\n",
       "      <td>1276.382636</td>\n",
       "      <td>333.312016</td>\n",
       "      <td>709.538351</td>\n",
       "      <td>2799.376409</td>\n",
       "      <td>1219.285104</td>\n",
       "      <td>10157.473032</td>\n",
       "    </tr>\n",
       "  </tbody>\n",
       "</table>\n",
       "</div>"
      ],
      "text/plain": [
       "                   ITUB        ABEV         USIM        PMAM        FLRY  \\\n",
       "Date                                                                       \n",
       "2018-06-22  2851.000000  954.000000  1230.000000  372.000000  657.000000   \n",
       "2018-06-25  2856.794184  957.151943  1228.282180  357.119993  664.853632   \n",
       "2018-06-26  2847.369417  950.322647  1221.410651  348.191989  706.559348   \n",
       "2018-06-27  2795.919020  942.968045  1228.282180  342.239987  694.101783   \n",
       "2018-06-28  2873.458529  946.119988  1276.382636  333.312016  709.538351   \n",
       "\n",
       "                   PSSA         TIET         Total  \n",
       "Date                                                \n",
       "2018-06-22  2724.000000  1213.000000  10001.000000  \n",
       "2018-06-25  2778.760617  1225.570045  10068.532594  \n",
       "2018-06-26  2830.713437  1225.570045  10130.137534  \n",
       "2018-06-27  2775.250507  1194.145014   9972.906535  \n",
       "2018-06-28  2799.376409  1219.285104  10157.473032  "
      ]
     },
     "execution_count": 439,
     "metadata": {},
     "output_type": "execute_result"
    }
   ],
   "source": [
    "portfolio_posicao.head()"
   ]
  },
  {
   "cell_type": "code",
   "execution_count": 440,
   "metadata": {},
   "outputs": [
    {
     "data": {
      "text/html": [
       "<div>\n",
       "<style scoped>\n",
       "    .dataframe tbody tr th:only-of-type {\n",
       "        vertical-align: middle;\n",
       "    }\n",
       "\n",
       "    .dataframe tbody tr th {\n",
       "        vertical-align: top;\n",
       "    }\n",
       "\n",
       "    .dataframe thead th {\n",
       "        text-align: right;\n",
       "    }\n",
       "</style>\n",
       "<table border=\"1\" class=\"dataframe\">\n",
       "  <thead>\n",
       "    <tr style=\"text-align: right;\">\n",
       "      <th></th>\n",
       "      <th>ITUB</th>\n",
       "      <th>ABEV</th>\n",
       "      <th>USIM</th>\n",
       "      <th>PMAM</th>\n",
       "      <th>FLRY</th>\n",
       "      <th>PSSA</th>\n",
       "      <th>TIET</th>\n",
       "      <th>Total</th>\n",
       "    </tr>\n",
       "    <tr>\n",
       "      <th>Date</th>\n",
       "      <th></th>\n",
       "      <th></th>\n",
       "      <th></th>\n",
       "      <th></th>\n",
       "      <th></th>\n",
       "      <th></th>\n",
       "      <th></th>\n",
       "      <th></th>\n",
       "    </tr>\n",
       "  </thead>\n",
       "  <tbody>\n",
       "    <tr>\n",
       "      <th>2019-06-14</th>\n",
       "      <td>3809.183886</td>\n",
       "      <td>945.740503</td>\n",
       "      <td>1511.087125</td>\n",
       "      <td>368.848936</td>\n",
       "      <td>593.828988</td>\n",
       "      <td>4029.483311</td>\n",
       "      <td>1572.264478</td>\n",
       "      <td>12830.437227</td>\n",
       "    </tr>\n",
       "    <tr>\n",
       "      <th>2019-06-17</th>\n",
       "      <td>3804.701072</td>\n",
       "      <td>954.318640</td>\n",
       "      <td>1500.617792</td>\n",
       "      <td>364.647528</td>\n",
       "      <td>585.021013</td>\n",
       "      <td>4079.756625</td>\n",
       "      <td>1599.489812</td>\n",
       "      <td>12888.552483</td>\n",
       "    </tr>\n",
       "    <tr>\n",
       "      <th>2019-06-18</th>\n",
       "      <td>3903.320835</td>\n",
       "      <td>967.721993</td>\n",
       "      <td>1532.025957</td>\n",
       "      <td>358.870588</td>\n",
       "      <td>587.862311</td>\n",
       "      <td>4096.514202</td>\n",
       "      <td>1585.877145</td>\n",
       "      <td>13032.193031</td>\n",
       "    </tr>\n",
       "    <tr>\n",
       "      <th>2019-06-19</th>\n",
       "      <td>3964.958026</td>\n",
       "      <td>975.764086</td>\n",
       "      <td>1511.087125</td>\n",
       "      <td>366.398123</td>\n",
       "      <td>590.987690</td>\n",
       "      <td>4101.846198</td>\n",
       "      <td>1585.877145</td>\n",
       "      <td>13096.918393</td>\n",
       "    </tr>\n",
       "    <tr>\n",
       "      <th>2019-06-21</th>\n",
       "      <td>4034.439927</td>\n",
       "      <td>989.167438</td>\n",
       "      <td>1516.321791</td>\n",
       "      <td>370.249405</td>\n",
       "      <td>596.670286</td>\n",
       "      <td>4124.697942</td>\n",
       "      <td>1585.877145</td>\n",
       "      <td>13217.423935</td>\n",
       "    </tr>\n",
       "  </tbody>\n",
       "</table>\n",
       "</div>"
      ],
      "text/plain": [
       "                   ITUB        ABEV         USIM        PMAM        FLRY  \\\n",
       "Date                                                                       \n",
       "2019-06-14  3809.183886  945.740503  1511.087125  368.848936  593.828988   \n",
       "2019-06-17  3804.701072  954.318640  1500.617792  364.647528  585.021013   \n",
       "2019-06-18  3903.320835  967.721993  1532.025957  358.870588  587.862311   \n",
       "2019-06-19  3964.958026  975.764086  1511.087125  366.398123  590.987690   \n",
       "2019-06-21  4034.439927  989.167438  1516.321791  370.249405  596.670286   \n",
       "\n",
       "                   PSSA         TIET         Total  \n",
       "Date                                                \n",
       "2019-06-14  4029.483311  1572.264478  12830.437227  \n",
       "2019-06-17  4079.756625  1599.489812  12888.552483  \n",
       "2019-06-18  4096.514202  1585.877145  13032.193031  \n",
       "2019-06-19  4101.846198  1585.877145  13096.918393  \n",
       "2019-06-21  4124.697942  1585.877145  13217.423935  "
      ]
     },
     "execution_count": 440,
     "metadata": {},
     "output_type": "execute_result"
    }
   ],
   "source": [
    "portfolio_posicao.tail()"
   ]
  },
  {
   "cell_type": "code",
   "execution_count": 441,
   "metadata": {},
   "outputs": [
    {
     "data": {
      "image/png": "[encoded data removed]",
      "text/plain": [
       "<Figure size 1224x432 with 1 Axes>"
      ]
     },
     "metadata": {
      "needs_background": "light"
     },
     "output_type": "display_data"
    }
   ],
   "source": [
    "portfolio_posicao['Total'].plot(figsize=(17,6))\n",
    "plt.title('Posição total do portfolio');"
   ]
  },
  {
   "cell_type": "code",
   "execution_count": 442,
   "metadata": {},
   "outputs": [
    {
     "data": {
      "image/png": "[encoded data removed]",
      "text/plain": [
       "<Figure size 1224x432 with 1 Axes>"
      ]
     },
     "metadata": {
      "needs_background": "light"
     },
     "output_type": "display_data"
    }
   ],
   "source": [
    "portfolio_posicao.drop('Total', axis=1).plot(figsize=(17,6));"
   ]
  },
  {
   "cell_type": "markdown",
   "metadata": {},
   "source": [
    "## Retorno diário do Total da carteira"
   ]
  },
  {
   "cell_type": "code",
   "execution_count": 443,
   "metadata": {},
   "outputs": [],
   "source": [
    "portfolio_posicao['Retorno Diario'] = portfolio_posicao['Total'].pct_change(1)"
   ]
  },
  {
   "cell_type": "code",
   "execution_count": 444,
   "metadata": {},
   "outputs": [
    {
     "data": {
      "text/html": [
       "<div>\n",
       "<style scoped>\n",
       "    .dataframe tbody tr th:only-of-type {\n",
       "        vertical-align: middle;\n",
       "    }\n",
       "\n",
       "    .dataframe tbody tr th {\n",
       "        vertical-align: top;\n",
       "    }\n",
       "\n",
       "    .dataframe thead th {\n",
       "        text-align: right;\n",
       "    }\n",
       "</style>\n",
       "<table border=\"1\" class=\"dataframe\">\n",
       "  <thead>\n",
       "    <tr style=\"text-align: right;\">\n",
       "      <th></th>\n",
       "      <th>ITUB</th>\n",
       "      <th>ABEV</th>\n",
       "      <th>USIM</th>\n",
       "      <th>PMAM</th>\n",
       "      <th>FLRY</th>\n",
       "      <th>PSSA</th>\n",
       "      <th>TIET</th>\n",
       "      <th>Total</th>\n",
       "      <th>Retorno Diario</th>\n",
       "    </tr>\n",
       "    <tr>\n",
       "      <th>Date</th>\n",
       "      <th></th>\n",
       "      <th></th>\n",
       "      <th></th>\n",
       "      <th></th>\n",
       "      <th></th>\n",
       "      <th></th>\n",
       "      <th></th>\n",
       "      <th></th>\n",
       "      <th></th>\n",
       "    </tr>\n",
       "  </thead>\n",
       "  <tbody>\n",
       "    <tr>\n",
       "      <th>2018-06-22</th>\n",
       "      <td>2851.000000</td>\n",
       "      <td>954.000000</td>\n",
       "      <td>1230.000000</td>\n",
       "      <td>372.000000</td>\n",
       "      <td>657.000000</td>\n",
       "      <td>2724.000000</td>\n",
       "      <td>1213.000000</td>\n",
       "      <td>10001.000000</td>\n",
       "      <td>NaN</td>\n",
       "    </tr>\n",
       "    <tr>\n",
       "      <th>2018-06-25</th>\n",
       "      <td>2856.794184</td>\n",
       "      <td>957.151943</td>\n",
       "      <td>1228.282180</td>\n",
       "      <td>357.119993</td>\n",
       "      <td>664.853632</td>\n",
       "      <td>2778.760617</td>\n",
       "      <td>1225.570045</td>\n",
       "      <td>10068.532594</td>\n",
       "      <td>0.006753</td>\n",
       "    </tr>\n",
       "    <tr>\n",
       "      <th>2018-06-26</th>\n",
       "      <td>2847.369417</td>\n",
       "      <td>950.322647</td>\n",
       "      <td>1221.410651</td>\n",
       "      <td>348.191989</td>\n",
       "      <td>706.559348</td>\n",
       "      <td>2830.713437</td>\n",
       "      <td>1225.570045</td>\n",
       "      <td>10130.137534</td>\n",
       "      <td>0.006119</td>\n",
       "    </tr>\n",
       "    <tr>\n",
       "      <th>2018-06-27</th>\n",
       "      <td>2795.919020</td>\n",
       "      <td>942.968045</td>\n",
       "      <td>1228.282180</td>\n",
       "      <td>342.239987</td>\n",
       "      <td>694.101783</td>\n",
       "      <td>2775.250507</td>\n",
       "      <td>1194.145014</td>\n",
       "      <td>9972.906535</td>\n",
       "      <td>-0.015521</td>\n",
       "    </tr>\n",
       "    <tr>\n",
       "      <th>2018-06-28</th>\n",
       "      <td>2873.458529</td>\n",
       "      <td>946.119988</td>\n",
       "      <td>1276.382636</td>\n",
       "      <td>333.312016</td>\n",
       "      <td>709.538351</td>\n",
       "      <td>2799.376409</td>\n",
       "      <td>1219.285104</td>\n",
       "      <td>10157.473032</td>\n",
       "      <td>0.018507</td>\n",
       "    </tr>\n",
       "  </tbody>\n",
       "</table>\n",
       "</div>"
      ],
      "text/plain": [
       "                   ITUB        ABEV         USIM        PMAM        FLRY  \\\n",
       "Date                                                                       \n",
       "2018-06-22  2851.000000  954.000000  1230.000000  372.000000  657.000000   \n",
       "2018-06-25  2856.794184  957.151943  1228.282180  357.119993  664.853632   \n",
       "2018-06-26  2847.369417  950.322647  1221.410651  348.191989  706.559348   \n",
       "2018-06-27  2795.919020  942.968045  1228.282180  342.239987  694.101783   \n",
       "2018-06-28  2873.458529  946.119988  1276.382636  333.312016  709.538351   \n",
       "\n",
       "                   PSSA         TIET         Total  Retorno Diario  \n",
       "Date                                                                \n",
       "2018-06-22  2724.000000  1213.000000  10001.000000             NaN  \n",
       "2018-06-25  2778.760617  1225.570045  10068.532594        0.006753  \n",
       "2018-06-26  2830.713437  1225.570045  10130.137534        0.006119  \n",
       "2018-06-27  2775.250507  1194.145014   9972.906535       -0.015521  \n",
       "2018-06-28  2799.376409  1219.285104  10157.473032        0.018507  "
      ]
     },
     "execution_count": 444,
     "metadata": {},
     "output_type": "execute_result"
    }
   ],
   "source": [
    "portfolio_posicao.head()"
   ]
  },
  {
   "cell_type": "code",
   "execution_count": 445,
   "metadata": {},
   "outputs": [
    {
     "data": {
      "text/html": [
       "<div>\n",
       "<style scoped>\n",
       "    .dataframe tbody tr th:only-of-type {\n",
       "        vertical-align: middle;\n",
       "    }\n",
       "\n",
       "    .dataframe tbody tr th {\n",
       "        vertical-align: top;\n",
       "    }\n",
       "\n",
       "    .dataframe thead th {\n",
       "        text-align: right;\n",
       "    }\n",
       "</style>\n",
       "<table border=\"1\" class=\"dataframe\">\n",
       "  <thead>\n",
       "    <tr style=\"text-align: right;\">\n",
       "      <th></th>\n",
       "      <th>ITUB</th>\n",
       "      <th>ABEV</th>\n",
       "      <th>USIM</th>\n",
       "      <th>PMAM</th>\n",
       "      <th>FLRY</th>\n",
       "      <th>PSSA</th>\n",
       "      <th>TIET</th>\n",
       "      <th>Total</th>\n",
       "      <th>Retorno Diario</th>\n",
       "    </tr>\n",
       "    <tr>\n",
       "      <th>Date</th>\n",
       "      <th></th>\n",
       "      <th></th>\n",
       "      <th></th>\n",
       "      <th></th>\n",
       "      <th></th>\n",
       "      <th></th>\n",
       "      <th></th>\n",
       "      <th></th>\n",
       "      <th></th>\n",
       "    </tr>\n",
       "  </thead>\n",
       "  <tbody>\n",
       "    <tr>\n",
       "      <th>2019-06-14</th>\n",
       "      <td>3809.183886</td>\n",
       "      <td>945.740503</td>\n",
       "      <td>1511.087125</td>\n",
       "      <td>368.848936</td>\n",
       "      <td>593.828988</td>\n",
       "      <td>4029.483311</td>\n",
       "      <td>1572.264478</td>\n",
       "      <td>12830.437227</td>\n",
       "      <td>-0.004989</td>\n",
       "    </tr>\n",
       "    <tr>\n",
       "      <th>2019-06-17</th>\n",
       "      <td>3804.701072</td>\n",
       "      <td>954.318640</td>\n",
       "      <td>1500.617792</td>\n",
       "      <td>364.647528</td>\n",
       "      <td>585.021013</td>\n",
       "      <td>4079.756625</td>\n",
       "      <td>1599.489812</td>\n",
       "      <td>12888.552483</td>\n",
       "      <td>0.004529</td>\n",
       "    </tr>\n",
       "    <tr>\n",
       "      <th>2019-06-18</th>\n",
       "      <td>3903.320835</td>\n",
       "      <td>967.721993</td>\n",
       "      <td>1532.025957</td>\n",
       "      <td>358.870588</td>\n",
       "      <td>587.862311</td>\n",
       "      <td>4096.514202</td>\n",
       "      <td>1585.877145</td>\n",
       "      <td>13032.193031</td>\n",
       "      <td>0.011145</td>\n",
       "    </tr>\n",
       "    <tr>\n",
       "      <th>2019-06-19</th>\n",
       "      <td>3964.958026</td>\n",
       "      <td>975.764086</td>\n",
       "      <td>1511.087125</td>\n",
       "      <td>366.398123</td>\n",
       "      <td>590.987690</td>\n",
       "      <td>4101.846198</td>\n",
       "      <td>1585.877145</td>\n",
       "      <td>13096.918393</td>\n",
       "      <td>0.004967</td>\n",
       "    </tr>\n",
       "    <tr>\n",
       "      <th>2019-06-21</th>\n",
       "      <td>4034.439927</td>\n",
       "      <td>989.167438</td>\n",
       "      <td>1516.321791</td>\n",
       "      <td>370.249405</td>\n",
       "      <td>596.670286</td>\n",
       "      <td>4124.697942</td>\n",
       "      <td>1585.877145</td>\n",
       "      <td>13217.423935</td>\n",
       "      <td>0.009201</td>\n",
       "    </tr>\n",
       "  </tbody>\n",
       "</table>\n",
       "</div>"
      ],
      "text/plain": [
       "                   ITUB        ABEV         USIM        PMAM        FLRY  \\\n",
       "Date                                                                       \n",
       "2019-06-14  3809.183886  945.740503  1511.087125  368.848936  593.828988   \n",
       "2019-06-17  3804.701072  954.318640  1500.617792  364.647528  585.021013   \n",
       "2019-06-18  3903.320835  967.721993  1532.025957  358.870588  587.862311   \n",
       "2019-06-19  3964.958026  975.764086  1511.087125  366.398123  590.987690   \n",
       "2019-06-21  4034.439927  989.167438  1516.321791  370.249405  596.670286   \n",
       "\n",
       "                   PSSA         TIET         Total  Retorno Diario  \n",
       "Date                                                                \n",
       "2019-06-14  4029.483311  1572.264478  12830.437227       -0.004989  \n",
       "2019-06-17  4079.756625  1599.489812  12888.552483        0.004529  \n",
       "2019-06-18  4096.514202  1585.877145  13032.193031        0.011145  \n",
       "2019-06-19  4101.846198  1585.877145  13096.918393        0.004967  \n",
       "2019-06-21  4124.697942  1585.877145  13217.423935        0.009201  "
      ]
     },
     "execution_count": 445,
     "metadata": {},
     "output_type": "execute_result"
    }
   ],
   "source": [
    "portfolio_posicao.tail()"
   ]
  },
  {
   "cell_type": "code",
   "execution_count": 446,
   "metadata": {},
   "outputs": [
    {
     "data": {
      "text/plain": [
       "0.122"
      ]
     },
     "execution_count": 446,
     "metadata": {},
     "output_type": "execute_result"
    }
   ],
   "source": [
    "round(portfolio_posicao['Retorno Diario'].mean() * 100, 3)"
   ]
  },
  {
   "cell_type": "code",
   "execution_count": 447,
   "metadata": {},
   "outputs": [
    {
     "data": {
      "text/plain": [
       "0.012476849514646036"
      ]
     },
     "execution_count": 447,
     "metadata": {},
     "output_type": "execute_result"
    }
   ],
   "source": [
    "portfolio_posicao['Retorno Diario'].std()"
   ]
  },
  {
   "cell_type": "code",
   "execution_count": 448,
   "metadata": {},
   "outputs": [
    {
     "data": {
      "image/png": "[encoded data removed]",
      "text/plain": [
       "<Figure size 288x360 with 1 Axes>"
      ]
     },
     "metadata": {
      "needs_background": "light"
     },
     "output_type": "display_data"
    }
   ],
   "source": [
    "portfolio_posicao['Retorno Diario'].plot(kind='kde', figsize=(4,5));"
   ]
  },
  {
   "cell_type": "code",
   "execution_count": 462,
   "metadata": {},
   "outputs": [
    {
     "data": {
      "text/plain": [
       "32.161"
      ]
     },
     "execution_count": 462,
     "metadata": {},
     "output_type": "execute_result"
    }
   ],
   "source": [
    "retorno_total_acumulado = 100 * (portfolio_posicao['Total'][-1] / portfolio_posicao['Total'][0] - 1)\n",
    "round(retorno_total_acumulado, 3)"
   ]
  },
  {
   "cell_type": "code",
   "execution_count": 450,
   "metadata": {},
   "outputs": [
    {
     "data": {
      "text/plain": [
       "0.0978553707896189"
      ]
     },
     "execution_count": 450,
     "metadata": {},
     "output_type": "execute_result"
    }
   ],
   "source": [
    "sharpe_ratio = (portfolio_posicao['Retorno Diario'].mean()) / portfolio_posicao['Retorno Diario'].std()\n",
    "sharpe_ratio"
   ]
  },
  {
   "cell_type": "code",
   "execution_count": 451,
   "metadata": {},
   "outputs": [
    {
     "data": {
      "text/plain": [
       "1.531678827343246"
      ]
     },
     "execution_count": 451,
     "metadata": {},
     "output_type": "execute_result"
    }
   ],
   "source": [
    "sharpe_ratio_ano = (245 ** 0.5) * sharpe_ratio\n",
    "sharpe_ratio_ano"
   ]
  },
  {
   "cell_type": "markdown",
   "metadata": {},
   "source": [
    "## Retorno diário"
   ]
  },
  {
   "cell_type": "code",
   "execution_count": 452,
   "metadata": {},
   "outputs": [],
   "source": [
    "retorno_log = portfolio_acoes.pct_change(1)"
   ]
  },
  {
   "cell_type": "code",
   "execution_count": 453,
   "metadata": {},
   "outputs": [
    {
     "data": {
      "text/html": [
       "<div>\n",
       "<style scoped>\n",
       "    .dataframe tbody tr th:only-of-type {\n",
       "        vertical-align: middle;\n",
       "    }\n",
       "\n",
       "    .dataframe tbody tr th {\n",
       "        vertical-align: top;\n",
       "    }\n",
       "\n",
       "    .dataframe thead th {\n",
       "        text-align: right;\n",
       "    }\n",
       "</style>\n",
       "<table border=\"1\" class=\"dataframe\">\n",
       "  <thead>\n",
       "    <tr style=\"text-align: right;\">\n",
       "      <th></th>\n",
       "      <th>ITUB</th>\n",
       "      <th>ABEV</th>\n",
       "      <th>USIM</th>\n",
       "      <th>PMAM</th>\n",
       "      <th>FLRY</th>\n",
       "      <th>PSSA</th>\n",
       "      <th>TIET</th>\n",
       "    </tr>\n",
       "    <tr>\n",
       "      <th>Date</th>\n",
       "      <th></th>\n",
       "      <th></th>\n",
       "      <th></th>\n",
       "      <th></th>\n",
       "      <th></th>\n",
       "      <th></th>\n",
       "      <th></th>\n",
       "    </tr>\n",
       "  </thead>\n",
       "  <tbody>\n",
       "    <tr>\n",
       "      <th>2018-06-22</th>\n",
       "      <td>NaN</td>\n",
       "      <td>NaN</td>\n",
       "      <td>NaN</td>\n",
       "      <td>NaN</td>\n",
       "      <td>NaN</td>\n",
       "      <td>NaN</td>\n",
       "      <td>NaN</td>\n",
       "    </tr>\n",
       "    <tr>\n",
       "      <th>2018-06-25</th>\n",
       "      <td>0.002032</td>\n",
       "      <td>0.003304</td>\n",
       "      <td>-0.001397</td>\n",
       "      <td>-0.040000</td>\n",
       "      <td>0.011954</td>\n",
       "      <td>0.020103</td>\n",
       "      <td>0.010363</td>\n",
       "    </tr>\n",
       "    <tr>\n",
       "      <th>2018-06-26</th>\n",
       "      <td>-0.003299</td>\n",
       "      <td>-0.007135</td>\n",
       "      <td>-0.005594</td>\n",
       "      <td>-0.025000</td>\n",
       "      <td>0.062729</td>\n",
       "      <td>0.018696</td>\n",
       "      <td>0.000000</td>\n",
       "    </tr>\n",
       "    <tr>\n",
       "      <th>2018-06-27</th>\n",
       "      <td>-0.018069</td>\n",
       "      <td>-0.007739</td>\n",
       "      <td>0.005626</td>\n",
       "      <td>-0.017094</td>\n",
       "      <td>-0.017631</td>\n",
       "      <td>-0.019593</td>\n",
       "      <td>-0.025641</td>\n",
       "    </tr>\n",
       "    <tr>\n",
       "      <th>2018-06-28</th>\n",
       "      <td>0.027733</td>\n",
       "      <td>0.003343</td>\n",
       "      <td>0.039161</td>\n",
       "      <td>-0.026087</td>\n",
       "      <td>0.022240</td>\n",
       "      <td>0.008693</td>\n",
       "      <td>0.021053</td>\n",
       "    </tr>\n",
       "  </tbody>\n",
       "</table>\n",
       "</div>"
      ],
      "text/plain": [
       "                ITUB      ABEV      USIM      PMAM      FLRY      PSSA  \\\n",
       "Date                                                                     \n",
       "2018-06-22       NaN       NaN       NaN       NaN       NaN       NaN   \n",
       "2018-06-25  0.002032  0.003304 -0.001397 -0.040000  0.011954  0.020103   \n",
       "2018-06-26 -0.003299 -0.007135 -0.005594 -0.025000  0.062729  0.018696   \n",
       "2018-06-27 -0.018069 -0.007739  0.005626 -0.017094 -0.017631 -0.019593   \n",
       "2018-06-28  0.027733  0.003343  0.039161 -0.026087  0.022240  0.008693   \n",
       "\n",
       "                TIET  \n",
       "Date                  \n",
       "2018-06-22       NaN  \n",
       "2018-06-25  0.010363  \n",
       "2018-06-26  0.000000  \n",
       "2018-06-27 -0.025641  \n",
       "2018-06-28  0.021053  "
      ]
     },
     "execution_count": 453,
     "metadata": {},
     "output_type": "execute_result"
    }
   ],
   "source": [
    "retorno_log.head()"
   ]
  },
  {
   "cell_type": "code",
   "execution_count": 454,
   "metadata": {},
   "outputs": [
    {
     "data": {
      "text/html": [
       "<div>\n",
       "<style scoped>\n",
       "    .dataframe tbody tr th:only-of-type {\n",
       "        vertical-align: middle;\n",
       "    }\n",
       "\n",
       "    .dataframe tbody tr th {\n",
       "        vertical-align: top;\n",
       "    }\n",
       "\n",
       "    .dataframe thead th {\n",
       "        text-align: right;\n",
       "    }\n",
       "</style>\n",
       "<table border=\"1\" class=\"dataframe\">\n",
       "  <thead>\n",
       "    <tr style=\"text-align: right;\">\n",
       "      <th></th>\n",
       "      <th>ITUB</th>\n",
       "      <th>ABEV</th>\n",
       "      <th>USIM</th>\n",
       "      <th>PMAM</th>\n",
       "      <th>FLRY</th>\n",
       "      <th>PSSA</th>\n",
       "      <th>TIET</th>\n",
       "    </tr>\n",
       "    <tr>\n",
       "      <th>Date</th>\n",
       "      <th></th>\n",
       "      <th></th>\n",
       "      <th></th>\n",
       "      <th></th>\n",
       "      <th></th>\n",
       "      <th></th>\n",
       "      <th></th>\n",
       "    </tr>\n",
       "  </thead>\n",
       "  <tbody>\n",
       "    <tr>\n",
       "      <th>2019-06-14</th>\n",
       "      <td>0.000294</td>\n",
       "      <td>-0.011765</td>\n",
       "      <td>-0.030235</td>\n",
       "      <td>-0.006132</td>\n",
       "      <td>-0.017857</td>\n",
       "      <td>-0.001887</td>\n",
       "      <td>0.008734</td>\n",
       "    </tr>\n",
       "    <tr>\n",
       "      <th>2019-06-17</th>\n",
       "      <td>-0.001177</td>\n",
       "      <td>0.009070</td>\n",
       "      <td>-0.006928</td>\n",
       "      <td>-0.011391</td>\n",
       "      <td>-0.014833</td>\n",
       "      <td>0.012476</td>\n",
       "      <td>0.017316</td>\n",
       "    </tr>\n",
       "    <tr>\n",
       "      <th>2019-06-18</th>\n",
       "      <td>0.025921</td>\n",
       "      <td>0.014045</td>\n",
       "      <td>0.020930</td>\n",
       "      <td>-0.015843</td>\n",
       "      <td>0.004857</td>\n",
       "      <td>0.004107</td>\n",
       "      <td>-0.008511</td>\n",
       "    </tr>\n",
       "    <tr>\n",
       "      <th>2019-06-19</th>\n",
       "      <td>0.015791</td>\n",
       "      <td>0.008310</td>\n",
       "      <td>-0.013667</td>\n",
       "      <td>0.020976</td>\n",
       "      <td>0.005317</td>\n",
       "      <td>0.001302</td>\n",
       "      <td>0.000000</td>\n",
       "    </tr>\n",
       "    <tr>\n",
       "      <th>2019-06-21</th>\n",
       "      <td>0.017524</td>\n",
       "      <td>0.013736</td>\n",
       "      <td>0.003464</td>\n",
       "      <td>0.010511</td>\n",
       "      <td>0.009615</td>\n",
       "      <td>0.005571</td>\n",
       "      <td>0.000000</td>\n",
       "    </tr>\n",
       "  </tbody>\n",
       "</table>\n",
       "</div>"
      ],
      "text/plain": [
       "                ITUB      ABEV      USIM      PMAM      FLRY      PSSA  \\\n",
       "Date                                                                     \n",
       "2019-06-14  0.000294 -0.011765 -0.030235 -0.006132 -0.017857 -0.001887   \n",
       "2019-06-17 -0.001177  0.009070 -0.006928 -0.011391 -0.014833  0.012476   \n",
       "2019-06-18  0.025921  0.014045  0.020930 -0.015843  0.004857  0.004107   \n",
       "2019-06-19  0.015791  0.008310 -0.013667  0.020976  0.005317  0.001302   \n",
       "2019-06-21  0.017524  0.013736  0.003464  0.010511  0.009615  0.005571   \n",
       "\n",
       "                TIET  \n",
       "Date                  \n",
       "2019-06-14  0.008734  \n",
       "2019-06-17  0.017316  \n",
       "2019-06-18 -0.008511  \n",
       "2019-06-19  0.000000  \n",
       "2019-06-21  0.000000  "
      ]
     },
     "execution_count": 454,
     "metadata": {},
     "output_type": "execute_result"
    }
   ],
   "source": [
    "retorno_log.tail()"
   ]
  },
  {
   "cell_type": "code",
   "execution_count": 455,
   "metadata": {},
   "outputs": [
    {
     "name": "stdout",
     "output_type": "stream",
     "text": [
      "<class 'pandas.core.frame.DataFrame'>\n",
      "DatetimeIndex: 245 entries, 2018-06-22 to 2019-06-21\n",
      "Data columns (total 7 columns):\n",
      "ITUB    244 non-null float64\n",
      "ABEV    244 non-null float64\n",
      "USIM    244 non-null float64\n",
      "PMAM    244 non-null float64\n",
      "FLRY    244 non-null float64\n",
      "PSSA    244 non-null float64\n",
      "TIET    244 non-null float64\n",
      "dtypes: float64(7)\n",
      "memory usage: 15.3 KB\n"
     ]
    }
   ],
   "source": [
    "retorno_log.info()"
   ]
  },
  {
   "cell_type": "markdown",
   "metadata": {},
   "source": [
    "## Gerando um único portfólio com pesos aleatórios"
   ]
  },
  {
   "cell_type": "code",
   "execution_count": 456,
   "metadata": {},
   "outputs": [
    {
     "name": "stdout",
     "output_type": "stream",
     "text": [
      "Index(['ITUB', 'ABEV', 'USIM', 'PMAM', 'FLRY', 'PSSA', 'TIET'], dtype='object')\n",
      "Pesos Aleatórios\n",
      "[0.58610552 0.04283901 0.09200967 0.72955313 0.99184379 0.82600898\n",
      " 0.13403007]\n",
      "Rebalancear os pesos\n",
      "[0.17226288 0.01259086 0.02704266 0.21442371 0.29151383 0.24277315\n",
      " 0.03939292]\n",
      "Retorno esperado\n",
      "1.1527550617214908\n",
      "Volatilidade esperada\n",
      "0.20637861057759302\n",
      "Sharpe Ratio\n",
      "5.585632437854235\n"
     ]
    }
   ],
   "source": [
    "print(portfolio_acoes.columns)\n",
    "\n",
    "# Gerando pesos aleatórios\n",
    "print(\"Pesos Aleatórios\")\n",
    "pesos = np.array(np.random.random(7))\n",
    "print(pesos)\n",
    "\n",
    "print(\"Rebalancear os pesos\")\n",
    "pesos = pesos / np.sum(pesos)\n",
    "print(pesos)\n",
    "\n",
    "# Retorno esperado\n",
    "print(\"Retorno esperado\")\n",
    "ret_esp = np.sum( (retorno_log.mean() * weights) * 245 )\n",
    "print(ret_esp)\n",
    "\n",
    "# Volatilidade esperada\n",
    "print(\"Volatilidade esperada\")\n",
    "vol_esp = np.sqrt( np.dot( pesos.T, np.dot( retorno_log.cov() * 245, pesos ) ) )\n",
    "print(vol_esp)\n",
    "\n",
    "# Taxa de Sharpe\n",
    "print(\"Sharpe Ratio\")\n",
    "sharpe = ret_esp / vol_esp\n",
    "print(sharpe)\n"
   ]
  },
  {
   "cell_type": "markdown",
   "metadata": {},
   "source": [
    "## Gerando milhares de portfólios"
   ]
  },
  {
   "cell_type": "code",
   "execution_count": 457,
   "metadata": {},
   "outputs": [
    {
     "data": {
      "text/plain": [
       "array([0.18355244, 0.08174146, 0.06651157, 0.04623709, 0.00046225,\n",
       "       0.32593133, 0.29556387])"
      ]
     },
     "execution_count": 457,
     "metadata": {},
     "output_type": "execute_result"
    }
   ],
   "source": [
    "num_portfolios = 10000\n",
    "pesos_arr = np.zeros((num_portfolios, len(portfolio_acoes.columns)))\n",
    "ret_esp_arr = np.zeros(num_portfolios)\n",
    "vol_esp_arr = np.zeros(num_portfolios)\n",
    "sharpe_arr = np.zeros(num_portfolios)\n",
    "\n",
    "for ind in range(num_portfolios):\n",
    "\n",
    "    # Pesos aleatórios\n",
    "    pesos = np.array(np.random.random(7))\n",
    "    pesos = pesos / np.sum(pesos)\n",
    "    pesos_arr[ind,:] = pesos\n",
    "\n",
    "    # Retorno esperado\n",
    "    ret_esp_arr[ind] = np.sum( (retorno_log.mean() * pesos) * 245 )\n",
    "\n",
    "    # Volatilidade esperada\n",
    "    vol_esp_arr[ind] = np.sqrt( np.dot( pesos.T, np.dot( retorno_log.cov() * 245, pesos ) ) )\n",
    "\n",
    "    # Taxa de Sharpe\n",
    "    sharpe_arr[ind] = (ret_esp_arr[ind] - 0.065) / vol_esp_arr[ind]\n",
    "\n",
    "pesos_arr[sharpe_arr.argmax(),:]"
   ]
  },
  {
   "cell_type": "code",
   "execution_count": 458,
   "metadata": {},
   "outputs": [
    {
     "data": {
      "text/plain": [
       "1.5308664306620055"
      ]
     },
     "execution_count": 458,
     "metadata": {},
     "output_type": "execute_result"
    }
   ],
   "source": [
    "sharpe_arr.max()"
   ]
  },
  {
   "cell_type": "code",
   "execution_count": 459,
   "metadata": {},
   "outputs": [
    {
     "data": {
      "text/plain": [
       "5319"
      ]
     },
     "execution_count": 459,
     "metadata": {},
     "output_type": "execute_result"
    }
   ],
   "source": [
    "sharpe_arr.argmax()"
   ]
  },
  {
   "cell_type": "code",
   "execution_count": 460,
   "metadata": {},
   "outputs": [
    {
     "data": {
      "text/plain": [
       "array([0.18355244, 0.08174146, 0.06651157, 0.04623709, 0.00046225,\n",
       "       0.32593133, 0.29556387])"
      ]
     },
     "execution_count": 460,
     "metadata": {},
     "output_type": "execute_result"
    }
   ],
   "source": [
    "pesos_arr[sharpe_arr.argmax(),:]"
   ]
  },
  {
   "cell_type": "code",
   "execution_count": null,
   "metadata": {},
   "outputs": [],
   "source": []
  }
 ],
 "metadata": {
  "kernelspec": {
   "display_name": "Python 3",
   "language": "python",
   "name": "python3"
  },
  "language_info": {
   "codemirror_mode": {
    "name": "ipython",
    "version": 3
   },
   "file_extension": ".py",
   "mimetype": "text/x-python",
   "name": "python",
   "nbconvert_exporter": "python",
   "pygments_lexer": "ipython3",
   "version": "3.7.3"
  }
 },
 "nbformat": 4,
 "nbformat_minor": 2
}

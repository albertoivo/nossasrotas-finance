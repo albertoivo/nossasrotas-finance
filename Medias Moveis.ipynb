{
 "cells": [
  {
   "cell_type": "markdown",
   "metadata": {},
   "source": [
    "# Médias Móveis"
   ]
  },
  {
   "cell_type": "markdown",
   "metadata": {},
   "source": [
    "`Média Móvel` é um indicador amplamente utilizado na análise técnica que ajuda a suavizar o preço da ação, filtrando o “ruído” das flutuações aleatórias de preços de curto prazo. É um indicador de seguimento de tendência, ou atraso, porque se baseia em preços passados.\n",
    "\n",
    "As duas médias móveis básicas e comumente usadas são a **média móvel simples (SMA - Simple Moving Average)**, que é a média simples dos preços de um ativo em um número definido de períodos de tempo, e a **média móvel exponencial (EMA - Exponencial Moving Average)**, que dá maior peso aos preços mais recentes.\n",
    "\n",
    "As aplicações mais comuns das médias móveis são identificar a direção da tendência e determinar os níveis de suporte e resistência. Embora as médias móveis sejam suficientemente úteis por si só, elas também formam a base para outros indicadores técnicos, como o **MACD** e as **Bandas de Bollinger** (os quais veremos adiante)."
   ]
  },
  {
   "cell_type": "code",
   "execution_count": null,
   "metadata": {},
   "outputs": [],
   "source": [
    "import numpy as np\n",
    "import pandas as pd\n",
    "import pandas_datareader.data as web\n",
    "import datetime\n",
    "import matplotlib.pyplot as plt\n",
    "\n",
    "%matplotlib inline"
   ]
  },
  {
   "cell_type": "code",
   "execution_count": null,
   "metadata": {},
   "outputs": [],
   "source": [
    "# Datasource\n",
    "ds_yahoo = 'yahoo'\n",
    "\n",
    "# Período de um ano atrás a partir de hoje\n",
    "last_year = datetime.datetime.now().year - 3\n",
    "start = datetime.datetime.now().replace(year=last_year)\n",
    "end = datetime.datetime.now()"
   ]
  },
  {
   "cell_type": "code",
   "execution_count": null,
   "metadata": {},
   "outputs": [],
   "source": [
    "ambev = web.DataReader('ABEV3.SA', ds_yahoo, start, end)"
   ]
  },
  {
   "cell_type": "code",
   "execution_count": null,
   "metadata": {},
   "outputs": [],
   "source": [
    "ambev.head()"
   ]
  },
  {
   "cell_type": "code",
   "execution_count": null,
   "metadata": {},
   "outputs": [],
   "source": [
    "ambev.tail()"
   ]
  },
  {
   "cell_type": "code",
   "execution_count": null,
   "metadata": {},
   "outputs": [],
   "source": [
    "ambev['9-SMA'] = ambev['Adj Close'].rolling(window = 9).mean()\n",
    "ambev['21-SMA'] = ambev['Adj Close'].rolling(window = 21).mean()\n",
    "ambev['200-SMA'] = ambev['Adj Close'].rolling(window = 200).mean()"
   ]
  },
  {
   "cell_type": "code",
   "execution_count": null,
   "metadata": {},
   "outputs": [],
   "source": [
    "ambev[['Adj Close', '200-SMA']].plot(figsize=(17,6));"
   ]
  },
  {
   "cell_type": "code",
   "execution_count": null,
   "metadata": {},
   "outputs": [],
   "source": [
    "ambev[['Adj Close', '9-SMA']].plot(figsize=(17,6));"
   ]
  },
  {
   "cell_type": "code",
   "execution_count": null,
   "metadata": {},
   "outputs": [],
   "source": [
    "ambev[['Adj Close', '9-SMA', '21-SMA']].plot(figsize=(17,8));"
   ]
  }
 ],
 "metadata": {
  "kernelspec": {
   "display_name": "Python 3",
   "language": "python",
   "name": "python3"
  },
  "language_info": {
   "codemirror_mode": {
    "name": "ipython",
    "version": 3
   },
   "file_extension": ".py",
   "mimetype": "text/x-python",
   "name": "python",
   "nbconvert_exporter": "python",
   "pygments_lexer": "ipython3",
   "version": "3.7.3"
  }
 },
 "nbformat": 4,
 "nbformat_minor": 2
}

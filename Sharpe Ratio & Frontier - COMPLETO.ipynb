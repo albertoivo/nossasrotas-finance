{
 "cells": [
  {
   "cell_type": "markdown",
   "metadata": {},
   "source": [
    "# Sharp Ratio & Frontier"
   ]
  },
  {
   "cell_type": "code",
   "execution_count": null,
   "metadata": {},
   "outputs": [],
   "source": [
    "import pandas_datareader.data as web\n",
    "import pandas as pd\n",
    "import numpy as np\n",
    "import datetime\n",
    "import matplotlib.pyplot as plt\n",
    "\n",
    "%matplotlib inline\n",
    "\n",
    "ds_yahoo = 'yahoo'\n",
    "\n",
    "last_year = datetime.datetime.now().year - 1\n",
    "start = datetime.datetime.now().replace(year=last_year)\n",
    "end = datetime.datetime.now()"
   ]
  },
  {
   "cell_type": "markdown",
   "metadata": {},
   "source": [
    "## Portfolio Atual"
   ]
  },
  {
   "cell_type": "markdown",
   "metadata": {},
   "source": [
    "### Pegando os dados na API do Yahoo"
   ]
  },
  {
   "cell_type": "code",
   "execution_count": null,
   "metadata": {},
   "outputs": [],
   "source": [
    "tickers = ['ITUB4.SA', 'ABEV3.SA', 'USIM5.SA', 'PMAM3.SA', 'FLRY3.SA', 'PSSA3.SA', 'TIET4.SA', 'LB', 'M']\n",
    "\n",
    "itau = web.DataReader(tickers[0], ds_yahoo, start, end)\n",
    "abev = web.DataReader(tickers[1], ds_yahoo, start, end)\n",
    "usim = web.DataReader(tickers[2], ds_yahoo, start, end)\n",
    "pmam = web.DataReader(tickers[3], ds_yahoo, start, end)\n",
    "flry = web.DataReader(tickers[4], ds_yahoo, start, end)\n",
    "pssa = web.DataReader(tickers[5], ds_yahoo, start, end)\n",
    "tiet = web.DataReader(tickers[6], ds_yahoo, start, end)\n",
    "lb = web.DataReader(tickers[7], ds_yahoo, start, end)\n",
    "m = web.DataReader(tickers[8], ds_yahoo, start, end)"
   ]
  },
  {
   "cell_type": "markdown",
   "metadata": {},
   "source": [
    "## Normalizando o retorno diário de cada ativo do portfólio"
   ]
  },
  {
   "cell_type": "code",
   "execution_count": null,
   "metadata": {},
   "outputs": [],
   "source": [
    "for acao_df in (itau, abev, usim, pmam, flry, pssa, tiet, lb, m):\n",
    "    acao_df['Retorno Normalizado'] = acao_df['Adj Close'] / acao_df.iloc[0]['Adj Close']"
   ]
  },
  {
   "cell_type": "markdown",
   "metadata": {},
   "source": [
    "## Alocando cada ativo com um peso específico"
   ]
  },
  {
   "cell_type": "code",
   "execution_count": null,
   "metadata": {},
   "outputs": [],
   "source": [
    "pesos = [.1111, .1111, .1111, .1111, .1111, .1111, .1111, .1111, .1111]\n",
    "\n",
    "for acao_df, alocacao in zip((itau, abev, usim, pmam, flry, pssa, tiet, lb, m), pesos):\n",
    "    acao_df['Alocacao'] = acao_df['Retorno Normalizado'] * alocacao"
   ]
  },
  {
   "cell_type": "markdown",
   "metadata": {},
   "source": [
    "## Posição de cada ativo no portfólio"
   ]
  },
  {
   "cell_type": "code",
   "execution_count": null,
   "metadata": {},
   "outputs": [],
   "source": [
    "for acao_df in (itau, abev, usim, pmam, flry, pssa, tiet, lb, m):\n",
    "    acao_df['Posicao'] = acao_df['Alocacao'] * 10000"
   ]
  },
  {
   "cell_type": "code",
   "execution_count": null,
   "metadata": {},
   "outputs": [],
   "source": [
    "todas_posicoes = [itau['Posicao'], abev['Posicao'], usim['Posicao'],\n",
    "                  pmam['Posicao'], flry['Posicao'], pssa['Posicao'],\n",
    "                  tiet['Posicao'], lb['Posicao'], m['Posicao']]\n",
    "\n",
    "# DF que terá colunas adicionadas como Total e Retorno Diário\n",
    "portfolio_posicao = pd.concat(todas_posicoes, axis=1)\n",
    "\n",
    "# DF que terá apenas as ações com o Adj Close column\n",
    "portfolio_acoes = pd.concat(todas_posicoes, axis=1)"
   ]
  },
  {
   "cell_type": "code",
   "execution_count": null,
   "metadata": {},
   "outputs": [],
   "source": [
    "portfolio_posicao.columns = ['ITUB', 'ABEV', 'USIM', 'PMAM', 'FLRY', 'PSSA', 'TIET', 'Limited Brands', 'Macys']\n",
    "portfolio_acoes.columns = ['ITUB', 'ABEV', 'USIM', 'PMAM', 'FLRY', 'PSSA', 'TIET', 'Limited Brands', 'Macys']"
   ]
  },
  {
   "cell_type": "markdown",
   "metadata": {},
   "source": [
    "## Desempenho da carteira"
   ]
  },
  {
   "cell_type": "code",
   "execution_count": null,
   "metadata": {},
   "outputs": [],
   "source": [
    "portfolio_posicao['Total'] = portfolio_posicao.sum(axis=1)"
   ]
  },
  {
   "cell_type": "code",
   "execution_count": null,
   "metadata": {},
   "outputs": [],
   "source": [
    "print('Investimento inicial:')\n",
    "print(portfolio_posicao['Total'][0])\n",
    "print('Investimento final:')\n",
    "print(round(portfolio_posicao['Total'][-1], 2))"
   ]
  },
  {
   "cell_type": "code",
   "execution_count": null,
   "metadata": {},
   "outputs": [],
   "source": [
    "portfolio_posicao['Total'].plot(figsize=(17,6))\n",
    "plt.title('Posição total do portfolio');"
   ]
  },
  {
   "cell_type": "code",
   "execution_count": null,
   "metadata": {},
   "outputs": [],
   "source": [
    "portfolio_acoes.plot(figsize=(17,6));"
   ]
  },
  {
   "cell_type": "markdown",
   "metadata": {},
   "source": [
    "## Desempenho da Carteira Normalizada"
   ]
  },
  {
   "cell_type": "code",
   "execution_count": null,
   "metadata": {},
   "outputs": [],
   "source": [
    "portfolio_normalizado = portfolio_acoes / portfolio_acoes.iloc[0]\n",
    "portfolio_normalizado.plot(figsize=(17,6));"
   ]
  },
  {
   "cell_type": "markdown",
   "metadata": {},
   "source": [
    "## Retorno diário da carteira"
   ]
  },
  {
   "cell_type": "code",
   "execution_count": null,
   "metadata": {},
   "outputs": [],
   "source": [
    "portfolio_posicao['Retorno Diario'] = portfolio_posicao['Total'].pct_change(1)"
   ]
  },
  {
   "cell_type": "code",
   "execution_count": null,
   "metadata": {},
   "outputs": [],
   "source": [
    "# Média de retorno diário\n",
    "round_ret_medio_diario = round(portfolio_posicao['Retorno Diario'].mean() * 100, 2)\n",
    "print('Essa carteira rende em média {}% diariamente'.format(round_ret_medio_diario))"
   ]
  },
  {
   "cell_type": "code",
   "execution_count": null,
   "metadata": {},
   "outputs": [],
   "source": [
    "# Desvio Padrão do retorno diário\n",
    "portfolio_posicao['Retorno Diario'].std()"
   ]
  },
  {
   "cell_type": "code",
   "execution_count": null,
   "metadata": {},
   "outputs": [],
   "source": [
    "# Gráfico de densidade\n",
    "portfolio_posicao['Retorno Diario'].plot(kind='kde', figsize=(4,5));"
   ]
  },
  {
   "cell_type": "markdown",
   "metadata": {},
   "source": [
    "## Retorno Total da Carteira"
   ]
  },
  {
   "cell_type": "code",
   "execution_count": null,
   "metadata": {},
   "outputs": [],
   "source": [
    "retorno_total_acumulado = 100 * (portfolio_posicao['Total'][-1] / portfolio_posicao['Total'][0] - 1)\n",
    "round_ret = round(retorno_total_acumulado, 3)\n",
    "print('Essa carteira rendeu {} %'.format(round_ret))"
   ]
  },
  {
   "cell_type": "code",
   "execution_count": null,
   "metadata": {},
   "outputs": [],
   "source": [
    "sharpe_ratio = (portfolio_posicao['Retorno Diario'].mean()) / portfolio_posicao['Retorno Diario'].std()\n",
    "sharpe_ratio"
   ]
  },
  {
   "cell_type": "code",
   "execution_count": null,
   "metadata": {},
   "outputs": [],
   "source": [
    "sharpe_ratio_ano = (245 ** 0.5) * sharpe_ratio\n",
    "sharpe_ratio_ano"
   ]
  },
  {
   "cell_type": "markdown",
   "metadata": {},
   "source": [
    "## Retorno diário"
   ]
  },
  {
   "cell_type": "code",
   "execution_count": null,
   "metadata": {},
   "outputs": [],
   "source": [
    "retorno_diario = portfolio_acoes.pct_change(1)"
   ]
  },
  {
   "cell_type": "markdown",
   "metadata": {},
   "source": [
    "## Gerando um único portfólio com posição atual"
   ]
  },
  {
   "cell_type": "code",
   "execution_count": null,
   "metadata": {},
   "outputs": [],
   "source": [
    "print(portfolio_acoes.columns)\n",
    "\n",
    "# Gerando pesos aleatórios\n",
    "print(\"Pesos Atuais\")\n",
    "print(pesos)\n",
    "\n",
    "print(\"Rebalancear os pesos\")\n",
    "pesos = pesos / np.sum(pesos)\n",
    "print(pesos)\n",
    "\n",
    "# Retorno esperado\n",
    "print(\"Retorno esperado\")\n",
    "ret_esp = np.sum( (retorno_diario.mean() * pesos) * 245 )\n",
    "print(ret_esp)\n",
    "\n",
    "# Volatilidade esperada\n",
    "print(\"Volatilidade esperada\")\n",
    "vol_esp = np.sqrt( np.dot( pesos.T, np.dot( retorno_diario.cov() * 245, pesos ) ) )\n",
    "print(vol_esp)\n",
    "\n",
    "# Taxa de Sharpe\n",
    "print(\"Sharpe Ratio\")\n",
    "sharpe = (ret_esp - 0.065) / vol_esp\n",
    "print(sharpe)\n"
   ]
  },
  {
   "cell_type": "markdown",
   "metadata": {},
   "source": [
    "## Gerando milhares de portfólios"
   ]
  },
  {
   "cell_type": "code",
   "execution_count": null,
   "metadata": {},
   "outputs": [],
   "source": [
    "num_portfolios = 50000\n",
    "pesos_arr = np.zeros((num_portfolios, len(portfolio_acoes.columns)))\n",
    "ret_esp_arr = np.zeros(num_portfolios)\n",
    "vol_esp_arr = np.zeros(num_portfolios)\n",
    "sharpe_arr = np.zeros(num_portfolios)\n",
    "\n",
    "for ind in range(num_portfolios):\n",
    "\n",
    "    # Pesos aleatórios\n",
    "    pesos = np.array(np.random.random(len(tickers)))\n",
    "    pesos = pesos / np.sum(pesos)\n",
    "    pesos_arr[ind,:] = pesos\n",
    "\n",
    "    # Retorno esperado\n",
    "    ret_esp_arr[ind] = np.sum( (retorno_diario.mean() * pesos) * 245 )\n",
    "\n",
    "    # Volatilidade esperada\n",
    "    vol_esp_arr[ind] = np.sqrt( np.dot( pesos.T, np.dot( retorno_diario.cov() * 245, pesos ) ) )\n",
    "\n",
    "    # Taxa de Sharpe\n",
    "    sharpe_arr[ind] = (ret_esp_arr[ind] - 0.065) / vol_esp_arr[ind]\n",
    "\n",
    "pesos_arr[sharpe_arr.argmax(),:]"
   ]
  },
  {
   "cell_type": "code",
   "execution_count": null,
   "metadata": {},
   "outputs": [],
   "source": [
    "sharpe_arr.max()"
   ]
  },
  {
   "cell_type": "code",
   "execution_count": null,
   "metadata": {},
   "outputs": [],
   "source": [
    "sharpe_arr.argmax()"
   ]
  },
  {
   "cell_type": "code",
   "execution_count": null,
   "metadata": {},
   "outputs": [],
   "source": [
    "pesos_arr[sharpe_arr.argmax(),:]"
   ]
  },
  {
   "cell_type": "markdown",
   "metadata": {},
   "source": [
    "### Gerando CSV"
   ]
  },
  {
   "cell_type": "code",
   "execution_count": null,
   "metadata": {},
   "outputs": [],
   "source": [
    "itau.to_csv('csv/ITUB4.csv')\n",
    "abev.to_csv('csv/ABEV3.csv')\n",
    "usim.to_csv('csv/USIM5.csv')\n",
    "pmam.to_csv('csv/PMAM3.csv')\n",
    "flry.to_csv('csv/FLRY3.csv')\n",
    "pssa.to_csv('csv/PSSA3.csv')\n",
    "tiet.to_csv('csv/TIET4.csv')"
   ]
  }
 ],
 "metadata": {
  "kernelspec": {
   "display_name": "Python 3",
   "language": "python",
   "name": "python3"
  },
  "language_info": {
   "codemirror_mode": {
    "name": "ipython",
    "version": 3
   },
   "file_extension": ".py",
   "mimetype": "text/x-python",
   "name": "python",
   "nbconvert_exporter": "python",
   "pygments_lexer": "ipython3",
   "version": "3.7.3"
  }
 },
 "nbformat": 4,
 "nbformat_minor": 2
}

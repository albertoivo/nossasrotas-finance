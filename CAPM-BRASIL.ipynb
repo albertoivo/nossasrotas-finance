{
 "cells": [
  {
   "cell_type": "markdown",
   "metadata": {},
   "source": [
    "# CAPM BRASIL"
   ]
  },
  {
   "cell_type": "code",
   "execution_count": null,
   "metadata": {},
   "outputs": [],
   "source": [
    "from scipy import stats\n",
    "import pandas_datareader.data as web\n",
    "import pandas as pd\n",
    "import numpy as np\n",
    "import datetime\n",
    "import matplotlib.pyplot as plt\n",
    "\n",
    "%matplotlib inline\n",
    "\n",
    "ds_yahoo = 'yahoo'\n",
    "\n",
    "last_year = datetime.datetime.now().year - 1\n",
    "start = datetime.datetime.now().replace(year=last_year)\n",
    "end = datetime.datetime.now()"
   ]
  },
  {
   "cell_type": "markdown",
   "metadata": {},
   "source": [
    "### IBOV ETF"
   ]
  },
  {
   "cell_type": "code",
   "execution_count": null,
   "metadata": {},
   "outputs": [],
   "source": [
    "ibov = web.DataReader('BOVA11.SA', ds_yahoo, start, end)"
   ]
  },
  {
   "cell_type": "markdown",
   "metadata": {},
   "source": [
    "### Carteira de Ações"
   ]
  },
  {
   "cell_type": "code",
   "execution_count": null,
   "metadata": {},
   "outputs": [],
   "source": [
    "tickers = ['ITUB4.SA', 'ABEV3.SA', 'USIM5.SA', 'PMAM3.SA',\n",
    "           'FLRY3.SA', 'PSSA3.SA', 'TIET4.SA', 'LEVE3.SA', 'WHRL3.SA']\n",
    "\n",
    "itau = web.DataReader(tickers[0], ds_yahoo, start, end)\n",
    "abev = web.DataReader(tickers[1], ds_yahoo, start, end)\n",
    "usim = web.DataReader(tickers[2], ds_yahoo, start, end)\n",
    "pmam = web.DataReader(tickers[3], ds_yahoo, start, end)\n",
    "flry = web.DataReader(tickers[4], ds_yahoo, start, end)\n",
    "pssa = web.DataReader(tickers[5], ds_yahoo, start, end)\n",
    "tiet = web.DataReader(tickers[6], ds_yahoo, start, end)\n",
    "leve = web.DataReader(tickers[7], ds_yahoo, start, end)\n",
    "whrl = web.DataReader(tickers[8], ds_yahoo, start, end)"
   ]
  },
  {
   "cell_type": "markdown",
   "metadata": {},
   "source": [
    "### Acumulado"
   ]
  },
  {
   "cell_type": "code",
   "execution_count": null,
   "metadata": {},
   "outputs": [],
   "source": [
    "ibov['Acumulado'] = ibov['Adj Close'] / ibov['Adj Close'].iloc[0]\n",
    "itau['Acumulado'] = itau['Adj Close'] / itau['Adj Close'].iloc[0]\n",
    "abev['Acumulado'] = abev['Adj Close'] / abev['Adj Close'].iloc[0]\n",
    "usim['Acumulado'] = usim['Adj Close'] / usim['Adj Close'].iloc[0]\n",
    "pmam['Acumulado'] = pmam['Adj Close'] / pmam['Adj Close'].iloc[0]\n",
    "flry['Acumulado'] = flry['Adj Close'] / flry['Adj Close'].iloc[0]\n",
    "pssa['Acumulado'] = pssa['Adj Close'] / pssa['Adj Close'].iloc[0]\n",
    "tiet['Acumulado'] = tiet['Adj Close'] / tiet['Adj Close'].iloc[0]\n",
    "leve['Acumulado'] = leve['Adj Close'] / leve['Adj Close'].iloc[0]\n",
    "whrl['Acumulado'] = whrl['Adj Close'] / whrl['Adj Close'].iloc[0]"
   ]
  },
  {
   "cell_type": "code",
   "execution_count": null,
   "metadata": {},
   "outputs": [],
   "source": [
    "ibov['Acumulado'].plot(label='IBOV', figsize=(17,6))\n",
    "itau['Acumulado'].plot(label='itau')\n",
    "abev['Acumulado'].plot(label='abev')\n",
    "usim['Acumulado'].plot(label='usim')\n",
    "pmam['Acumulado'].plot(label='pmam')\n",
    "flry['Acumulado'].plot(label='flry')\n",
    "pssa['Acumulado'].plot(label='pssa')\n",
    "tiet['Acumulado'].plot(label='tiet')\n",
    "leve['Acumulado'].plot(label='leve')\n",
    "whrl['Acumulado'].plot(label='whrl')\n",
    "plt.legend();"
   ]
  },
  {
   "cell_type": "markdown",
   "metadata": {},
   "source": [
    "# Calculando o Retorno Diário de cada ação"
   ]
  },
  {
   "cell_type": "code",
   "execution_count": null,
   "metadata": {},
   "outputs": [],
   "source": [
    "ibov['Retorno Diário'] = ibov['Adj Close'].pct_change(1)\n",
    "itau['Retorno Diário'] = itau['Adj Close'].pct_change(1)\n",
    "abev['Retorno Diário'] = abev['Adj Close'].pct_change(1)\n",
    "usim['Retorno Diário'] = usim['Adj Close'].pct_change(1)\n",
    "pmam['Retorno Diário'] = pmam['Adj Close'].pct_change(1)\n",
    "flry['Retorno Diário'] = flry['Adj Close'].pct_change(1)\n",
    "pssa['Retorno Diário'] = pssa['Adj Close'].pct_change(1)\n",
    "tiet['Retorno Diário'] = tiet['Adj Close'].pct_change(1)\n",
    "leve['Retorno Diário'] = leve['Adj Close'].pct_change(1)\n",
    "whrl['Retorno Diário'] = whrl['Adj Close'].pct_change(1)"
   ]
  },
  {
   "cell_type": "markdown",
   "metadata": {},
   "source": [
    "# Calculando o Retorno Diário de toda a Carteira"
   ]
  },
  {
   "cell_type": "markdown",
   "metadata": {},
   "source": [
    "### Normalizando o retorno diário de cada ativo do portfólio"
   ]
  },
  {
   "cell_type": "code",
   "execution_count": null,
   "metadata": {},
   "outputs": [],
   "source": [
    "for acao_df in (itau, abev, usim, pmam, flry, pssa, tiet, leve, whrl):\n",
    "    acao_df['Retorno Normalizado'] = acao_df['Adj Close'] / acao_df.iloc[0]['Adj Close']"
   ]
  },
  {
   "cell_type": "markdown",
   "metadata": {},
   "source": [
    "### Alocando cada ativo com um peso específico"
   ]
  },
  {
   "cell_type": "code",
   "execution_count": null,
   "metadata": {},
   "outputs": [],
   "source": [
    "# Pesos atuais\n",
    "pesos = [.0964, .0252, .1161, .2293, .0491, .0864, .1373, .2415, .0187]\n",
    "\n",
    "for acao_df, alocacao in zip((itau, abev, usim, pmam, flry, pssa, tiet, leve, whrl), pesos):\n",
    "    acao_df['Alocacao'] = acao_df['Retorno Normalizado'] * alocacao"
   ]
  },
  {
   "cell_type": "markdown",
   "metadata": {},
   "source": [
    "### Posição de cada ativo no portfólio"
   ]
  },
  {
   "cell_type": "code",
   "execution_count": null,
   "metadata": {},
   "outputs": [],
   "source": [
    "for acao_df in (itau, abev, usim, pmam, flry, pssa, tiet, leve, whrl):\n",
    "    acao_df['Posicao'] = acao_df['Alocacao'] * 70000"
   ]
  },
  {
   "cell_type": "code",
   "execution_count": null,
   "metadata": {},
   "outputs": [],
   "source": [
    "todas_posicoes = [itau['Posicao'], abev['Posicao'], usim['Posicao'],\n",
    "                  pmam['Posicao'], flry['Posicao'], pssa['Posicao'],\n",
    "                  tiet['Posicao'], leve['Posicao'], whrl['Posicao']]\n",
    "\n",
    "# DF que terá colunas adicionadas como Total e Retorno Diário\n",
    "portfolio_posicao = pd.concat(todas_posicoes, axis=1)"
   ]
  },
  {
   "cell_type": "code",
   "execution_count": null,
   "metadata": {},
   "outputs": [],
   "source": [
    "portfolio_posicao.columns = ['ITUB', 'ABEV', 'USIM', 'PMAM', 'FLRY', 'PSSA', 'TIET', 'LEVE', 'WHRL']"
   ]
  },
  {
   "cell_type": "code",
   "execution_count": null,
   "metadata": {},
   "outputs": [],
   "source": [
    "portfolio_posicao['Total'] = portfolio_posicao.sum(axis=1)"
   ]
  },
  {
   "cell_type": "code",
   "execution_count": null,
   "metadata": {},
   "outputs": [],
   "source": [
    "portfolio_posicao['Retorno Diário'] = portfolio_posicao['Total'].pct_change(1)"
   ]
  },
  {
   "cell_type": "markdown",
   "metadata": {},
   "source": [
    "### Carteira x IBOV"
   ]
  },
  {
   "cell_type": "code",
   "execution_count": null,
   "metadata": {},
   "outputs": [],
   "source": [
    "plt.scatter(portfolio_posicao['Retorno Diário'], ibov['Retorno Diário'], alpha=0.5);"
   ]
  },
  {
   "cell_type": "code",
   "execution_count": null,
   "metadata": {},
   "outputs": [],
   "source": [
    "beta_p, alpha_p, r_value_p, p_value_p, std_err_p = stats.linregress(portfolio_posicao['Retorno Diário'].iloc[1:],\n",
    "                                                                    ibov['Retorno Diário'].iloc[1:])"
   ]
  },
  {
   "cell_type": "code",
   "execution_count": null,
   "metadata": {},
   "outputs": [],
   "source": [
    "print('beta: {}'.format(beta_p))\n",
    "print('alpha: {}'.format(alpha_p))\n",
    "print('r_value: {}'.format(r_value_p))\n",
    "print('p_value: {}'.format(p_value_p))\n",
    "print('std_err: {}'.format(std_err_p))"
   ]
  },
  {
   "cell_type": "markdown",
   "metadata": {},
   "source": [
    "### Itau x IBOV"
   ]
  },
  {
   "cell_type": "code",
   "execution_count": null,
   "metadata": {},
   "outputs": [],
   "source": [
    "plt.scatter(itau['Retorno Diário'], ibov['Retorno Diário'], alpha=0.5);"
   ]
  },
  {
   "cell_type": "code",
   "execution_count": null,
   "metadata": {},
   "outputs": [],
   "source": [
    "beta_i, alpha_i, r_value_i, p_value_i, std_err_i = stats.linregress(itau['Retorno Diário'].iloc[1:],\n",
    "                                                                    ibov['Retorno Diário'].iloc[1:])"
   ]
  },
  {
   "cell_type": "code",
   "execution_count": null,
   "metadata": {},
   "outputs": [],
   "source": [
    "print('beta: {}'.format(beta_i))\n",
    "print('alpha: {}'.format(alpha_i))\n",
    "print('r_value: {}'.format(r_value_i))\n",
    "print('p_value: {}'.format(p_value_i))\n",
    "print('std_err: {}'.format(std_err_i))"
   ]
  },
  {
   "cell_type": "markdown",
   "metadata": {},
   "source": [
    "### Fleury x IBOV"
   ]
  },
  {
   "cell_type": "code",
   "execution_count": null,
   "metadata": {},
   "outputs": [],
   "source": [
    "plt.scatter(flry['Retorno Diário'], ibov['Retorno Diário'], alpha=0.5);"
   ]
  },
  {
   "cell_type": "code",
   "execution_count": null,
   "metadata": {},
   "outputs": [],
   "source": [
    "beta_f, alpha_f, r_value_f, p_value_f, std_err_f = stats.linregress(flry['Retorno Diário'].iloc[1:],\n",
    "                                                                    ibov['Retorno Diário'].iloc[1:])"
   ]
  },
  {
   "cell_type": "code",
   "execution_count": null,
   "metadata": {},
   "outputs": [],
   "source": [
    "print('beta: {}'.format(beta_f))\n",
    "print('alpha: {}'.format(alpha_f))\n",
    "print('r_value: {}'.format(r_value_f))\n",
    "print('p_value: {}'.format(p_value_f))\n",
    "print('std_err: {}'.format(std_err_f))"
   ]
  },
  {
   "cell_type": "markdown",
   "metadata": {},
   "source": [
    "### Fake Stock x IBOV"
   ]
  },
  {
   "cell_type": "code",
   "execution_count": null,
   "metadata": {},
   "outputs": [],
   "source": [
    "fake = ibov['Retorno Diário'].iloc[1:] + 0.002"
   ]
  },
  {
   "cell_type": "code",
   "execution_count": null,
   "metadata": {},
   "outputs": [],
   "source": [
    "plt.scatter(fake, ibov['Retorno Diário'].iloc[1:], alpha=0.5);"
   ]
  },
  {
   "cell_type": "code",
   "execution_count": null,
   "metadata": {},
   "outputs": [],
   "source": [
    "beta_fake, alpha_fake, r_value_fake, p_value_fake, std_err_fake = stats.linregress(fake,\n",
    "                                                                                   ibov['Retorno Diário'].iloc[1:])"
   ]
  },
  {
   "cell_type": "code",
   "execution_count": null,
   "metadata": {},
   "outputs": [],
   "source": [
    "print('beta: {}'.format(beta_fake))\n",
    "print('alpha: {}'.format(alpha_fake))\n",
    "print('r_value: {}'.format(r_value_fake))\n",
    "print('p_value: {}'.format(p_value_fake))\n",
    "print('std_err: {}'.format(std_err_fake))"
   ]
  }
 ],
 "metadata": {
  "kernelspec": {
   "display_name": "Python 3",
   "language": "python",
   "name": "python3"
  },
  "language_info": {
   "codemirror_mode": {
    "name": "ipython",
    "version": 3
   },
   "file_extension": ".py",
   "mimetype": "text/x-python",
   "name": "python",
   "nbconvert_exporter": "python",
   "pygments_lexer": "ipython3",
   "version": "3.7.3"
  }
 },
 "nbformat": 4,
 "nbformat_minor": 2
}

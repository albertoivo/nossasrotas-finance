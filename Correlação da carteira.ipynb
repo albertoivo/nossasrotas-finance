{
 "cells": [
  {
   "cell_type": "markdown",
   "metadata": {},
   "source": [
    "# Correlação da Carteira"
   ]
  },
  {
   "cell_type": "code",
   "execution_count": 1,
   "metadata": {},
   "outputs": [],
   "source": [
    "import pandas_datareader.data as web\n",
    "import matplotlib.pyplot as plt\n",
    "import seaborn as sns\n",
    "import pandas as pd\n",
    "import numpy as np\n",
    "import datetime\n",
    "\n",
    "%matplotlib inline\n",
    "\n",
    "ds_yahoo = 'yahoo'\n",
    "\n",
    "last_year = datetime.datetime.now().year - 1\n",
    "start = datetime.datetime.now().replace(year=last_year)\n",
    "end = datetime.datetime.now()"
   ]
  },
  {
   "cell_type": "markdown",
   "metadata": {},
   "source": [
    "### Carteira de ações"
   ]
  },
  {
   "cell_type": "code",
   "execution_count": 2,
   "metadata": {},
   "outputs": [],
   "source": [
    "tickers = ['ITUB4.SA', 'ABEV3.SA', 'USIM5.SA', 'FLRY3.SA','PSSA3.SA', 'TIET4.SA', 'LEVE3.SA', 'WHRL3.SA']\n",
    "# tickers = ['NOBL', 'IAU', 'QQQ', 'XSD']\n",
    "# tickers = ['AMZN', 'M', 'LB']"
   ]
  },
  {
   "cell_type": "markdown",
   "metadata": {},
   "source": [
    "### Calculando a variação diária de cada ação da carteira"
   ]
  },
  {
   "cell_type": "code",
   "execution_count": 3,
   "metadata": {},
   "outputs": [],
   "source": [
    "prices = pd.DataFrame()\n",
    "\n",
    "for b in tickers:\n",
    "    prices[b] = prices[b] = web.DataReader(b, ds_yahoo, start, end)['Adj Close']\n",
    "\n",
    "log_returns = np.log(prices / prices.shift(1))\n",
    "correlacao = log_returns.corr()"
   ]
  },
  {
   "cell_type": "markdown",
   "metadata": {},
   "source": [
    "### Mapa de calor"
   ]
  },
  {
   "cell_type": "code",
   "execution_count": 9,
   "metadata": {},
   "outputs": [
    {
     "data": {
      "image/png": "[encoded data removed]",
      "text/plain": [
       "<Figure size 720x720 with 2 Axes>"
      ]
     },
     "metadata": {},
     "output_type": "display_data"
    }
   ],
   "source": [
    "sns.set()\n",
    "\n",
    "f, ax = plt.subplots(figsize=(10, 10))\n",
    "cmap = sns.diverging_palette(220, 10, as_cmap=True)\n",
    "mask = np.zeros_like(correlacao, dtype=np.bool)\n",
    "mask[np.triu_indices_from(mask)] = True\n",
    "\n",
    "sns.heatmap(correlacao, mask=mask, cmap=cmap, vmax=1, center=0.5,\n",
    "            square=True, linewidths=.5, cbar_kws={\"shrink\": .5});"
   ]
  },
  {
   "cell_type": "markdown",
   "metadata": {},
   "source": [
    "### Tabela de correlação"
   ]
  },
  {
   "cell_type": "code",
   "execution_count": 5,
   "metadata": {
    "scrolled": true
   },
   "outputs": [
    {
     "data": {
      "text/html": [
       "<div>\n",
       "<style scoped>\n",
       "    .dataframe tbody tr th:only-of-type {\n",
       "        vertical-align: middle;\n",
       "    }\n",
       "\n",
       "    .dataframe tbody tr th {\n",
       "        vertical-align: top;\n",
       "    }\n",
       "\n",
       "    .dataframe thead th {\n",
       "        text-align: right;\n",
       "    }\n",
       "</style>\n",
       "<table border=\"1\" class=\"dataframe\">\n",
       "  <thead>\n",
       "    <tr style=\"text-align: right;\">\n",
       "      <th></th>\n",
       "      <th>ITUB4.SA</th>\n",
       "      <th>ABEV3.SA</th>\n",
       "      <th>USIM5.SA</th>\n",
       "      <th>FLRY3.SA</th>\n",
       "      <th>PSSA3.SA</th>\n",
       "      <th>TIET4.SA</th>\n",
       "      <th>LEVE3.SA</th>\n",
       "      <th>WHRL3.SA</th>\n",
       "    </tr>\n",
       "  </thead>\n",
       "  <tbody>\n",
       "    <tr>\n",
       "      <th>ITUB4.SA</th>\n",
       "      <td>1.000000</td>\n",
       "      <td>0.336545</td>\n",
       "      <td>0.302919</td>\n",
       "      <td>0.369185</td>\n",
       "      <td>0.259220</td>\n",
       "      <td>0.238312</td>\n",
       "      <td>0.201108</td>\n",
       "      <td>0.109358</td>\n",
       "    </tr>\n",
       "    <tr>\n",
       "      <th>ABEV3.SA</th>\n",
       "      <td>0.336545</td>\n",
       "      <td>1.000000</td>\n",
       "      <td>0.292056</td>\n",
       "      <td>0.296078</td>\n",
       "      <td>0.133668</td>\n",
       "      <td>0.181457</td>\n",
       "      <td>0.158397</td>\n",
       "      <td>0.126465</td>\n",
       "    </tr>\n",
       "    <tr>\n",
       "      <th>USIM5.SA</th>\n",
       "      <td>0.302919</td>\n",
       "      <td>0.292056</td>\n",
       "      <td>1.000000</td>\n",
       "      <td>0.320482</td>\n",
       "      <td>0.052955</td>\n",
       "      <td>0.246664</td>\n",
       "      <td>0.220791</td>\n",
       "      <td>0.131401</td>\n",
       "    </tr>\n",
       "    <tr>\n",
       "      <th>FLRY3.SA</th>\n",
       "      <td>0.369185</td>\n",
       "      <td>0.296078</td>\n",
       "      <td>0.320482</td>\n",
       "      <td>1.000000</td>\n",
       "      <td>0.223718</td>\n",
       "      <td>0.277002</td>\n",
       "      <td>0.201509</td>\n",
       "      <td>0.100055</td>\n",
       "    </tr>\n",
       "    <tr>\n",
       "      <th>PSSA3.SA</th>\n",
       "      <td>0.259220</td>\n",
       "      <td>0.133668</td>\n",
       "      <td>0.052955</td>\n",
       "      <td>0.223718</td>\n",
       "      <td>1.000000</td>\n",
       "      <td>0.198848</td>\n",
       "      <td>0.119440</td>\n",
       "      <td>0.104209</td>\n",
       "    </tr>\n",
       "    <tr>\n",
       "      <th>TIET4.SA</th>\n",
       "      <td>0.238312</td>\n",
       "      <td>0.181457</td>\n",
       "      <td>0.246664</td>\n",
       "      <td>0.277002</td>\n",
       "      <td>0.198848</td>\n",
       "      <td>1.000000</td>\n",
       "      <td>0.239116</td>\n",
       "      <td>0.187567</td>\n",
       "    </tr>\n",
       "    <tr>\n",
       "      <th>LEVE3.SA</th>\n",
       "      <td>0.201108</td>\n",
       "      <td>0.158397</td>\n",
       "      <td>0.220791</td>\n",
       "      <td>0.201509</td>\n",
       "      <td>0.119440</td>\n",
       "      <td>0.239116</td>\n",
       "      <td>1.000000</td>\n",
       "      <td>0.039142</td>\n",
       "    </tr>\n",
       "    <tr>\n",
       "      <th>WHRL3.SA</th>\n",
       "      <td>0.109358</td>\n",
       "      <td>0.126465</td>\n",
       "      <td>0.131401</td>\n",
       "      <td>0.100055</td>\n",
       "      <td>0.104209</td>\n",
       "      <td>0.187567</td>\n",
       "      <td>0.039142</td>\n",
       "      <td>1.000000</td>\n",
       "    </tr>\n",
       "  </tbody>\n",
       "</table>\n",
       "</div>"
      ],
      "text/plain": [
       "          ITUB4.SA  ABEV3.SA  USIM5.SA  FLRY3.SA  PSSA3.SA  TIET4.SA  \\\n",
       "ITUB4.SA  1.000000  0.336545  0.302919  0.369185  0.259220  0.238312   \n",
       "ABEV3.SA  0.336545  1.000000  0.292056  0.296078  0.133668  0.181457   \n",
       "USIM5.SA  0.302919  0.292056  1.000000  0.320482  0.052955  0.246664   \n",
       "FLRY3.SA  0.369185  0.296078  0.320482  1.000000  0.223718  0.277002   \n",
       "PSSA3.SA  0.259220  0.133668  0.052955  0.223718  1.000000  0.198848   \n",
       "TIET4.SA  0.238312  0.181457  0.246664  0.277002  0.198848  1.000000   \n",
       "LEVE3.SA  0.201108  0.158397  0.220791  0.201509  0.119440  0.239116   \n",
       "WHRL3.SA  0.109358  0.126465  0.131401  0.100055  0.104209  0.187567   \n",
       "\n",
       "          LEVE3.SA  WHRL3.SA  \n",
       "ITUB4.SA  0.201108  0.109358  \n",
       "ABEV3.SA  0.158397  0.126465  \n",
       "USIM5.SA  0.220791  0.131401  \n",
       "FLRY3.SA  0.201509  0.100055  \n",
       "PSSA3.SA  0.119440  0.104209  \n",
       "TIET4.SA  0.239116  0.187567  \n",
       "LEVE3.SA  1.000000  0.039142  \n",
       "WHRL3.SA  0.039142  1.000000  "
      ]
     },
     "execution_count": 5,
     "metadata": {},
     "output_type": "execute_result"
    }
   ],
   "source": [
    "correlacao"
   ]
  }
 ],
 "metadata": {
  "kernelspec": {
   "display_name": "Python 3",
   "language": "python",
   "name": "python3"
  },
  "language_info": {
   "codemirror_mode": {
    "name": "ipython",
    "version": 3
   },
   "file_extension": ".py",
   "mimetype": "text/x-python",
   "name": "python",
   "nbconvert_exporter": "python",
   "pygments_lexer": "ipython3",
   "version": "3.7.5"
  }
 },
 "nbformat": 4,
 "nbformat_minor": 2
}

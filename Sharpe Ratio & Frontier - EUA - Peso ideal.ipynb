{
 "cells": [
  {
   "cell_type": "markdown",
   "metadata": {},
   "source": [
    "# Sharp Ratio & Frontier"
   ]
  },
  {
   "cell_type": "code",
   "execution_count": null,
   "metadata": {},
   "outputs": [],
   "source": [
    "import pandas_datareader.data as web\n",
    "import pandas as pd\n",
    "import numpy as np\n",
    "import datetime\n",
    "import matplotlib.pyplot as plt\n",
    "\n",
    "%matplotlib inline\n",
    "\n",
    "ds_yahoo = 'yahoo'\n",
    "\n",
    "last_year = datetime.datetime.now().year - 15\n",
    "start = datetime.datetime.now().replace(year=last_year)\n",
    "end = datetime.datetime.now()"
   ]
  },
  {
   "cell_type": "markdown",
   "metadata": {},
   "source": [
    "## Portfolio Atual"
   ]
  },
  {
   "cell_type": "markdown",
   "metadata": {},
   "source": [
    "### Pegando os dados na API do Yahoo"
   ]
  },
  {
   "cell_type": "code",
   "execution_count": null,
   "metadata": {},
   "outputs": [],
   "source": [
    "tickers = ['LB', 'M', 'DIS', 'IAU']\n",
    "\n",
    "lb = web.DataReader(tickers[0], ds_yahoo, start, end)\n",
    "m = web.DataReader(tickers[1], ds_yahoo, start, end)\n",
    "dis = web.DataReader(tickers[2], ds_yahoo, start, end)\n",
    "iau = web.DataReader(tickers[3], ds_yahoo, start, end)"
   ]
  },
  {
   "cell_type": "markdown",
   "metadata": {},
   "source": [
    "## Normalizando o retorno diário de cada ativo do portfólio"
   ]
  },
  {
   "cell_type": "code",
   "execution_count": null,
   "metadata": {},
   "outputs": [],
   "source": [
    "for acao_df in (lb, m, dis, iau):\n",
    "    acao_df['Retorno Normalizado'] = acao_df['Adj Close'] / acao_df.iloc[0]['Adj Close']"
   ]
  },
  {
   "cell_type": "markdown",
   "metadata": {},
   "source": [
    "\n",
    "## Alocando cada ativo com um peso específico"
   ]
  },
  {
   "cell_type": "code",
   "execution_count": null,
   "metadata": {},
   "outputs": [],
   "source": [
    "pesos = [0.05134083, 0.02230933, 0.5678067 , 0.35854314]\n",
    "\n",
    "for acao_df, alocacao in zip((lb, m, dis, iau), pesos):\n",
    "    acao_df['Alocacao'] = acao_df['Retorno Normalizado'] * alocacao"
   ]
  },
  {
   "cell_type": "markdown",
   "metadata": {},
   "source": [
    "## Posição de cada ativo no portfólio"
   ]
  },
  {
   "cell_type": "code",
   "execution_count": null,
   "metadata": {},
   "outputs": [],
   "source": [
    "for acao_df in (lb, m, dis, iau):\n",
    "    acao_df['Posicao'] = acao_df['Alocacao'] * 10000"
   ]
  },
  {
   "cell_type": "code",
   "execution_count": null,
   "metadata": {},
   "outputs": [],
   "source": [
    "todas_posicoes = [lb['Posicao'], m['Posicao'], dis['Posicao'], iau['Posicao']]\n",
    "\n",
    "# DF que terá colunas adicionadas como Total e Retorno Diário\n",
    "portfolio_posicao = pd.concat(todas_posicoes, axis=1)\n",
    "\n",
    "# DF que terá apenas as ações com o Adj Close column\n",
    "portfolio_acoes = pd.concat(todas_posicoes, axis=1)"
   ]
  },
  {
   "cell_type": "code",
   "execution_count": null,
   "metadata": {},
   "outputs": [],
   "source": [
    "portfolio_posicao.columns = ['Limited Brands', 'Macys', 'Disney', 'IAU']\n",
    "portfolio_acoes.columns = ['Limited Brands', 'Macys', 'Disney', 'IAU']"
   ]
  },
  {
   "cell_type": "markdown",
   "metadata": {},
   "source": [
    "## Desempenho da carteira"
   ]
  },
  {
   "cell_type": "code",
   "execution_count": null,
   "metadata": {},
   "outputs": [],
   "source": [
    "portfolio_posicao['Total'] = portfolio_posicao.sum(axis=1)"
   ]
  },
  {
   "cell_type": "code",
   "execution_count": null,
   "metadata": {},
   "outputs": [],
   "source": [
    "print('Investimento inicial:')\n",
    "print(portfolio_posicao['Total'][0])\n",
    "print('Investimento final:')\n",
    "print(round(portfolio_posicao['Total'][-1], 2))"
   ]
  },
  {
   "cell_type": "code",
   "execution_count": null,
   "metadata": {},
   "outputs": [],
   "source": [
    "portfolio_posicao['Total'].plot(figsize=(17,6))\n",
    "plt.title('Posição total do portfolio');"
   ]
  },
  {
   "cell_type": "code",
   "execution_count": null,
   "metadata": {},
   "outputs": [],
   "source": [
    "portfolio_acoes.plot(figsize=(17,6));"
   ]
  },
  {
   "cell_type": "markdown",
   "metadata": {},
   "source": [
    "## Desempenho da Carteira Normalizada"
   ]
  },
  {
   "cell_type": "code",
   "execution_count": null,
   "metadata": {},
   "outputs": [],
   "source": [
    "portfolio_normalizado = portfolio_acoes / portfolio_acoes.iloc[0]\n",
    "portfolio_normalizado.plot(figsize=(17,6));"
   ]
  },
  {
   "cell_type": "markdown",
   "metadata": {},
   "source": [
    "## Retorno diário da carteira"
   ]
  },
  {
   "cell_type": "code",
   "execution_count": null,
   "metadata": {},
   "outputs": [],
   "source": [
    "portfolio_posicao['Retorno Diario'] = portfolio_posicao['Total'].pct_change(1)"
   ]
  },
  {
   "cell_type": "code",
   "execution_count": null,
   "metadata": {},
   "outputs": [],
   "source": [
    "# Média de retorno diário\n",
    "round_ret_medio_diario = round(portfolio_posicao['Retorno Diario'].mean() * 100, 2)\n",
    "print('Essa carteira rende em média {}% diariamente'.format(round_ret_medio_diario))"
   ]
  },
  {
   "cell_type": "code",
   "execution_count": null,
   "metadata": {},
   "outputs": [],
   "source": [
    "# Desvio Padrão do retorno diário\n",
    "portfolio_posicao['Retorno Diario'].std()"
   ]
  },
  {
   "cell_type": "code",
   "execution_count": null,
   "metadata": {},
   "outputs": [],
   "source": [
    "# Gráfico de densidade\n",
    "portfolio_posicao['Retorno Diario'].plot(kind='kde', figsize=(4,5));"
   ]
  },
  {
   "cell_type": "markdown",
   "metadata": {},
   "source": [
    "## Retorno Total da Carteira"
   ]
  },
  {
   "cell_type": "code",
   "execution_count": null,
   "metadata": {},
   "outputs": [],
   "source": [
    "retorno_total_acumulado = 100 * (portfolio_posicao['Total'][-1] / portfolio_posicao['Total'][0] - 1)\n",
    "round_ret = round(retorno_total_acumulado, 3)\n",
    "print('Essa carteira rendeu {} %'.format(round_ret))"
   ]
  },
  {
   "cell_type": "code",
   "execution_count": null,
   "metadata": {},
   "outputs": [],
   "source": [
    "sharpe_ratio = (portfolio_posicao['Retorno Diario'].mean()) / portfolio_posicao['Retorno Diario'].std()\n",
    "sharpe_ratio"
   ]
  },
  {
   "cell_type": "code",
   "execution_count": null,
   "metadata": {},
   "outputs": [],
   "source": [
    "sharpe_ratio_ano = (245 ** 0.5) * sharpe_ratio\n",
    "sharpe_ratio_ano"
   ]
  }
 ],
 "metadata": {
  "kernelspec": {
   "display_name": "Python 3",
   "language": "python",
   "name": "python3"
  },
  "language_info": {
   "codemirror_mode": {
    "name": "ipython",
    "version": 3
   },
   "file_extension": ".py",
   "mimetype": "text/x-python",
   "name": "python",
   "nbconvert_exporter": "python",
   "pygments_lexer": "ipython3",
   "version": "3.7.3"
  }
 },
 "nbformat": 4,
 "nbformat_minor": 2
}

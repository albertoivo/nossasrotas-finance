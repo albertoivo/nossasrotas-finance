{
 "cells": [
  {
   "cell_type": "markdown",
   "metadata": {},
   "source": [
    "# IFR"
   ]
  },
  {
   "cell_type": "markdown",
   "metadata": {},
   "source": [
    "IFR é um indicador que compara o número de vezes que o preço da ação fechou em queda com o número de vezes que fechou em alta num determinado período de tempo (que pode ser minutos, dias, semanas, etc).\n",
    "\n",
    "Geralmente, é calculado sobre 14 períodos de tempo.\n",
    "\n",
    "Como usar:\n",
    "\n",
    "O IFR é exibido como um oscilador (um gráfico de linha que se move entre dois extremos) em um intervalo de 0 a 100.\n",
    "\n",
    "`IFR > 70` - O ativo pode estar sobrecomprado portanto, pode haver uma indicação de venda.\n",
    "\n",
    "`IFR < 30` - O ativo pode estar sobrevendido portanto, pode haver uma indicação de compra.\n"
   ]
  },
  {
   "cell_type": "code",
   "execution_count": null,
   "metadata": {},
   "outputs": [],
   "source": [
    "from alpha_vantage.timeseries import TimeSeries\n",
    "from alpha_vantage.techindicators import TechIndicators\n",
    "import matplotlib.pyplot as plt"
   ]
  },
  {
   "cell_type": "code",
   "execution_count": null,
   "metadata": {},
   "outputs": [],
   "source": [
    "ts = TimeSeries(key='1VI1L6694V2Q3CFA', output_format='pandas')"
   ]
  },
  {
   "cell_type": "code",
   "execution_count": null,
   "metadata": {},
   "outputs": [],
   "source": [
    "daily, meta_daily = ts.get_daily('ITUB4.SA', outputsize='compact')"
   ]
  },
  {
   "cell_type": "code",
   "execution_count": null,
   "metadata": {},
   "outputs": [],
   "source": [
    "ti = TechIndicators(key='1VI1L6694V2Q3CFA', output_format='pandas')"
   ]
  },
  {
   "cell_type": "code",
   "execution_count": null,
   "metadata": {},
   "outputs": [],
   "source": [
    "ifr, meta_ifr = ti.get_rsi('ITUB4.SA', time_period=14)"
   ]
  },
  {
   "cell_type": "code",
   "execution_count": null,
   "metadata": {},
   "outputs": [],
   "source": [
    "ifr['2019-05-01':].plot(figsize=(17,6));"
   ]
  }
 ],
 "metadata": {
  "kernelspec": {
   "display_name": "Python 3",
   "language": "python",
   "name": "python3"
  },
  "language_info": {
   "codemirror_mode": {
    "name": "ipython",
    "version": 3
   },
   "file_extension": ".py",
   "mimetype": "text/x-python",
   "name": "python",
   "nbconvert_exporter": "python",
   "pygments_lexer": "ipython3",
   "version": "3.7.3"
  }
 },
 "nbformat": 4,
 "nbformat_minor": 2
}

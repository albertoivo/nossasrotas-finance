{
 "cells": [
  {
   "cell_type": "markdown",
   "metadata": {},
   "source": [
    "## Índices Mundiais"
   ]
  },
  {
   "cell_type": "code",
   "execution_count": null,
   "metadata": {},
   "outputs": [],
   "source": [
    "import pandas_datareader.data as web\n",
    "import pandas as pd\n",
    "import datetime\n",
    "import matplotlib.pyplot as plt\n",
    "\n",
    "%matplotlib inline\n",
    "\n",
    "ds_yahoo = 'yahoo'\n",
    "\n",
    "tickers = {'IBOV': '^BVSP', 'SP500': '^GSPC', 'Nasdaq': '^IXIC',\n",
    "           'DAX': '^GDAXI', 'DowJones': '^DJI', 'India': '^BSESN',\n",
    "           'Japao':'^N225'}\n",
    "\n",
    "last_year = datetime.datetime.now().year - 1\n",
    "start = datetime.datetime.now().replace(year=last_year)\n",
    "end = datetime.datetime.now()"
   ]
  },
  {
   "cell_type": "markdown",
   "metadata": {},
   "source": [
    "## Gerando um CSV a partir dos tickers acima"
   ]
  },
  {
   "cell_type": "code",
   "execution_count": null,
   "metadata": {},
   "outputs": [],
   "source": [
    "for k, v in tickers.items():\n",
    "    df = web.DataReader(v, ds_yahoo, start, end)\n",
    "    df.to_csv('csv/{}.csv'.format(k))"
   ]
  },
  {
   "cell_type": "markdown",
   "metadata": {},
   "source": [
    "## Lendo os CSVs"
   ]
  },
  {
   "cell_type": "code",
   "execution_count": null,
   "metadata": {},
   "outputs": [],
   "source": [
    "ibov_df = pd.read_csv('csv/IBOV.csv', index_col=0)\n",
    "sp500_df = pd.read_csv('csv/SP500.csv', index_col=0)\n",
    "nasdaq_df = pd.read_csv('csv/Nasdaq.csv', index_col=0)\n",
    "dax_df = pd.read_csv('csv/DAX.csv', index_col=0)\n",
    "dji_df = pd.read_csv('csv/DowJones.csv', index_col=0)\n",
    "india_df = pd.read_csv('csv/India.csv', index_col=0)\n",
    "japao_df = pd.read_csv('csv/Japao.csv', index_col=0)"
   ]
  },
  {
   "cell_type": "code",
   "execution_count": null,
   "metadata": {},
   "outputs": [],
   "source": [
    "ibov_df.describe()"
   ]
  },
  {
   "cell_type": "markdown",
   "metadata": {},
   "source": [
    "## Gerando um CSV com a coluna de Fechamento Ajustado de todos os índices"
   ]
  },
  {
   "cell_type": "code",
   "execution_count": null,
   "metadata": {},
   "outputs": [],
   "source": [
    "data = pd.DataFrame()\n",
    "\n",
    "for k, v in tickers.items():\n",
    "    data[k] = web.DataReader(v, ds_yahoo, start, end)['Adj Close']\n",
    "\n",
    "data.to_csv('csv/indices_adj_close.csv')"
   ]
  },
  {
   "cell_type": "code",
   "execution_count": null,
   "metadata": {},
   "outputs": [],
   "source": [
    "all_index_adj_close_df = pd.read_csv('csv/indices_adj_close.csv', index_col=0)"
   ]
  },
  {
   "cell_type": "markdown",
   "metadata": {},
   "source": [
    "## Gráfico do rendimento dos índices normalizados"
   ]
  },
  {
   "cell_type": "code",
   "execution_count": null,
   "metadata": {},
   "outputs": [],
   "source": [
    "df_normalizado = all_index_adj_close_df / all_index_adj_close_df.iloc[0] * 100\n",
    "df_normalizado.plot(figsize=(17,10));\n",
    "#df_normalizado.head()"
   ]
  },
  {
   "cell_type": "markdown",
   "metadata": {},
   "source": [
    "## Apenas índices estrangeiros"
   ]
  },
  {
   "cell_type": "code",
   "execution_count": null,
   "metadata": {},
   "outputs": [],
   "source": [
    "todos_indices_sem_ibov = all_index_adj_close_df.drop(labels='IBOV', axis=1, inplace=False)\n",
    "\n",
    "(todos_indices_sem_ibov / todos_indices_sem_ibov.iloc[0]).plot(figsize=(17,10));"
   ]
  },
  {
   "cell_type": "markdown",
   "metadata": {},
   "source": [
    "## Média anual de retorno dos índices"
   ]
  },
  {
   "cell_type": "code",
   "execution_count": null,
   "metadata": {},
   "outputs": [],
   "source": [
    "index_returns = (all_index_adj_close_df / all_index_adj_close_df.shift(1)) - 1\n",
    "annual_ind_returns = index_returns.mean() * 250 # média de pregões no ano\n",
    "round(annual_ind_returns * 100, 3)"
   ]
  },
  {
   "cell_type": "markdown",
   "metadata": {},
   "source": [
    "## Média anual de retorno apenas do IBOV"
   ]
  },
  {
   "cell_type": "code",
   "execution_count": null,
   "metadata": {},
   "outputs": [],
   "source": [
    "ibov_adj_close = all_index_adj_close_df.get('IBOV')\n",
    "ibov_return = (ibov_adj_close / ibov_adj_close.shift(1)) - 1\n",
    "annual_ibov_return = ibov_return.mean() * 246\n",
    "round(annual_ibov_return * 100, 3)"
   ]
  },
  {
   "cell_type": "markdown",
   "metadata": {},
   "source": [
    "## Correlação entre índices"
   ]
  },
  {
   "cell_type": "code",
   "execution_count": null,
   "metadata": {},
   "outputs": [],
   "source": [
    "import numpy as np\n",
    "import seaborn as sns"
   ]
  },
  {
   "cell_type": "code",
   "execution_count": null,
   "metadata": {},
   "outputs": [],
   "source": [
    "log_returns = np.log(all_index_adj_close_df / all_index_adj_close_df.shift(1))\n",
    "corr_index = log_returns.corr()"
   ]
  },
  {
   "cell_type": "code",
   "execution_count": null,
   "metadata": {},
   "outputs": [],
   "source": [
    "sns.set()\n",
    "\n",
    "f, ax = plt.subplots(figsize=(20, 7))\n",
    "cmap = sns.diverging_palette(220, 10, as_cmap=True)\n",
    "mask = np.zeros_like(corr_index, dtype=np.bool)\n",
    "mask[np.triu_indices_from(mask)] = True\n",
    "\n",
    "sns.heatmap(corr_index, mask=mask, cmap=cmap, vmax=1, center=0.5,\n",
    "            square=True, linewidths=.5, cbar_kws={\"shrink\": .5});"
   ]
  },
  {
   "cell_type": "code",
   "execution_count": null,
   "metadata": {},
   "outputs": [],
   "source": [
    "corr_index"
   ]
  },
  {
   "cell_type": "code",
   "execution_count": null,
   "metadata": {},
   "outputs": [],
   "source": []
  }
 ],
 "metadata": {
  "kernelspec": {
   "display_name": "Python 3",
   "language": "python",
   "name": "python3"
  },
  "language_info": {
   "codemirror_mode": {
    "name": "ipython",
    "version": 3
   },
   "file_extension": ".py",
   "mimetype": "text/x-python",
   "name": "python",
   "nbconvert_exporter": "python",
   "pygments_lexer": "ipython3",
   "version": "3.6.8"
  }
 },
 "nbformat": 4,
 "nbformat_minor": 2
}

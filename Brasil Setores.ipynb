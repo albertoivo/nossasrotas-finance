{
 "cells": [
  {
   "cell_type": "code",
   "execution_count": null,
   "metadata": {},
   "outputs": [],
   "source": [
    "import requests\n",
    "import numpy as np\n",
    "import pandas as pd\n",
    "import datetime\n",
    "import time\n",
    "import stocks\n",
    "import pandas_datareader as pdr\n",
    "import matplotlib.pyplot as plt\n",
    "\n",
    "%matplotlib inline\n",
    "\n",
    "API_URL = \"https://www.alphavantage.co/query\"\n",
    "\n",
    "ds_yahoo = 'yahoo'\n",
    "\n",
    "last_year = datetime.datetime.now().year - 10\n",
    "start = datetime.datetime.now().replace(year=last_year)\n",
    "end = datetime.datetime.now()\n",
    "\n",
    "index = ['30 dias', '1 ano', '3 anos', '5 anos', '10 anos']\n",
    "setor_df = pd.DataFrame()"
   ]
  },
  {
   "cell_type": "code",
   "execution_count": null,
   "metadata": {},
   "outputs": [],
   "source": [
    "def get_info(ticker):\n",
    "    stock = pdr.get_data_yahoo(ticker, start, end)\n",
    "    return stock['Adj Close']"
   ]
  },
  {
   "cell_type": "code",
   "execution_count": null,
   "metadata": {},
   "outputs": [],
   "source": [
    "def get_info_alpha(ticker):\n",
    "    data = {\n",
    "        \"function\": \"TIME_SERIES_DAILY_ADJUSTED\",\n",
    "        \"symbol\": ticker,\n",
    "        \"outputsize\": \"full\",\n",
    "        \"datatype\": \"json\",\n",
    "        \"apikey\": \"1VI1L6694V2Q3CFA\",\n",
    "    }\n",
    "    response = requests.get(API_URL, params=data)\n",
    "    ts = response.json()['Time Series (Daily)']\n",
    "    df = pd.DataFrame(ts).T\n",
    "    return df['5. adjusted close'].astype(float)"
   ]
  },
  {
   "cell_type": "code",
   "execution_count": null,
   "metadata": {},
   "outputs": [],
   "source": [
    "ret = pd.DataFrame()\n",
    "def get_means(df, arr, period):\n",
    "    for t in arr:\n",
    "        ret['Retorno Mensal ' + t] = df[t].pct_change(period)\n",
    "    try:\n",
    "        ret.drop('Mean', axis=1, inplace=True)\n",
    "    except:\n",
    "        pass\n",
    "    ret['Mean'] = round(ret.mean(axis=1)*100, 2)\n",
    "    return ret['Mean'].iloc[0]"
   ]
  },
  {
   "cell_type": "markdown",
   "metadata": {},
   "source": [
    "# Financeiros"
   ]
  },
  {
   "cell_type": "code",
   "execution_count": null,
   "metadata": {},
   "outputs": [],
   "source": [
    "arr = []\n",
    "for t in stocks.financeiros:\n",
    "    arr.append(get_info(t))\n",
    "    #time.sleep(12)\n",
    "\n",
    "df = pd.concat(arr, axis=1, sort=True)\n",
    "df = df[::-1]\n",
    "df.columns = stocks.financeiros\n",
    "\n",
    "mes = get_means(df, stocks.financeiros, -21)\n",
    "ano = get_means(df, stocks.financeiros, -21*12)\n",
    "anos_3 = get_means(df, stocks.financeiros, -21*12*3)\n",
    "anos_5 = get_means(df, stocks.financeiros, -21*12*5)\n",
    "anos_10 = get_means(df, stocks.financeiros, (len(df) - 1) * -1)\n",
    "\n",
    "print('Último mês:', mes, '%')\n",
    "print('Últimos 12 meses:', ano, '%')\n",
    "print('Últimos 3 anos:', anos_3, '%')\n",
    "print('Últimos 5 anos:', anos_5, '%')\n",
    "print('Últimos 10 anos:', anos_10, '%')\n",
    "\n",
    "periodos = [mes, ano, anos_3, anos_5, anos_10]\n",
    "data = pd.DataFrame(periodos, index=index, columns=['Financeiro'], )\n",
    "setor_df = pd.concat([setor_df, data], axis=1, sort=False)"
   ]
  },
  {
   "cell_type": "markdown",
   "metadata": {},
   "source": [
    "# Bens Industriais"
   ]
  },
  {
   "cell_type": "code",
   "execution_count": null,
   "metadata": {},
   "outputs": [],
   "source": [
    "arr = []\n",
    "for t in stocks.bens_industriais:\n",
    "    arr.append(get_info(t))\n",
    "    #time.sleep(12)\n",
    "\n",
    "df = pd.concat(arr, axis=1, sort=True)\n",
    "df = df[::-1]\n",
    "df.columns = stocks.bens_industriais\n",
    "\n",
    "mes = get_means(df, stocks.bens_industriais, -21)\n",
    "ano = get_means(df, stocks.bens_industriais, -21*12)\n",
    "anos_3 = get_means(df, stocks.bens_industriais, -21*12*3)\n",
    "anos_5 = get_means(df, stocks.bens_industriais, -21*12*5)\n",
    "anos_10 = get_means(df, stocks.bens_industriais, (len(df) - 1) * -1)\n",
    "\n",
    "print('Último mês:', mes, '%')\n",
    "print('Últimos 12 meses:', ano, '%')\n",
    "print('Últimos 3 anos:', anos_3, '%')\n",
    "print('Últimos 5 anos:', anos_5, '%')\n",
    "print('Últimos 10 anos:', anos_10, '%')\n",
    "\n",
    "periodos = [mes, ano, anos_3, anos_5, anos_10]\n",
    "data = pd.DataFrame(periodos, index=index, columns=['Bens Industriais'] )\n",
    "setor_df = pd.concat([setor_df, data], axis=1, sort=False)"
   ]
  },
  {
   "cell_type": "markdown",
   "metadata": {},
   "source": [
    "# Consumo não básico"
   ]
  },
  {
   "cell_type": "code",
   "execution_count": null,
   "metadata": {},
   "outputs": [],
   "source": [
    "arr = []\n",
    "for t in stocks.consumo_nao_basico:\n",
    "    arr.append(get_info(t))\n",
    "    #time.sleep(12)\n",
    "\n",
    "df = pd.concat(arr, axis=1, sort=True)\n",
    "df = df[::-1]\n",
    "df.columns = stocks.consumo_nao_basico\n",
    "\n",
    "mes = get_means(df, stocks.consumo_nao_basico, -21)\n",
    "ano = get_means(df, stocks.consumo_nao_basico, -21*12)\n",
    "anos_3 = get_means(df, stocks.consumo_nao_basico, -21*12*3)\n",
    "anos_5 = get_means(df, stocks.consumo_nao_basico, -21*12*5)\n",
    "anos_10 = get_means(df, stocks.consumo_nao_basico, (len(df) - 1) * -1)\n",
    "\n",
    "print('Último mês:', mes, '%')\n",
    "print('Últimos 12 meses:', ano, '%')\n",
    "print('Últimos 3 anos:', anos_3, '%')\n",
    "print('Últimos 5 anos:', anos_5, '%')\n",
    "print('Últimos 10 anos:', anos_10, '%')\n",
    "\n",
    "periodos = [mes, ano, anos_3, anos_5, anos_10]\n",
    "data = pd.DataFrame(periodos, index=index, columns=['Consumo Não Básico'] )\n",
    "setor_df = pd.concat([setor_df, data], axis=1, sort=False)"
   ]
  },
  {
   "cell_type": "markdown",
   "metadata": {},
   "source": [
    "# Consumo não Cíclico"
   ]
  },
  {
   "cell_type": "code",
   "execution_count": null,
   "metadata": {},
   "outputs": [],
   "source": [
    "arr = []\n",
    "for t in stocks.consumo_nao_ciclico:\n",
    "    arr.append(get_info(t))\n",
    "    #time.sleep(12)\n",
    "\n",
    "df = pd.concat(arr, axis=1, sort=True)\n",
    "df = df[::-1]\n",
    "df.columns = stocks.consumo_nao_ciclico\n",
    "\n",
    "mes = get_means(df, stocks.consumo_nao_ciclico, -21)\n",
    "ano = get_means(df, stocks.consumo_nao_ciclico, -250)\n",
    "anos_3 = get_means(df, stocks.consumo_nao_ciclico, -250*3)\n",
    "anos_5 = get_means(df, stocks.consumo_nao_ciclico, -250*5)\n",
    "anos_10 = get_means(df, stocks.consumo_nao_ciclico, (len(df) - 1) * -1)\n",
    "\n",
    "print('Último mês:', mes, '%')\n",
    "print('Últimos 12 meses:', ano, '%')\n",
    "print('Últimos 3 anos:', anos_3, '%')\n",
    "print('Últimos 5 anos:', anos_5, '%')\n",
    "print('Últimos 10 anos:', anos_10, '%')\n",
    "\n",
    "periodos = [mes, ano, anos_3, anos_5, anos_10]\n",
    "data = pd.DataFrame(periodos, index=index, columns=['Consumo Não Cíclico'] )\n",
    "setor_df = pd.concat([setor_df, data], axis=1, sort=False)"
   ]
  },
  {
   "cell_type": "markdown",
   "metadata": {},
   "source": [
    "# Consumo Cíclico"
   ]
  },
  {
   "cell_type": "code",
   "execution_count": null,
   "metadata": {},
   "outputs": [],
   "source": [
    "arr = []\n",
    "for t in stocks.consumo_ciclico:\n",
    "    arr.append(get_info(t))\n",
    "    #time.sleep(12)\n",
    "\n",
    "df = pd.concat(arr, axis=1, sort=True)\n",
    "df = df[::-1]\n",
    "df.columns = stocks.consumo_ciclico\n",
    "\n",
    "mes = get_means(df, stocks.consumo_ciclico, -21)\n",
    "ano = get_means(df, stocks.consumo_ciclico, -21*12)\n",
    "anos_3 = get_means(df, stocks.consumo_ciclico, -21*12*3)\n",
    "anos_5 = get_means(df, stocks.consumo_ciclico, -21*12*5)\n",
    "anos_10 = get_means(df, stocks.consumo_ciclico, (len(df) - 1) * -1)\n",
    "\n",
    "print('Último mês:', mes, '%')\n",
    "print('Últimos 12 meses:', ano, '%')\n",
    "print('Últimos 3 anos:', anos_3, '%')\n",
    "print('Últimos 5 anos:', anos_5, '%')\n",
    "print('Últimos 10 anos:', anos_10, '%')\n",
    "\n",
    "periodos = [mes, ano, anos_3, anos_5, anos_10]\n",
    "data = pd.DataFrame(periodos, index=index, columns=['Consumo Cíclico'] )\n",
    "setor_df = pd.concat([setor_df, data], axis=1, sort=False)"
   ]
  },
  {
   "cell_type": "markdown",
   "metadata": {},
   "source": [
    "# Diversos"
   ]
  },
  {
   "cell_type": "code",
   "execution_count": null,
   "metadata": {},
   "outputs": [],
   "source": [
    "arr = []\n",
    "for t in stocks.diversos:\n",
    "    arr.append(get_info(t))\n",
    "    #time.sleep(12)\n",
    "\n",
    "df = pd.concat(arr, axis=1, sort=True)\n",
    "df = df[::-1]\n",
    "df.columns = stocks.diversos\n",
    "\n",
    "mes = get_means(df, stocks.diversos, -21)\n",
    "ano = get_means(df, stocks.diversos, -21*12)\n",
    "anos_3 = get_means(df, stocks.diversos, -21*12*3)\n",
    "anos_5 = get_means(df, stocks.diversos, -21*12*5)\n",
    "anos_10 = get_means(df, stocks.diversos, (len(df) - 1) * -1)\n",
    "\n",
    "print('Último mês:', mes, '%')\n",
    "print('Últimos 12 meses:', ano, '%')\n",
    "print('Últimos 3 anos:', anos_3, '%')\n",
    "print('Últimos 5 anos:', anos_5, '%')\n",
    "print('Últimos 10 anos:', anos_10, '%')\n",
    "\n",
    "periodos = [mes, ano, anos_3, anos_5, anos_10]\n",
    "data = pd.DataFrame(periodos, index=index, columns=['Diversos'] )\n",
    "setor_df = pd.concat([setor_df, data], axis=1, sort=False)"
   ]
  },
  {
   "cell_type": "markdown",
   "metadata": {},
   "source": [
    "# Materiais Básicos"
   ]
  },
  {
   "cell_type": "code",
   "execution_count": null,
   "metadata": {},
   "outputs": [],
   "source": [
    "arr = []\n",
    "for t in stocks.materiais_basicos:\n",
    "    arr.append(get_info(t))\n",
    "    #time.sleep(12)\n",
    "\n",
    "df = pd.concat(arr, axis=1, sort=True)\n",
    "df = df[::-1]\n",
    "df.columns = stocks.materiais_basicos\n",
    "\n",
    "mes = get_means(df, stocks.materiais_basicos, -21)\n",
    "ano = get_means(df, stocks.materiais_basicos, -21*12)\n",
    "anos_3 = get_means(df, stocks.materiais_basicos, -21*12*3)\n",
    "anos_5 = get_means(df, stocks.materiais_basicos, -21*12*5)\n",
    "anos_10 = get_means(df, stocks.materiais_basicos, (len(df) - 1) * -1)\n",
    "\n",
    "print('Último mês:', mes, '%')\n",
    "print('Últimos 12 meses:', ano, '%')\n",
    "print('Últimos 3 anos:', anos_3, '%')\n",
    "print('Últimos 5 anos:', anos_5, '%')\n",
    "print('Últimos 10 anos:', anos_10, '%')\n",
    "\n",
    "periodos = [mes, ano, anos_3, anos_5, anos_10]\n",
    "data = pd.DataFrame(periodos, index=index, columns=['Materiais Básicos'] )\n",
    "setor_df = pd.concat([setor_df, data], axis=1, sort=False)"
   ]
  },
  {
   "cell_type": "markdown",
   "metadata": {},
   "source": [
    "# Petróleo"
   ]
  },
  {
   "cell_type": "code",
   "execution_count": null,
   "metadata": {},
   "outputs": [],
   "source": [
    "arr = []\n",
    "for t in stocks.petroleo:\n",
    "    arr.append(get_info(t))\n",
    "    #time.sleep(12)\n",
    "\n",
    "df = pd.concat(arr, axis=1, sort=True)\n",
    "df = df[::-1]\n",
    "df.columns = stocks.petroleo\n",
    "\n",
    "mes = get_means(df, stocks.petroleo, -21)\n",
    "ano = get_means(df, stocks.petroleo, -21*12)\n",
    "anos_3 = get_means(df, stocks.petroleo, -21*12*3)\n",
    "anos_5 = get_means(df, stocks.petroleo, -21*12*5)\n",
    "anos_10 = get_means(df, stocks.petroleo, (len(df) - 1) * -1)\n",
    "\n",
    "print('Último mês:', mes, '%')\n",
    "print('Últimos 12 meses:', ano, '%')\n",
    "print('Últimos 3 anos:', anos_3, '%')\n",
    "print('Últimos 5 anos:', anos_5, '%')\n",
    "print('Últimos 10 anos:', anos_10, '%')\n",
    "\n",
    "periodos = [mes, ano, anos_3, anos_5, anos_10]\n",
    "data = pd.DataFrame(periodos, index=index, columns=['Petróleo'] )\n",
    "setor_df = pd.concat([setor_df, data], axis=1, sort=False)"
   ]
  },
  {
   "cell_type": "markdown",
   "metadata": {},
   "source": [
    "# Saúde"
   ]
  },
  {
   "cell_type": "code",
   "execution_count": null,
   "metadata": {},
   "outputs": [],
   "source": [
    "arr = []\n",
    "for t in stocks.saude:\n",
    "    arr.append(get_info(t))\n",
    "    #time.sleep(12)\n",
    "\n",
    "df = pd.concat(arr, axis=1, sort=True)\n",
    "df = df[::-1]\n",
    "df.columns = stocks.saude\n",
    "\n",
    "mes = get_means(df, stocks.saude, -21)\n",
    "ano = get_means(df, stocks.saude, -21*12)\n",
    "anos_3 = get_means(df, stocks.saude, -21*12*3)\n",
    "anos_5 = get_means(df, stocks.saude, -21*12*5)\n",
    "anos_10 = get_means(df, stocks.saude, (len(df) - 1) * -1)\n",
    "\n",
    "print('Último mês:', mes, '%')\n",
    "print('Últimos 12 meses:', ano, '%')\n",
    "print('Últimos 3 anos:', anos_3, '%')\n",
    "print('Últimos 5 anos:', anos_5, '%')\n",
    "print('Últimos 10 anos:', anos_10, '%')\n",
    "\n",
    "periodos = [mes, ano, anos_3, anos_5, anos_10]\n",
    "data = pd.DataFrame(periodos, index=index, columns=['Saúde'] )\n",
    "setor_df = pd.concat([setor_df, data], axis=1, sort=False)"
   ]
  },
  {
   "cell_type": "markdown",
   "metadata": {},
   "source": [
    "# Telecomunicação"
   ]
  },
  {
   "cell_type": "code",
   "execution_count": null,
   "metadata": {},
   "outputs": [],
   "source": [
    "arr = []\n",
    "for t in stocks.telecomunicacao:\n",
    "    arr.append(get_info(t))\n",
    "    #time.sleep(12)\n",
    "\n",
    "df = pd.concat(arr, axis=1, sort=True)\n",
    "df = df[::-1]\n",
    "df.columns = stocks.telecomunicacao\n",
    "\n",
    "mes = get_means(df, stocks.telecomunicacao, -21)\n",
    "ano = get_means(df, stocks.telecomunicacao, -21*12)\n",
    "anos_3 = get_means(df, stocks.telecomunicacao, -21*12*3)\n",
    "anos_5 = get_means(df, stocks.telecomunicacao, -21*12*5)\n",
    "anos_10 = get_means(df, stocks.telecomunicacao, (len(df) - 1) * -1)\n",
    "\n",
    "print('Último mês:', mes, '%')\n",
    "print('Últimos 12 meses:', ano, '%')\n",
    "print('Últimos 3 anos:', anos_3, '%')\n",
    "print('Últimos 5 anos:', anos_5, '%')\n",
    "print('Últimos 10 anos:', anos_10, '%')\n",
    "\n",
    "periodos = [mes, ano, anos_3, anos_5, anos_10]\n",
    "data = pd.DataFrame(periodos, index=index, columns=['Telecomunicação'] )\n",
    "setor_df = pd.concat([setor_df, data], axis=1, sort=False)"
   ]
  },
  {
   "cell_type": "markdown",
   "metadata": {},
   "source": [
    "# Utilidade Pública"
   ]
  },
  {
   "cell_type": "code",
   "execution_count": null,
   "metadata": {},
   "outputs": [],
   "source": [
    "arr = []\n",
    "for t in stocks.utilidade_publica:\n",
    "    arr.append(get_info(t))\n",
    "    #time.sleep(12)\n",
    "\n",
    "df = pd.concat(arr, axis=1, sort=True)\n",
    "df = df[::-1]\n",
    "df.columns = stocks.utilidade_publica\n",
    "\n",
    "mes = get_means(df, stocks.utilidade_publica, -21)\n",
    "ano = get_means(df, stocks.utilidade_publica, -21*12)\n",
    "anos_3 = get_means(df, stocks.utilidade_publica, -21*12*3)\n",
    "anos_5 = get_means(df, stocks.utilidade_publica, -21*12*5)\n",
    "anos_10 = get_means(df, stocks.utilidade_publica, (len(df) - 1) * -1)\n",
    "\n",
    "print('Último mês:', mes, '%')\n",
    "print('Últimos 12 meses:', ano, '%')\n",
    "print('Últimos 3 anos:', anos_3, '%')\n",
    "print('Últimos 5 anos:', anos_5, '%')\n",
    "print('Últimos 10 anos:', anos_10, '%')\n",
    "\n",
    "periodos = [mes, ano, anos_3, anos_5, anos_10]\n",
    "data = pd.DataFrame(periodos, index=index, columns=['Utilidade Pública'] )\n",
    "setor_df = pd.concat([setor_df, data], axis=1, sort=False)"
   ]
  },
  {
   "cell_type": "code",
   "execution_count": null,
   "metadata": {},
   "outputs": [],
   "source": [
    "setor_df = setor_df.T\n",
    "setor_df"
   ]
  },
  {
   "cell_type": "code",
   "execution_count": null,
   "metadata": {},
   "outputs": [],
   "source": [
    "setor_df['30 dias'].plot(kind='bar', figsize=(10,4))\n",
    "plt.title('30 dias')\n",
    "plt.grid()"
   ]
  },
  {
   "cell_type": "code",
   "execution_count": null,
   "metadata": {},
   "outputs": [],
   "source": [
    "setor_df['1 ano'].plot(kind='bar', figsize=(10,4))\n",
    "plt.title('1 ano')\n",
    "plt.grid()"
   ]
  },
  {
   "cell_type": "code",
   "execution_count": null,
   "metadata": {},
   "outputs": [],
   "source": [
    "setor_df['3 anos'].plot(kind='bar', figsize=(10,4))\n",
    "plt.title('3 anos')\n",
    "plt.grid()"
   ]
  },
  {
   "cell_type": "code",
   "execution_count": null,
   "metadata": {},
   "outputs": [],
   "source": [
    "setor_df['5 anos'].plot(kind='bar', figsize=(10,4))\n",
    "plt.title('5 anos')\n",
    "plt.grid()"
   ]
  },
  {
   "cell_type": "code",
   "execution_count": null,
   "metadata": {},
   "outputs": [],
   "source": [
    "setor_df['10 anos'].plot(kind='bar', figsize=(10,4))\n",
    "plt.title('10 anos')\n",
    "plt.grid()"
   ]
  }
 ],
 "metadata": {
  "kernelspec": {
   "display_name": "Python 3",
   "language": "python",
   "name": "python3"
  },
  "language_info": {
   "codemirror_mode": {
    "name": "ipython",
    "version": 3
   },
   "file_extension": ".py",
   "mimetype": "text/x-python",
   "name": "python",
   "nbconvert_exporter": "python",
   "pygments_lexer": "ipython3",
   "version": "3.7.5"
  }
 },
 "nbformat": 4,
 "nbformat_minor": 2
}

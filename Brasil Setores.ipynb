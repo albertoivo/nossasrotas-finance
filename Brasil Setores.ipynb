{
 "cells": [
  {
   "cell_type": "code",
   "execution_count": 25,
   "metadata": {},
   "outputs": [],
   "source": [
    "import requests\n",
    "import numpy as np\n",
    "import pandas as pd\n",
    "import datetime\n",
    "import time\n",
    "import stocks\n",
    "import pandas_datareader as pdr\n",
    "import matplotlib.pyplot as plt\n",
    "\n",
    "%matplotlib inline\n",
    "\n",
    "API_URL = \"https://www.alphavantage.co/query\"\n",
    "\n",
    "ds_yahoo = 'yahoo'\n",
    "\n",
    "last_year = datetime.datetime.now().year - 10\n",
    "start = datetime.datetime.now().replace(year=last_year)\n",
    "end = datetime.datetime.now()\n",
    "\n",
    "index = ['30 dias', '1 ano', '3 anos', '5 anos', '10 anos']\n",
    "setor_df = pd.DataFrame()"
   ]
  },
  {
   "cell_type": "code",
   "execution_count": 2,
   "metadata": {},
   "outputs": [],
   "source": [
    "def get_info(ticker):\n",
    "    stock = pdr.get_data_yahoo(ticker, start, end)\n",
    "    return stock['Adj Close']"
   ]
  },
  {
   "cell_type": "code",
   "execution_count": 3,
   "metadata": {},
   "outputs": [],
   "source": [
    "def get_info_alpha(ticker):\n",
    "    data = {\n",
    "        \"function\": \"TIME_SERIES_DAILY_ADJUSTED\",\n",
    "        \"symbol\": ticker,\n",
    "        \"outputsize\": \"full\",\n",
    "        \"datatype\": \"json\",\n",
    "        \"apikey\": \"1VI1L6694V2Q3CFA\",\n",
    "    }\n",
    "    response = requests.get(API_URL, params=data)\n",
    "    ts = response.json()['Time Series (Daily)']\n",
    "    df = pd.DataFrame(ts).T\n",
    "    return df['5. adjusted close'].astype(float)"
   ]
  },
  {
   "cell_type": "code",
   "execution_count": 4,
   "metadata": {},
   "outputs": [],
   "source": [
    "ret = pd.DataFrame()\n",
    "def get_means(df, arr, period):\n",
    "    for t in arr:\n",
    "        ret['Retorno Mensal ' + t] = df[t].pct_change(period)\n",
    "    try:\n",
    "        ret.drop('Mean', axis=1, inplace=True)\n",
    "    except:\n",
    "        pass\n",
    "    ret['Mean'] = round(ret.mean(axis=1)*100, 2)\n",
    "    return ret['Mean'].iloc[0]"
   ]
  },
  {
   "cell_type": "markdown",
   "metadata": {},
   "source": [
    "# Financeiros"
   ]
  },
  {
   "cell_type": "code",
   "execution_count": 5,
   "metadata": {},
   "outputs": [
    {
     "name": "stdout",
     "output_type": "stream",
     "text": [
      "Último mês: 2.2 %\n",
      "Últimos 12 meses: 24.3 %\n",
      "Últimos 3 anos: 98.82 %\n",
      "Últimos 5 anos: 160.36 %\n",
      "Últimos 10 anos: nan %\n"
     ]
    }
   ],
   "source": [
    "arr = []\n",
    "for t in stocks.financeiros:\n",
    "    arr.append(get_info(t))\n",
    "    #time.sleep(12)\n",
    "\n",
    "df = pd.concat(arr, axis=1, sort=True)\n",
    "df = df[::-1]\n",
    "df.columns = stocks.financeiros\n",
    "\n",
    "mes = get_means(df, stocks.financeiros, -21)\n",
    "ano = get_means(df, stocks.financeiros, -21*12)\n",
    "anos_3 = get_means(df, stocks.financeiros, -21*12*3)\n",
    "anos_5 = get_means(df, stocks.financeiros, -21*12*5)\n",
    "anos_10 = get_means(df, stocks.financeiros, -21*12*10)\n",
    "\n",
    "print('Último mês:', mes, '%')\n",
    "print('Últimos 12 meses:', ano, '%')\n",
    "print('Últimos 3 anos:', anos_3, '%')\n",
    "print('Últimos 5 anos:', anos_5, '%')\n",
    "print('Últimos 10 anos:', anos_10, '%')\n",
    "\n",
    "periodos = [mes, ano, anos_3, anos_5, anos_10]\n",
    "data = pd.DataFrame(periodos, index=index, columns=['Finaneiro'], )\n",
    "setor_df = pd.concat([setor_df, data], axis=1, sort=False)"
   ]
  },
  {
   "cell_type": "markdown",
   "metadata": {},
   "source": [
    "# Bens Industriais"
   ]
  },
  {
   "cell_type": "code",
   "execution_count": 6,
   "metadata": {},
   "outputs": [
    {
     "name": "stdout",
     "output_type": "stream",
     "text": [
      "Último mês: 6.05 %\n",
      "Últimos 12 meses: 47.64 %\n",
      "Últimos 3 anos: 186.53 %\n",
      "Últimos 5 anos: 107.77 %\n",
      "Últimos 10 anos: nan %\n"
     ]
    }
   ],
   "source": [
    "arr = []\n",
    "for t in stocks.bens_industriais:\n",
    "    arr.append(get_info(t))\n",
    "    #time.sleep(12)\n",
    "\n",
    "df = pd.concat(arr, axis=1, sort=True)\n",
    "df = df[::-1]\n",
    "df.columns = stocks.bens_industriais\n",
    "\n",
    "\n",
    "mes = get_means(df, stocks.bens_industriais, -21)\n",
    "ano = get_means(df, stocks.bens_industriais, -21*12)\n",
    "anos_3 = get_means(df, stocks.bens_industriais, -21*12*3)\n",
    "anos_5 = get_means(df, stocks.bens_industriais, -21*12*5)\n",
    "anos_10 = get_means(df, stocks.bens_industriais, -21*12*10)\n",
    "\n",
    "print('Último mês:', mes, '%')\n",
    "print('Últimos 12 meses:', ano, '%')\n",
    "print('Últimos 3 anos:', anos_3, '%')\n",
    "print('Últimos 5 anos:', anos_5, '%')\n",
    "print('Últimos 10 anos:', anos_10, '%')\n",
    "\n",
    "periodos = [mes, ano, anos_3, anos_5, anos_10]\n",
    "data = pd.DataFrame(periodos, index=index, columns=['Bens Industriais'] )\n",
    "setor_df = pd.concat([setor_df, data], axis=1, sort=False)"
   ]
  },
  {
   "cell_type": "markdown",
   "metadata": {},
   "source": [
    "# Consumo não básico"
   ]
  },
  {
   "cell_type": "code",
   "execution_count": 7,
   "metadata": {},
   "outputs": [
    {
     "name": "stdout",
     "output_type": "stream",
     "text": [
      "Último mês: 1.35 %\n",
      "Últimos 12 meses: 89.51 %\n",
      "Últimos 3 anos: 69.36 %\n",
      "Últimos 5 anos: 66.53 %\n",
      "Últimos 10 anos: nan %\n"
     ]
    }
   ],
   "source": [
    "arr = []\n",
    "for t in stocks.consumo_nao_basico:\n",
    "    arr.append(get_info(t))\n",
    "    #time.sleep(12)\n",
    "\n",
    "df = pd.concat(arr, axis=1, sort=True)\n",
    "df = df[::-1]\n",
    "df.columns = stocks.consumo_nao_basico\n",
    "\n",
    "\n",
    "mes = get_means(df, stocks.consumo_nao_basico, -21)\n",
    "ano = get_means(df, stocks.consumo_nao_basico, -21*12)\n",
    "anos_3 = get_means(df, stocks.consumo_nao_basico, -21*12*3)\n",
    "anos_5 = get_means(df, stocks.consumo_nao_basico, -21*12*5)\n",
    "anos_10 = get_means(df, stocks.consumo_nao_basico, -21*12*10)\n",
    "\n",
    "print('Último mês:', mes, '%')\n",
    "print('Últimos 12 meses:', ano, '%')\n",
    "print('Últimos 3 anos:', anos_3, '%')\n",
    "print('Últimos 5 anos:', anos_5, '%')\n",
    "print('Últimos 10 anos:', anos_10, '%')\n",
    "\n",
    "periodos = [mes, ano, anos_3, anos_5, anos_10]\n",
    "data = pd.DataFrame(periodos, index=index, columns=['Consumo Não Básico'] )\n",
    "setor_df = pd.concat([setor_df, data], axis=1, sort=False)"
   ]
  },
  {
   "cell_type": "markdown",
   "metadata": {},
   "source": [
    "# Consumo não Cíclico"
   ]
  },
  {
   "cell_type": "code",
   "execution_count": 8,
   "metadata": {},
   "outputs": [
    {
     "name": "stdout",
     "output_type": "stream",
     "text": [
      "Último mês: 4.17 %\n",
      "Últimos 12 meses: 27.33 %\n",
      "Últimos 3 anos: 79.39 %\n",
      "Últimos 5 anos: 49.75 %\n",
      "Últimos 10 anos: nan %\n"
     ]
    }
   ],
   "source": [
    "arr = []\n",
    "for t in stocks.consumo_nao_ciclico:\n",
    "    arr.append(get_info(t))\n",
    "    #time.sleep(12)\n",
    "\n",
    "df = pd.concat(arr, axis=1, sort=True)\n",
    "df = df[::-1]\n",
    "df.columns = stocks.consumo_nao_ciclico\n",
    "\n",
    "mes = get_means(df, stocks.consumo_nao_ciclico, -21)\n",
    "ano = get_means(df, stocks.consumo_nao_ciclico, -21*12)\n",
    "anos_3 = get_means(df, stocks.consumo_nao_ciclico, -21*12*3)\n",
    "anos_5 = get_means(df, stocks.consumo_nao_ciclico, -21*12*5)\n",
    "anos_10 = get_means(df, stocks.consumo_nao_ciclico, -21*12*10)\n",
    "\n",
    "print('Último mês:', mes, '%')\n",
    "print('Últimos 12 meses:', ano, '%')\n",
    "print('Últimos 3 anos:', anos_3, '%')\n",
    "print('Últimos 5 anos:', anos_5, '%')\n",
    "print('Últimos 10 anos:', anos_10, '%')\n",
    "\n",
    "periodos = [mes, ano, anos_3, anos_5, anos_10]\n",
    "data = pd.DataFrame(periodos, index=index, columns=['Consumo Não Cíclico'] )\n",
    "setor_df = pd.concat([setor_df, data], axis=1, sort=False)"
   ]
  },
  {
   "cell_type": "markdown",
   "metadata": {},
   "source": [
    "# Consumo Cíclico"
   ]
  },
  {
   "cell_type": "code",
   "execution_count": 9,
   "metadata": {},
   "outputs": [
    {
     "name": "stdout",
     "output_type": "stream",
     "text": [
      "Último mês: 9.02 %\n",
      "Últimos 12 meses: 68.87 %\n",
      "Últimos 3 anos: 762.69 %\n",
      "Últimos 5 anos: 1310.25 %\n",
      "Últimos 10 anos: nan %\n"
     ]
    }
   ],
   "source": [
    "arr = []\n",
    "for t in stocks.consumo_ciclico:\n",
    "    arr.append(get_info(t))\n",
    "    #time.sleep(12)\n",
    "\n",
    "df = pd.concat(arr, axis=1, sort=True)\n",
    "df = df[::-1]\n",
    "df.columns = stocks.consumo_ciclico\n",
    "\n",
    "mes = get_means(df, stocks.consumo_ciclico, -21)\n",
    "ano = get_means(df, stocks.consumo_ciclico, -21*12)\n",
    "anos_3 = get_means(df, stocks.consumo_ciclico, -21*12*3)\n",
    "anos_5 = get_means(df, stocks.consumo_ciclico, -21*12*5)\n",
    "anos_10 = get_means(df, stocks.consumo_ciclico, -21*12*10)\n",
    "\n",
    "print('Último mês:', mes, '%')\n",
    "print('Últimos 12 meses:', ano, '%')\n",
    "print('Últimos 3 anos:', anos_3, '%')\n",
    "print('Últimos 5 anos:', anos_5, '%')\n",
    "print('Últimos 10 anos:', anos_10, '%')\n",
    "\n",
    "periodos = [mes, ano, anos_3, anos_5, anos_10]\n",
    "data = pd.DataFrame(periodos, index=index, columns=['Consumo Cíclico'] )\n",
    "setor_df = pd.concat([setor_df, data], axis=1, sort=False)"
   ]
  },
  {
   "cell_type": "markdown",
   "metadata": {},
   "source": [
    "# Diversos"
   ]
  },
  {
   "cell_type": "code",
   "execution_count": 10,
   "metadata": {},
   "outputs": [
    {
     "name": "stdout",
     "output_type": "stream",
     "text": [
      "Último mês: 7.84 %\n",
      "Últimos 12 meses: 22.73 %\n",
      "Últimos 3 anos: 84.03 %\n",
      "Últimos 5 anos: 108.46 %\n",
      "Últimos 10 anos: nan %\n"
     ]
    }
   ],
   "source": [
    "arr = []\n",
    "for t in stocks.diversos:\n",
    "    arr.append(get_info(t))\n",
    "    #time.sleep(12)\n",
    "\n",
    "df = pd.concat(arr, axis=1, sort=True)\n",
    "df = df[::-1]\n",
    "df.columns = stocks.diversos\n",
    "\n",
    "mes = get_means(df, stocks.diversos, -21)\n",
    "ano = get_means(df, stocks.diversos, -21*12)\n",
    "anos_3 = get_means(df, stocks.diversos, -21*12*3)\n",
    "anos_5 = get_means(df, stocks.diversos, -21*12*5)\n",
    "anos_10 = get_means(df, stocks.diversos, -21*12*10)\n",
    "\n",
    "print('Último mês:', mes, '%')\n",
    "print('Últimos 12 meses:', ano, '%')\n",
    "print('Últimos 3 anos:', anos_3, '%')\n",
    "print('Últimos 5 anos:', anos_5, '%')\n",
    "print('Últimos 10 anos:', anos_10, '%')\n",
    "\n",
    "periodos = [mes, ano, anos_3, anos_5, anos_10]\n",
    "data = pd.DataFrame(periodos, index=index, columns=['Diversos'] )\n",
    "setor_df = pd.concat([setor_df, data], axis=1, sort=False)"
   ]
  },
  {
   "cell_type": "markdown",
   "metadata": {},
   "source": [
    "# Materiais Básicos"
   ]
  },
  {
   "cell_type": "code",
   "execution_count": 11,
   "metadata": {},
   "outputs": [
    {
     "name": "stdout",
     "output_type": "stream",
     "text": [
      "Último mês: 7.96 %\n",
      "Últimos 12 meses: 6.47 %\n",
      "Últimos 3 anos: 58.84 %\n",
      "Últimos 5 anos: 93.19 %\n",
      "Últimos 10 anos: nan %\n"
     ]
    }
   ],
   "source": [
    "arr = []\n",
    "for t in stocks.materiais_basicos:\n",
    "    arr.append(get_info(t))\n",
    "    #time.sleep(12)\n",
    "\n",
    "df = pd.concat(arr, axis=1, sort=True)\n",
    "df = df[::-1]\n",
    "df.columns = stocks.materiais_basicos\n",
    "\n",
    "mes = get_means(df, stocks.materiais_basicos, -21)\n",
    "ano = get_means(df, stocks.materiais_basicos, -21*12)\n",
    "anos_3 = get_means(df, stocks.materiais_basicos, -21*12*3)\n",
    "anos_5 = get_means(df, stocks.materiais_basicos, -21*12*5)\n",
    "anos_10 = get_means(df, stocks.materiais_basicos, -21*12*10)\n",
    "\n",
    "print('Último mês:', mes, '%')\n",
    "print('Últimos 12 meses:', ano, '%')\n",
    "print('Últimos 3 anos:', anos_3, '%')\n",
    "print('Últimos 5 anos:', anos_5, '%')\n",
    "print('Últimos 10 anos:', anos_10, '%')\n",
    "\n",
    "periodos = [mes, ano, anos_3, anos_5, anos_10]\n",
    "data = pd.DataFrame(periodos, index=index, columns=['Materiais Básicos'] )\n",
    "setor_df = pd.concat([setor_df, data], axis=1, sort=False)"
   ]
  },
  {
   "cell_type": "markdown",
   "metadata": {},
   "source": [
    "# Petróleo"
   ]
  },
  {
   "cell_type": "code",
   "execution_count": 12,
   "metadata": {},
   "outputs": [
    {
     "name": "stdout",
     "output_type": "stream",
     "text": [
      "Último mês: 4.44 %\n",
      "Últimos 12 meses: 31.34 %\n",
      "Últimos 3 anos: 70.86 %\n",
      "Últimos 5 anos: 107.76 %\n",
      "Últimos 10 anos: nan %\n"
     ]
    }
   ],
   "source": [
    "arr = []\n",
    "for t in stocks.petroleo:\n",
    "    arr.append(get_info(t))\n",
    "    #time.sleep(12)\n",
    "\n",
    "df = pd.concat(arr, axis=1, sort=True)\n",
    "df = df[::-1]\n",
    "df.columns = stocks.petroleo\n",
    "\n",
    "mes = get_means(df, stocks.petroleo, -21)\n",
    "ano = get_means(df, stocks.petroleo, -21*12)\n",
    "anos_3 = get_means(df, stocks.petroleo, -21*12*3)\n",
    "anos_5 = get_means(df, stocks.petroleo, -21*12*5)\n",
    "anos_10 = get_means(df, stocks.petroleo, -21*12*10)\n",
    "\n",
    "print('Último mês:', mes, '%')\n",
    "print('Últimos 12 meses:', ano, '%')\n",
    "print('Últimos 3 anos:', anos_3, '%')\n",
    "print('Últimos 5 anos:', anos_5, '%')\n",
    "print('Últimos 10 anos:', anos_10, '%')\n",
    "\n",
    "periodos = [mes, ano, anos_3, anos_5, anos_10]\n",
    "data = pd.DataFrame(periodos, index=index, columns=['Petróleo'] )\n",
    "setor_df = pd.concat([setor_df, data], axis=1, sort=False)"
   ]
  },
  {
   "cell_type": "markdown",
   "metadata": {},
   "source": [
    "# Saúde"
   ]
  },
  {
   "cell_type": "code",
   "execution_count": 13,
   "metadata": {},
   "outputs": [
    {
     "name": "stdout",
     "output_type": "stream",
     "text": [
      "Último mês: -0.09 %\n",
      "Últimos 12 meses: 77.18 %\n",
      "Últimos 3 anos: 100.11 %\n",
      "Últimos 5 anos: 227.56 %\n",
      "Últimos 10 anos: nan %\n"
     ]
    }
   ],
   "source": [
    "arr = []\n",
    "for t in stocks.saude:\n",
    "    arr.append(get_info(t))\n",
    "    #time.sleep(12)\n",
    "\n",
    "df = pd.concat(arr, axis=1, sort=True)\n",
    "df = df[::-1]\n",
    "df.columns = stocks.saude\n",
    "\n",
    "mes = get_means(df, stocks.saude, -21)\n",
    "ano = get_means(df, stocks.saude, -21*12)\n",
    "anos_3 = get_means(df, stocks.saude, -21*12*3)\n",
    "anos_5 = get_means(df, stocks.saude, -21*12*5)\n",
    "anos_10 = get_means(df, stocks.saude, -21*12*10)\n",
    "\n",
    "print('Último mês:', mes, '%')\n",
    "print('Últimos 12 meses:', ano, '%')\n",
    "print('Últimos 3 anos:', anos_3, '%')\n",
    "print('Últimos 5 anos:', anos_5, '%')\n",
    "print('Últimos 10 anos:', anos_10, '%')\n",
    "\n",
    "periodos = [mes, ano, anos_3, anos_5, anos_10]\n",
    "data = pd.DataFrame(periodos, index=index, columns=['Saúde'] )\n",
    "setor_df = pd.concat([setor_df, data], axis=1, sort=False)"
   ]
  },
  {
   "cell_type": "markdown",
   "metadata": {},
   "source": [
    "# Telecomunicação"
   ]
  },
  {
   "cell_type": "code",
   "execution_count": 14,
   "metadata": {},
   "outputs": [
    {
     "name": "stdout",
     "output_type": "stream",
     "text": [
      "Último mês: 9.47 %\n",
      "Últimos 12 meses: 29.5 %\n",
      "Últimos 3 anos: 72.19 %\n",
      "Últimos 5 anos: 48.66 %\n",
      "Últimos 10 anos: nan %\n"
     ]
    }
   ],
   "source": [
    "arr = []\n",
    "for t in stocks.telecomunicacao:\n",
    "    arr.append(get_info(t))\n",
    "    #time.sleep(12)\n",
    "\n",
    "df = pd.concat(arr, axis=1, sort=True)\n",
    "df = df[::-1]\n",
    "df.columns = stocks.telecomunicacao\n",
    "\n",
    "mes = get_means(df, stocks.telecomunicacao, -21)\n",
    "ano = get_means(df, stocks.telecomunicacao, -21*12)\n",
    "anos_3 = get_means(df, stocks.telecomunicacao, -21*12*3)\n",
    "anos_5 = get_means(df, stocks.telecomunicacao, -21*12*5)\n",
    "anos_10 = get_means(df, stocks.telecomunicacao, -21*12*10)\n",
    "\n",
    "print('Último mês:', mes, '%')\n",
    "print('Últimos 12 meses:', ano, '%')\n",
    "print('Últimos 3 anos:', anos_3, '%')\n",
    "print('Últimos 5 anos:', anos_5, '%')\n",
    "print('Últimos 10 anos:', anos_10, '%')\n",
    "\n",
    "periodos = [mes, ano, anos_3, anos_5, anos_10]\n",
    "data = pd.DataFrame(periodos, index=index, columns=['Telecomunicação'] )\n",
    "setor_df = pd.concat([setor_df, data], axis=1, sort=False)"
   ]
  },
  {
   "cell_type": "markdown",
   "metadata": {},
   "source": [
    "# Utilidade Pública"
   ]
  },
  {
   "cell_type": "code",
   "execution_count": 15,
   "metadata": {},
   "outputs": [
    {
     "name": "stdout",
     "output_type": "stream",
     "text": [
      "Último mês: 2.17 %\n",
      "Últimos 12 meses: 47.68 %\n",
      "Últimos 3 anos: 84.01 %\n",
      "Últimos 5 anos: 268.64 %\n",
      "Últimos 10 anos: nan %\n"
     ]
    }
   ],
   "source": [
    "arr = []\n",
    "for t in stocks.utilidade_publica:\n",
    "    arr.append(get_info(t))\n",
    "    #time.sleep(12)\n",
    "\n",
    "df = pd.concat(arr, axis=1, sort=True)\n",
    "df = df[::-1]\n",
    "df.columns = stocks.utilidade_publica\n",
    "\n",
    "mes = get_means(df, stocks.utilidade_publica, -21)\n",
    "ano = get_means(df, stocks.utilidade_publica, -21*12)\n",
    "anos_3 = get_means(df, stocks.utilidade_publica, -21*12*3)\n",
    "anos_5 = get_means(df, stocks.utilidade_publica, -21*12*5)\n",
    "anos_10 = get_means(df, stocks.utilidade_publica, -21*12*10)\n",
    "\n",
    "print('Último mês:', mes, '%')\n",
    "print('Últimos 12 meses:', ano, '%')\n",
    "print('Últimos 3 anos:', anos_3, '%')\n",
    "print('Últimos 5 anos:', anos_5, '%')\n",
    "print('Últimos 10 anos:', anos_10, '%')\n",
    "\n",
    "periodos = [mes, ano, anos_3, anos_5, anos_10]\n",
    "data = pd.DataFrame(periodos, index=index, columns=['Utilidade Pública'] )\n",
    "setor_df = pd.concat([setor_df, data], axis=1, sort=False)"
   ]
  },
  {
   "cell_type": "code",
   "execution_count": 28,
   "metadata": {},
   "outputs": [
    {
     "data": {
      "text/html": [
       "<div>\n",
       "<style scoped>\n",
       "    .dataframe tbody tr th:only-of-type {\n",
       "        vertical-align: middle;\n",
       "    }\n",
       "\n",
       "    .dataframe tbody tr th {\n",
       "        vertical-align: top;\n",
       "    }\n",
       "\n",
       "    .dataframe thead th {\n",
       "        text-align: right;\n",
       "    }\n",
       "</style>\n",
       "<table border=\"1\" class=\"dataframe\">\n",
       "  <thead>\n",
       "    <tr style=\"text-align: right;\">\n",
       "      <th></th>\n",
       "      <th>30 dias</th>\n",
       "      <th>1 ano</th>\n",
       "      <th>3 anos</th>\n",
       "      <th>5 anos</th>\n",
       "      <th>10 anos</th>\n",
       "    </tr>\n",
       "  </thead>\n",
       "  <tbody>\n",
       "    <tr>\n",
       "      <th>Finaneiro</th>\n",
       "      <td>2.20</td>\n",
       "      <td>24.30</td>\n",
       "      <td>98.82</td>\n",
       "      <td>160.36</td>\n",
       "      <td>NaN</td>\n",
       "    </tr>\n",
       "    <tr>\n",
       "      <th>Bens Industriais</th>\n",
       "      <td>6.05</td>\n",
       "      <td>47.64</td>\n",
       "      <td>186.53</td>\n",
       "      <td>107.77</td>\n",
       "      <td>NaN</td>\n",
       "    </tr>\n",
       "    <tr>\n",
       "      <th>Consumo Não Básico</th>\n",
       "      <td>1.35</td>\n",
       "      <td>89.51</td>\n",
       "      <td>69.36</td>\n",
       "      <td>66.53</td>\n",
       "      <td>NaN</td>\n",
       "    </tr>\n",
       "    <tr>\n",
       "      <th>Consumo Não Cíclico</th>\n",
       "      <td>4.17</td>\n",
       "      <td>27.33</td>\n",
       "      <td>79.39</td>\n",
       "      <td>49.75</td>\n",
       "      <td>NaN</td>\n",
       "    </tr>\n",
       "    <tr>\n",
       "      <th>Consumo Cíclico</th>\n",
       "      <td>9.02</td>\n",
       "      <td>68.87</td>\n",
       "      <td>762.69</td>\n",
       "      <td>1310.25</td>\n",
       "      <td>NaN</td>\n",
       "    </tr>\n",
       "    <tr>\n",
       "      <th>Diversos</th>\n",
       "      <td>7.84</td>\n",
       "      <td>22.73</td>\n",
       "      <td>84.03</td>\n",
       "      <td>108.46</td>\n",
       "      <td>NaN</td>\n",
       "    </tr>\n",
       "    <tr>\n",
       "      <th>Materiais Básicos</th>\n",
       "      <td>7.96</td>\n",
       "      <td>6.47</td>\n",
       "      <td>58.84</td>\n",
       "      <td>93.19</td>\n",
       "      <td>NaN</td>\n",
       "    </tr>\n",
       "    <tr>\n",
       "      <th>Petróleo</th>\n",
       "      <td>4.44</td>\n",
       "      <td>31.34</td>\n",
       "      <td>70.86</td>\n",
       "      <td>107.76</td>\n",
       "      <td>NaN</td>\n",
       "    </tr>\n",
       "    <tr>\n",
       "      <th>Saúde</th>\n",
       "      <td>-0.09</td>\n",
       "      <td>77.18</td>\n",
       "      <td>100.11</td>\n",
       "      <td>227.56</td>\n",
       "      <td>NaN</td>\n",
       "    </tr>\n",
       "    <tr>\n",
       "      <th>Telecomunicação</th>\n",
       "      <td>9.47</td>\n",
       "      <td>29.50</td>\n",
       "      <td>72.19</td>\n",
       "      <td>48.66</td>\n",
       "      <td>NaN</td>\n",
       "    </tr>\n",
       "    <tr>\n",
       "      <th>Utilidade Pública</th>\n",
       "      <td>2.17</td>\n",
       "      <td>47.68</td>\n",
       "      <td>84.01</td>\n",
       "      <td>268.64</td>\n",
       "      <td>NaN</td>\n",
       "    </tr>\n",
       "  </tbody>\n",
       "</table>\n",
       "</div>"
      ],
      "text/plain": [
       "                     30 dias  1 ano  3 anos   5 anos  10 anos\n",
       "Finaneiro               2.20  24.30   98.82   160.36      NaN\n",
       "Bens Industriais        6.05  47.64  186.53   107.77      NaN\n",
       "Consumo Não Básico      1.35  89.51   69.36    66.53      NaN\n",
       "Consumo Não Cíclico     4.17  27.33   79.39    49.75      NaN\n",
       "Consumo Cíclico         9.02  68.87  762.69  1310.25      NaN\n",
       "Diversos                7.84  22.73   84.03   108.46      NaN\n",
       "Materiais Básicos       7.96   6.47   58.84    93.19      NaN\n",
       "Petróleo                4.44  31.34   70.86   107.76      NaN\n",
       "Saúde                  -0.09  77.18  100.11   227.56      NaN\n",
       "Telecomunicação         9.47  29.50   72.19    48.66      NaN\n",
       "Utilidade Pública       2.17  47.68   84.01   268.64      NaN"
      ]
     },
     "execution_count": 28,
     "metadata": {},
     "output_type": "execute_result"
    }
   ],
   "source": [
    "setor_df = setor_df.T\n",
    "setor_df"
   ]
  },
  {
   "cell_type": "code",
   "execution_count": 30,
   "metadata": {},
   "outputs": [
    {
     "data": {
      "image/png": "[encoded data removed]",
      "text/plain": [
       "<Figure size 720x288 with 1 Axes>"
      ]
     },
     "metadata": {
      "needs_background": "light"
     },
     "output_type": "display_data"
    }
   ],
   "source": [
    "setor_df['30 dias'].plot(kind='bar', figsize=(10,4))\n",
    "plt.title('30 dias')\n",
    "plt.grid()"
   ]
  },
  {
   "cell_type": "code",
   "execution_count": 29,
   "metadata": {},
   "outputs": [
    {
     "data": {
      "image/png": "[encoded data removed]",
      "text/plain": [
       "<Figure size 720x288 with 1 Axes>"
      ]
     },
     "metadata": {
      "needs_background": "light"
     },
     "output_type": "display_data"
    }
   ],
   "source": [
    "setor_df['1 ano'].plot(kind='bar', figsize=(10,4))\n",
    "plt.title('1 ano')\n",
    "plt.grid()"
   ]
  },
  {
   "cell_type": "code",
   "execution_count": 31,
   "metadata": {},
   "outputs": [
    {
     "data": {
      "image/png": "[encoded data removed]",
      "text/plain": [
       "<Figure size 720x288 with 1 Axes>"
      ]
     },
     "metadata": {
      "needs_background": "light"
     },
     "output_type": "display_data"
    }
   ],
   "source": [
    "setor_df['3 anos'].plot(kind='bar', figsize=(10,4))\n",
    "plt.title('3 anos')\n",
    "plt.grid()"
   ]
  },
  {
   "cell_type": "code",
   "execution_count": 36,
   "metadata": {},
   "outputs": [
    {
     "data": {
      "image/png": "[encoded data removed]",
      "text/plain": [
       "<Figure size 720x288 with 1 Axes>"
      ]
     },
     "metadata": {
      "needs_background": "light"
     },
     "output_type": "display_data"
    }
   ],
   "source": [
    "setor_df.drop('Consumo Cíclico')['5 anos'].plot(kind='bar', figsize=(10,4))\n",
    "plt.title('5 anos')\n",
    "plt.grid()"
   ]
  }
 ],
 "metadata": {
  "kernelspec": {
   "display_name": "Python 3",
   "language": "python",
   "name": "python3"
  },
  "language_info": {
   "codemirror_mode": {
    "name": "ipython",
    "version": 3
   },
   "file_extension": ".py",
   "mimetype": "text/x-python",
   "name": "python",
   "nbconvert_exporter": "python",
   "pygments_lexer": "ipython3",
   "version": "3.7.5"
  }
 },
 "nbformat": 4,
 "nbformat_minor": 2
}

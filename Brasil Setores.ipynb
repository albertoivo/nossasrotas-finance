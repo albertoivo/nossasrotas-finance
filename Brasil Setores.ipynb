{
 "cells": [
  {
   "cell_type": "code",
   "execution_count": 2,
   "metadata": {},
   "outputs": [],
   "source": [
    "import requests\n",
    "import numpy as np\n",
    "import pandas as pd\n",
    "import datetime\n",
    "import time\n",
    "import stocks\n",
    "import pandas_datareader as pdr\n",
    "\n",
    "API_URL = \"https://www.alphavantage.co/query\"\n",
    "\n",
    "ds_yahoo = 'yahoo'\n",
    "\n",
    "last_year = datetime.datetime.now().year - 10\n",
    "start = datetime.datetime.now().replace(year=last_year)\n",
    "end = datetime.datetime.now()"
   ]
  },
  {
   "cell_type": "code",
   "execution_count": 4,
   "metadata": {},
   "outputs": [],
   "source": [
    "def get_info(ticker):\n",
    "    stock = pdr.get_data_yahoo(ticker, start, end)\n",
    "    return stock['Adj Close']"
   ]
  },
  {
   "cell_type": "code",
   "execution_count": 3,
   "metadata": {},
   "outputs": [],
   "source": [
    "def get_info_alpha(ticker):\n",
    "    data = {\n",
    "        \"function\": \"TIME_SERIES_DAILY_ADJUSTED\",\n",
    "        \"symbol\": ticker,\n",
    "        \"outputsize\": \"full\",\n",
    "        \"datatype\": \"json\",\n",
    "        \"apikey\": \"1VI1L6694V2Q3CFA\",\n",
    "    }\n",
    "    response = requests.get(API_URL, params=data)\n",
    "    ts = response.json()['Time Series (Daily)']\n",
    "    df = pd.DataFrame(ts).T\n",
    "    return df['5. adjusted close'].astype(float)"
   ]
  },
  {
   "cell_type": "code",
   "execution_count": 5,
   "metadata": {},
   "outputs": [],
   "source": [
    "ret = pd.DataFrame()\n",
    "def get_means(df, arr, period):\n",
    "    for t in arr:\n",
    "        ret['Retorno Mensal ' + t] = df[t].pct_change(period)\n",
    "    try:\n",
    "        ret.drop('Mean', axis=1, inplace=True)\n",
    "    except:\n",
    "        pass\n",
    "    ret['Mean'] = round(ret.mean(axis=1)*100, 2)\n",
    "    return ret['Mean'].iloc[0]"
   ]
  },
  {
   "cell_type": "markdown",
   "metadata": {},
   "source": [
    "# Financeiros"
   ]
  },
  {
   "cell_type": "code",
   "execution_count": 5,
   "metadata": {},
   "outputs": [
    {
     "name": "stdout",
     "output_type": "stream",
     "text": [
      "Último mês: 0.31 %\n",
      "Últimos 12 meses: 20.33 %\n",
      "Últimos 3 anos: 108.59 %\n",
      "Últimos 5 anos: 187.89 %\n",
      "Últimos 10 anos: nan %\n"
     ]
    }
   ],
   "source": [
    "arr = []\n",
    "for t in stocks.financeiros:\n",
    "    arr.append(get_info(t))\n",
    "    #time.sleep(12)\n",
    "\n",
    "df = pd.concat(arr, axis=1, sort=True)\n",
    "df = df[::-1]\n",
    "df.columns = stocks.financeiros\n",
    "\n",
    "print('Último mês:', get_means(df, stocks.financeiros, -21), '%')\n",
    "print('Últimos 12 meses:', get_means(df, stocks.financeiros, -21*12), '%')\n",
    "print('Últimos 3 anos:', get_means(df, stocks.financeiros, -21*12*3), '%')\n",
    "print('Últimos 5 anos:', get_means(df, stocks.financeiros, -21*12*5), '%')\n",
    "print('Últimos 10 anos:', get_means(df, stocks.financeiros, -21*12*10), '%')"
   ]
  },
  {
   "cell_type": "markdown",
   "metadata": {},
   "source": [
    "# Bens Industriais"
   ]
  },
  {
   "cell_type": "code",
   "execution_count": 6,
   "metadata": {},
   "outputs": [
    {
     "name": "stdout",
     "output_type": "stream",
     "text": [
      "Último mês: 5.73 %\n",
      "Últimos 12 meses: 46.17 %\n",
      "Últimos 3 anos: 187.46 %\n",
      "Últimos 5 anos: 107.0 %\n",
      "Últimos 10 anos: nan %\n"
     ]
    }
   ],
   "source": [
    "arr = []\n",
    "for t in stocks.bens_industriais:\n",
    "    arr.append(get_info(t))\n",
    "    #time.sleep(12)\n",
    "\n",
    "df = pd.concat(arr, axis=1, sort=True)\n",
    "df = df[::-1]\n",
    "df.columns = stocks.bens_industriais\n",
    "\n",
    "print('Último mês:', get_means(df, stocks.bens_industriais, -21), '%')\n",
    "print('Últimos 12 meses:', get_means(df, stocks.bens_industriais, -21*12), '%')\n",
    "print('Últimos 3 anos:', get_means(df, stocks.bens_industriais, -21*12*3), '%')\n",
    "print('Últimos 5 anos:', get_means(df, stocks.bens_industriais, -21*12*5), '%')\n",
    "print('Últimos 10 anos:', get_means(df, stocks.bens_industriais, -21*12*10), '%')"
   ]
  },
  {
   "cell_type": "markdown",
   "metadata": {},
   "source": [
    "# Consumo não básico"
   ]
  },
  {
   "cell_type": "code",
   "execution_count": 7,
   "metadata": {},
   "outputs": [
    {
     "name": "stdout",
     "output_type": "stream",
     "text": [
      "Último mês: 0.4 %\n",
      "Últimos 12 meses: 92.68 %\n",
      "Últimos 3 anos: 74.55 %\n",
      "Últimos 5 anos: 72.98 %\n",
      "Últimos 10 anos: nan %\n"
     ]
    }
   ],
   "source": [
    "arr = []\n",
    "for t in stocks.consumo_nao_basico:\n",
    "    arr.append(get_info(t))\n",
    "    #time.sleep(12)\n",
    "\n",
    "df = pd.concat(arr, axis=1, sort=True)\n",
    "df = df[::-1]\n",
    "df.columns = stocks.consumo_nao_basico\n",
    "\n",
    "print('Último mês:', get_means(df, stocks.consumo_nao_basico, -21), '%')\n",
    "print('Últimos 12 meses:', get_means(df, stocks.consumo_nao_basico, -21*12), '%')\n",
    "print('Últimos 3 anos:', get_means(df, stocks.consumo_nao_basico, -21*12*3), '%')\n",
    "print('Últimos 5 anos:', get_means(df, stocks.consumo_nao_basico, -21*12*5), '%')\n",
    "print('Últimos 10 anos:', get_means(df, stocks.consumo_nao_basico, -21*12*10), '%')"
   ]
  },
  {
   "cell_type": "markdown",
   "metadata": {},
   "source": [
    "# Consumo não Cíclico"
   ]
  },
  {
   "cell_type": "code",
   "execution_count": 8,
   "metadata": {},
   "outputs": [
    {
     "name": "stdout",
     "output_type": "stream",
     "text": [
      "Último mês: 5.91 %\n",
      "Últimos 12 meses: 29.24 %\n",
      "Últimos 3 anos: 81.25 %\n",
      "Últimos 5 anos: 49.0 %\n",
      "Últimos 10 anos: nan %\n"
     ]
    }
   ],
   "source": [
    "arr = []\n",
    "for t in stocks.consumo_nao_ciclico:\n",
    "    arr.append(get_info(t))\n",
    "    #time.sleep(12)\n",
    "\n",
    "df = pd.concat(arr, axis=1, sort=True)\n",
    "df = df[::-1]\n",
    "df.columns = stocks.consumo_nao_ciclico\n",
    "\n",
    "print('Último mês:', get_means(df, stocks.consumo_nao_ciclico, -21), '%')\n",
    "print('Últimos 12 meses:', get_means(df, stocks.consumo_nao_ciclico, -21*12), '%')\n",
    "print('Últimos 3 anos:', get_means(df, stocks.consumo_nao_ciclico, -21*12*3), '%')\n",
    "print('Últimos 5 anos:', get_means(df, stocks.consumo_nao_ciclico, -21*12*5), '%')\n",
    "print('Últimos 10 anos:', get_means(df, stocks.consumo_nao_ciclico, -21*12*10), '%')"
   ]
  },
  {
   "cell_type": "markdown",
   "metadata": {},
   "source": [
    "# Consumo Cíclico"
   ]
  },
  {
   "cell_type": "code",
   "execution_count": 9,
   "metadata": {},
   "outputs": [
    {
     "name": "stdout",
     "output_type": "stream",
     "text": [
      "Último mês: 9.37 %\n",
      "Últimos 12 meses: 67.35 %\n",
      "Últimos 3 anos: 760.57 %\n",
      "Últimos 5 anos: 1277.56 %\n",
      "Últimos 10 anos: nan %\n"
     ]
    }
   ],
   "source": [
    "arr = []\n",
    "for t in stocks.consumo_ciclico:\n",
    "    arr.append(get_info(t))\n",
    "    #time.sleep(12)\n",
    "\n",
    "df = pd.concat(arr, axis=1, sort=True)\n",
    "df = df[::-1]\n",
    "df.columns = stocks.consumo_ciclico\n",
    "\n",
    "print('Último mês:', get_means(df, stocks.consumo_ciclico, -21), '%')\n",
    "print('Últimos 12 meses:', get_means(df, stocks.consumo_ciclico, -21*12), '%')\n",
    "print('Últimos 3 anos:', get_means(df, stocks.consumo_ciclico, -21*12*3), '%')\n",
    "print('Últimos 5 anos:', get_means(df, stocks.consumo_ciclico, -21*12*5), '%')\n",
    "print('Últimos 10 anos:', get_means(df, stocks.consumo_ciclico, -21*12*10), '%')"
   ]
  },
  {
   "cell_type": "markdown",
   "metadata": {},
   "source": [
    "# Diversos"
   ]
  },
  {
   "cell_type": "code",
   "execution_count": 6,
   "metadata": {},
   "outputs": [
    {
     "ename": "ValueError",
     "evalue": "cannot reindex from a duplicate axis",
     "output_type": "error",
     "traceback": [
      "\u001b[0;31m---------------------------------------------------------------------------\u001b[0m",
      "\u001b[0;31mValueError\u001b[0m                                Traceback (most recent call last)",
      "\u001b[0;32m<ipython-input-6-c635e3ea0cfc>\u001b[0m in \u001b[0;36m<module>\u001b[0;34m\u001b[0m\n\u001b[1;32m      4\u001b[0m     \u001b[0;31m#time.sleep(12)\u001b[0m\u001b[0;34m\u001b[0m\u001b[0;34m\u001b[0m\u001b[0;34m\u001b[0m\u001b[0m\n\u001b[1;32m      5\u001b[0m \u001b[0;34m\u001b[0m\u001b[0m\n\u001b[0;32m----> 6\u001b[0;31m \u001b[0mdf\u001b[0m \u001b[0;34m=\u001b[0m \u001b[0mpd\u001b[0m\u001b[0;34m.\u001b[0m\u001b[0mconcat\u001b[0m\u001b[0;34m(\u001b[0m\u001b[0marr\u001b[0m\u001b[0;34m,\u001b[0m \u001b[0maxis\u001b[0m\u001b[0;34m=\u001b[0m\u001b[0;36m1\u001b[0m\u001b[0;34m,\u001b[0m \u001b[0msort\u001b[0m\u001b[0;34m=\u001b[0m\u001b[0;32mTrue\u001b[0m\u001b[0;34m)\u001b[0m\u001b[0;34m\u001b[0m\u001b[0;34m\u001b[0m\u001b[0m\n\u001b[0m\u001b[1;32m      7\u001b[0m \u001b[0mdf\u001b[0m \u001b[0;34m=\u001b[0m \u001b[0mdf\u001b[0m\u001b[0;34m[\u001b[0m\u001b[0;34m:\u001b[0m\u001b[0;34m:\u001b[0m\u001b[0;34m-\u001b[0m\u001b[0;36m1\u001b[0m\u001b[0;34m]\u001b[0m\u001b[0;34m\u001b[0m\u001b[0;34m\u001b[0m\u001b[0m\n\u001b[1;32m      8\u001b[0m \u001b[0mdf\u001b[0m\u001b[0;34m.\u001b[0m\u001b[0mcolumns\u001b[0m \u001b[0;34m=\u001b[0m \u001b[0mstocks\u001b[0m\u001b[0;34m.\u001b[0m\u001b[0mdiversos\u001b[0m\u001b[0;34m\u001b[0m\u001b[0;34m\u001b[0m\u001b[0m\n",
      "\u001b[0;32m~/Desenvolvimento/Python/anaconda3/envs/nrf/lib/python3.7/site-packages/pandas/core/reshape/concat.py\u001b[0m in \u001b[0;36mconcat\u001b[0;34m(objs, axis, join, join_axes, ignore_index, keys, levels, names, verify_integrity, sort, copy)\u001b[0m\n\u001b[1;32m    256\u001b[0m     )\n\u001b[1;32m    257\u001b[0m \u001b[0;34m\u001b[0m\u001b[0m\n\u001b[0;32m--> 258\u001b[0;31m     \u001b[0;32mreturn\u001b[0m \u001b[0mop\u001b[0m\u001b[0;34m.\u001b[0m\u001b[0mget_result\u001b[0m\u001b[0;34m(\u001b[0m\u001b[0;34m)\u001b[0m\u001b[0;34m\u001b[0m\u001b[0;34m\u001b[0m\u001b[0m\n\u001b[0m\u001b[1;32m    259\u001b[0m \u001b[0;34m\u001b[0m\u001b[0m\n\u001b[1;32m    260\u001b[0m \u001b[0;34m\u001b[0m\u001b[0m\n",
      "\u001b[0;32m~/Desenvolvimento/Python/anaconda3/envs/nrf/lib/python3.7/site-packages/pandas/core/reshape/concat.py\u001b[0m in \u001b[0;36mget_result\u001b[0;34m(self)\u001b[0m\n\u001b[1;32m    449\u001b[0m \u001b[0;34m\u001b[0m\u001b[0m\n\u001b[1;32m    450\u001b[0m                 \u001b[0mindex\u001b[0m\u001b[0;34m,\u001b[0m \u001b[0mcolumns\u001b[0m \u001b[0;34m=\u001b[0m \u001b[0mself\u001b[0m\u001b[0;34m.\u001b[0m\u001b[0mnew_axes\u001b[0m\u001b[0;34m\u001b[0m\u001b[0;34m\u001b[0m\u001b[0m\n\u001b[0;32m--> 451\u001b[0;31m                 \u001b[0mdf\u001b[0m \u001b[0;34m=\u001b[0m \u001b[0mcons\u001b[0m\u001b[0;34m(\u001b[0m\u001b[0mdata\u001b[0m\u001b[0;34m,\u001b[0m \u001b[0mindex\u001b[0m\u001b[0;34m=\u001b[0m\u001b[0mindex\u001b[0m\u001b[0;34m)\u001b[0m\u001b[0;34m\u001b[0m\u001b[0;34m\u001b[0m\u001b[0m\n\u001b[0m\u001b[1;32m    452\u001b[0m                 \u001b[0mdf\u001b[0m\u001b[0;34m.\u001b[0m\u001b[0mcolumns\u001b[0m \u001b[0;34m=\u001b[0m \u001b[0mcolumns\u001b[0m\u001b[0;34m\u001b[0m\u001b[0;34m\u001b[0m\u001b[0m\n\u001b[1;32m    453\u001b[0m                 \u001b[0;32mreturn\u001b[0m \u001b[0mdf\u001b[0m\u001b[0;34m.\u001b[0m\u001b[0m__finalize__\u001b[0m\u001b[0;34m(\u001b[0m\u001b[0mself\u001b[0m\u001b[0;34m,\u001b[0m \u001b[0mmethod\u001b[0m\u001b[0;34m=\u001b[0m\u001b[0;34m\"concat\"\u001b[0m\u001b[0;34m)\u001b[0m\u001b[0;34m\u001b[0m\u001b[0;34m\u001b[0m\u001b[0m\n",
      "\u001b[0;32m~/Desenvolvimento/Python/anaconda3/envs/nrf/lib/python3.7/site-packages/pandas/core/frame.py\u001b[0m in \u001b[0;36m__init__\u001b[0;34m(self, data, index, columns, dtype, copy)\u001b[0m\n\u001b[1;32m    409\u001b[0m             )\n\u001b[1;32m    410\u001b[0m         \u001b[0;32melif\u001b[0m \u001b[0misinstance\u001b[0m\u001b[0;34m(\u001b[0m\u001b[0mdata\u001b[0m\u001b[0;34m,\u001b[0m \u001b[0mdict\u001b[0m\u001b[0;34m)\u001b[0m\u001b[0;34m:\u001b[0m\u001b[0;34m\u001b[0m\u001b[0;34m\u001b[0m\u001b[0m\n\u001b[0;32m--> 411\u001b[0;31m             \u001b[0mmgr\u001b[0m \u001b[0;34m=\u001b[0m \u001b[0minit_dict\u001b[0m\u001b[0;34m(\u001b[0m\u001b[0mdata\u001b[0m\u001b[0;34m,\u001b[0m \u001b[0mindex\u001b[0m\u001b[0;34m,\u001b[0m \u001b[0mcolumns\u001b[0m\u001b[0;34m,\u001b[0m \u001b[0mdtype\u001b[0m\u001b[0;34m=\u001b[0m\u001b[0mdtype\u001b[0m\u001b[0;34m)\u001b[0m\u001b[0;34m\u001b[0m\u001b[0;34m\u001b[0m\u001b[0m\n\u001b[0m\u001b[1;32m    412\u001b[0m         \u001b[0;32melif\u001b[0m \u001b[0misinstance\u001b[0m\u001b[0;34m(\u001b[0m\u001b[0mdata\u001b[0m\u001b[0;34m,\u001b[0m \u001b[0mma\u001b[0m\u001b[0;34m.\u001b[0m\u001b[0mMaskedArray\u001b[0m\u001b[0;34m)\u001b[0m\u001b[0;34m:\u001b[0m\u001b[0;34m\u001b[0m\u001b[0;34m\u001b[0m\u001b[0m\n\u001b[1;32m    413\u001b[0m             \u001b[0;32mimport\u001b[0m \u001b[0mnumpy\u001b[0m\u001b[0;34m.\u001b[0m\u001b[0mma\u001b[0m\u001b[0;34m.\u001b[0m\u001b[0mmrecords\u001b[0m \u001b[0;32mas\u001b[0m \u001b[0mmrecords\u001b[0m\u001b[0;34m\u001b[0m\u001b[0;34m\u001b[0m\u001b[0m\n",
      "\u001b[0;32m~/Desenvolvimento/Python/anaconda3/envs/nrf/lib/python3.7/site-packages/pandas/core/internals/construction.py\u001b[0m in \u001b[0;36minit_dict\u001b[0;34m(data, index, columns, dtype)\u001b[0m\n\u001b[1;32m    255\u001b[0m             \u001b[0marr\u001b[0m \u001b[0;32mif\u001b[0m \u001b[0;32mnot\u001b[0m \u001b[0mis_datetime64tz_dtype\u001b[0m\u001b[0;34m(\u001b[0m\u001b[0marr\u001b[0m\u001b[0;34m)\u001b[0m \u001b[0;32melse\u001b[0m \u001b[0marr\u001b[0m\u001b[0;34m.\u001b[0m\u001b[0mcopy\u001b[0m\u001b[0;34m(\u001b[0m\u001b[0;34m)\u001b[0m \u001b[0;32mfor\u001b[0m \u001b[0marr\u001b[0m \u001b[0;32min\u001b[0m \u001b[0marrays\u001b[0m\u001b[0;34m\u001b[0m\u001b[0;34m\u001b[0m\u001b[0m\n\u001b[1;32m    256\u001b[0m         ]\n\u001b[0;32m--> 257\u001b[0;31m     \u001b[0;32mreturn\u001b[0m \u001b[0marrays_to_mgr\u001b[0m\u001b[0;34m(\u001b[0m\u001b[0marrays\u001b[0m\u001b[0;34m,\u001b[0m \u001b[0mdata_names\u001b[0m\u001b[0;34m,\u001b[0m \u001b[0mindex\u001b[0m\u001b[0;34m,\u001b[0m \u001b[0mcolumns\u001b[0m\u001b[0;34m,\u001b[0m \u001b[0mdtype\u001b[0m\u001b[0;34m=\u001b[0m\u001b[0mdtype\u001b[0m\u001b[0;34m)\u001b[0m\u001b[0;34m\u001b[0m\u001b[0;34m\u001b[0m\u001b[0m\n\u001b[0m\u001b[1;32m    258\u001b[0m \u001b[0;34m\u001b[0m\u001b[0m\n\u001b[1;32m    259\u001b[0m \u001b[0;34m\u001b[0m\u001b[0m\n",
      "\u001b[0;32m~/Desenvolvimento/Python/anaconda3/envs/nrf/lib/python3.7/site-packages/pandas/core/internals/construction.py\u001b[0m in \u001b[0;36marrays_to_mgr\u001b[0;34m(arrays, arr_names, index, columns, dtype)\u001b[0m\n\u001b[1;32m     80\u001b[0m \u001b[0;34m\u001b[0m\u001b[0m\n\u001b[1;32m     81\u001b[0m     \u001b[0;31m# don't force copy because getting jammed in an ndarray anyway\u001b[0m\u001b[0;34m\u001b[0m\u001b[0;34m\u001b[0m\u001b[0;34m\u001b[0m\u001b[0m\n\u001b[0;32m---> 82\u001b[0;31m     \u001b[0marrays\u001b[0m \u001b[0;34m=\u001b[0m \u001b[0m_homogenize\u001b[0m\u001b[0;34m(\u001b[0m\u001b[0marrays\u001b[0m\u001b[0;34m,\u001b[0m \u001b[0mindex\u001b[0m\u001b[0;34m,\u001b[0m \u001b[0mdtype\u001b[0m\u001b[0;34m)\u001b[0m\u001b[0;34m\u001b[0m\u001b[0;34m\u001b[0m\u001b[0m\n\u001b[0m\u001b[1;32m     83\u001b[0m \u001b[0;34m\u001b[0m\u001b[0m\n\u001b[1;32m     84\u001b[0m     \u001b[0;31m# from BlockManager perspective\u001b[0m\u001b[0;34m\u001b[0m\u001b[0;34m\u001b[0m\u001b[0;34m\u001b[0m\u001b[0m\n",
      "\u001b[0;32m~/Desenvolvimento/Python/anaconda3/envs/nrf/lib/python3.7/site-packages/pandas/core/internals/construction.py\u001b[0m in \u001b[0;36m_homogenize\u001b[0;34m(data, index, dtype)\u001b[0m\n\u001b[1;32m    309\u001b[0m                 \u001b[0;31m# Forces alignment. No need to copy data since we\u001b[0m\u001b[0;34m\u001b[0m\u001b[0;34m\u001b[0m\u001b[0;34m\u001b[0m\u001b[0m\n\u001b[1;32m    310\u001b[0m                 \u001b[0;31m# are putting it into an ndarray later\u001b[0m\u001b[0;34m\u001b[0m\u001b[0;34m\u001b[0m\u001b[0;34m\u001b[0m\u001b[0m\n\u001b[0;32m--> 311\u001b[0;31m                 \u001b[0mval\u001b[0m \u001b[0;34m=\u001b[0m \u001b[0mval\u001b[0m\u001b[0;34m.\u001b[0m\u001b[0mreindex\u001b[0m\u001b[0;34m(\u001b[0m\u001b[0mindex\u001b[0m\u001b[0;34m,\u001b[0m \u001b[0mcopy\u001b[0m\u001b[0;34m=\u001b[0m\u001b[0;32mFalse\u001b[0m\u001b[0;34m)\u001b[0m\u001b[0;34m\u001b[0m\u001b[0;34m\u001b[0m\u001b[0m\n\u001b[0m\u001b[1;32m    312\u001b[0m         \u001b[0;32melse\u001b[0m\u001b[0;34m:\u001b[0m\u001b[0;34m\u001b[0m\u001b[0;34m\u001b[0m\u001b[0m\n\u001b[1;32m    313\u001b[0m             \u001b[0;32mif\u001b[0m \u001b[0misinstance\u001b[0m\u001b[0;34m(\u001b[0m\u001b[0mval\u001b[0m\u001b[0;34m,\u001b[0m \u001b[0mdict\u001b[0m\u001b[0;34m)\u001b[0m\u001b[0;34m:\u001b[0m\u001b[0;34m\u001b[0m\u001b[0;34m\u001b[0m\u001b[0m\n",
      "\u001b[0;32m~/Desenvolvimento/Python/anaconda3/envs/nrf/lib/python3.7/site-packages/pandas/core/series.py\u001b[0m in \u001b[0;36mreindex\u001b[0;34m(self, index, **kwargs)\u001b[0m\n\u001b[1;32m   4219\u001b[0m     \u001b[0;34m@\u001b[0m\u001b[0mAppender\u001b[0m\u001b[0;34m(\u001b[0m\u001b[0mgeneric\u001b[0m\u001b[0;34m.\u001b[0m\u001b[0mNDFrame\u001b[0m\u001b[0;34m.\u001b[0m\u001b[0mreindex\u001b[0m\u001b[0;34m.\u001b[0m\u001b[0m__doc__\u001b[0m\u001b[0;34m)\u001b[0m\u001b[0;34m\u001b[0m\u001b[0;34m\u001b[0m\u001b[0m\n\u001b[1;32m   4220\u001b[0m     \u001b[0;32mdef\u001b[0m \u001b[0mreindex\u001b[0m\u001b[0;34m(\u001b[0m\u001b[0mself\u001b[0m\u001b[0;34m,\u001b[0m \u001b[0mindex\u001b[0m\u001b[0;34m=\u001b[0m\u001b[0;32mNone\u001b[0m\u001b[0;34m,\u001b[0m \u001b[0;34m**\u001b[0m\u001b[0mkwargs\u001b[0m\u001b[0;34m)\u001b[0m\u001b[0;34m:\u001b[0m\u001b[0;34m\u001b[0m\u001b[0;34m\u001b[0m\u001b[0m\n\u001b[0;32m-> 4221\u001b[0;31m         \u001b[0;32mreturn\u001b[0m \u001b[0msuper\u001b[0m\u001b[0;34m(\u001b[0m\u001b[0;34m)\u001b[0m\u001b[0;34m.\u001b[0m\u001b[0mreindex\u001b[0m\u001b[0;34m(\u001b[0m\u001b[0mindex\u001b[0m\u001b[0;34m=\u001b[0m\u001b[0mindex\u001b[0m\u001b[0;34m,\u001b[0m \u001b[0;34m**\u001b[0m\u001b[0mkwargs\u001b[0m\u001b[0;34m)\u001b[0m\u001b[0;34m\u001b[0m\u001b[0;34m\u001b[0m\u001b[0m\n\u001b[0m\u001b[1;32m   4222\u001b[0m \u001b[0;34m\u001b[0m\u001b[0m\n\u001b[1;32m   4223\u001b[0m     def drop(\n",
      "\u001b[0;32m~/Desenvolvimento/Python/anaconda3/envs/nrf/lib/python3.7/site-packages/pandas/core/generic.py\u001b[0m in \u001b[0;36mreindex\u001b[0;34m(self, *args, **kwargs)\u001b[0m\n\u001b[1;32m   4512\u001b[0m         \u001b[0;31m# perform the reindex on the axes\u001b[0m\u001b[0;34m\u001b[0m\u001b[0;34m\u001b[0m\u001b[0;34m\u001b[0m\u001b[0m\n\u001b[1;32m   4513\u001b[0m         return self._reindex_axes(\n\u001b[0;32m-> 4514\u001b[0;31m             \u001b[0maxes\u001b[0m\u001b[0;34m,\u001b[0m \u001b[0mlevel\u001b[0m\u001b[0;34m,\u001b[0m \u001b[0mlimit\u001b[0m\u001b[0;34m,\u001b[0m \u001b[0mtolerance\u001b[0m\u001b[0;34m,\u001b[0m \u001b[0mmethod\u001b[0m\u001b[0;34m,\u001b[0m \u001b[0mfill_value\u001b[0m\u001b[0;34m,\u001b[0m \u001b[0mcopy\u001b[0m\u001b[0;34m\u001b[0m\u001b[0;34m\u001b[0m\u001b[0m\n\u001b[0m\u001b[1;32m   4515\u001b[0m         ).__finalize__(self)\n\u001b[1;32m   4516\u001b[0m \u001b[0;34m\u001b[0m\u001b[0m\n",
      "\u001b[0;32m~/Desenvolvimento/Python/anaconda3/envs/nrf/lib/python3.7/site-packages/pandas/core/generic.py\u001b[0m in \u001b[0;36m_reindex_axes\u001b[0;34m(self, axes, level, limit, tolerance, method, fill_value, copy)\u001b[0m\n\u001b[1;32m   4533\u001b[0m                 \u001b[0mfill_value\u001b[0m\u001b[0;34m=\u001b[0m\u001b[0mfill_value\u001b[0m\u001b[0;34m,\u001b[0m\u001b[0;34m\u001b[0m\u001b[0;34m\u001b[0m\u001b[0m\n\u001b[1;32m   4534\u001b[0m                 \u001b[0mcopy\u001b[0m\u001b[0;34m=\u001b[0m\u001b[0mcopy\u001b[0m\u001b[0;34m,\u001b[0m\u001b[0;34m\u001b[0m\u001b[0;34m\u001b[0m\u001b[0m\n\u001b[0;32m-> 4535\u001b[0;31m                 \u001b[0mallow_dups\u001b[0m\u001b[0;34m=\u001b[0m\u001b[0;32mFalse\u001b[0m\u001b[0;34m,\u001b[0m\u001b[0;34m\u001b[0m\u001b[0;34m\u001b[0m\u001b[0m\n\u001b[0m\u001b[1;32m   4536\u001b[0m             )\n\u001b[1;32m   4537\u001b[0m \u001b[0;34m\u001b[0m\u001b[0m\n",
      "\u001b[0;32m~/Desenvolvimento/Python/anaconda3/envs/nrf/lib/python3.7/site-packages/pandas/core/generic.py\u001b[0m in \u001b[0;36m_reindex_with_indexers\u001b[0;34m(self, reindexers, fill_value, copy, allow_dups)\u001b[0m\n\u001b[1;32m   4575\u001b[0m                 \u001b[0mfill_value\u001b[0m\u001b[0;34m=\u001b[0m\u001b[0mfill_value\u001b[0m\u001b[0;34m,\u001b[0m\u001b[0;34m\u001b[0m\u001b[0;34m\u001b[0m\u001b[0m\n\u001b[1;32m   4576\u001b[0m                 \u001b[0mallow_dups\u001b[0m\u001b[0;34m=\u001b[0m\u001b[0mallow_dups\u001b[0m\u001b[0;34m,\u001b[0m\u001b[0;34m\u001b[0m\u001b[0;34m\u001b[0m\u001b[0m\n\u001b[0;32m-> 4577\u001b[0;31m                 \u001b[0mcopy\u001b[0m\u001b[0;34m=\u001b[0m\u001b[0mcopy\u001b[0m\u001b[0;34m,\u001b[0m\u001b[0;34m\u001b[0m\u001b[0;34m\u001b[0m\u001b[0m\n\u001b[0m\u001b[1;32m   4578\u001b[0m             )\n\u001b[1;32m   4579\u001b[0m \u001b[0;34m\u001b[0m\u001b[0m\n",
      "\u001b[0;32m~/Desenvolvimento/Python/anaconda3/envs/nrf/lib/python3.7/site-packages/pandas/core/internals/managers.py\u001b[0m in \u001b[0;36mreindex_indexer\u001b[0;34m(self, new_axis, indexer, axis, fill_value, allow_dups, copy)\u001b[0m\n\u001b[1;32m   1249\u001b[0m         \u001b[0;31m# some axes don't allow reindexing with dups\u001b[0m\u001b[0;34m\u001b[0m\u001b[0;34m\u001b[0m\u001b[0;34m\u001b[0m\u001b[0m\n\u001b[1;32m   1250\u001b[0m         \u001b[0;32mif\u001b[0m \u001b[0;32mnot\u001b[0m \u001b[0mallow_dups\u001b[0m\u001b[0;34m:\u001b[0m\u001b[0;34m\u001b[0m\u001b[0;34m\u001b[0m\u001b[0m\n\u001b[0;32m-> 1251\u001b[0;31m             \u001b[0mself\u001b[0m\u001b[0;34m.\u001b[0m\u001b[0maxes\u001b[0m\u001b[0;34m[\u001b[0m\u001b[0maxis\u001b[0m\u001b[0;34m]\u001b[0m\u001b[0;34m.\u001b[0m\u001b[0m_can_reindex\u001b[0m\u001b[0;34m(\u001b[0m\u001b[0mindexer\u001b[0m\u001b[0;34m)\u001b[0m\u001b[0;34m\u001b[0m\u001b[0;34m\u001b[0m\u001b[0m\n\u001b[0m\u001b[1;32m   1252\u001b[0m \u001b[0;34m\u001b[0m\u001b[0m\n\u001b[1;32m   1253\u001b[0m         \u001b[0;32mif\u001b[0m \u001b[0maxis\u001b[0m \u001b[0;34m>=\u001b[0m \u001b[0mself\u001b[0m\u001b[0;34m.\u001b[0m\u001b[0mndim\u001b[0m\u001b[0;34m:\u001b[0m\u001b[0;34m\u001b[0m\u001b[0;34m\u001b[0m\u001b[0m\n",
      "\u001b[0;32m~/Desenvolvimento/Python/anaconda3/envs/nrf/lib/python3.7/site-packages/pandas/core/indexes/base.py\u001b[0m in \u001b[0;36m_can_reindex\u001b[0;34m(self, indexer)\u001b[0m\n\u001b[1;32m   3360\u001b[0m         \u001b[0;31m# trying to reindex on an axis with duplicates\u001b[0m\u001b[0;34m\u001b[0m\u001b[0;34m\u001b[0m\u001b[0;34m\u001b[0m\u001b[0m\n\u001b[1;32m   3361\u001b[0m         \u001b[0;32mif\u001b[0m \u001b[0;32mnot\u001b[0m \u001b[0mself\u001b[0m\u001b[0;34m.\u001b[0m\u001b[0mis_unique\u001b[0m \u001b[0;32mand\u001b[0m \u001b[0mlen\u001b[0m\u001b[0;34m(\u001b[0m\u001b[0mindexer\u001b[0m\u001b[0;34m)\u001b[0m\u001b[0;34m:\u001b[0m\u001b[0;34m\u001b[0m\u001b[0;34m\u001b[0m\u001b[0m\n\u001b[0;32m-> 3362\u001b[0;31m             \u001b[0;32mraise\u001b[0m \u001b[0mValueError\u001b[0m\u001b[0;34m(\u001b[0m\u001b[0;34m\"cannot reindex from a duplicate axis\"\u001b[0m\u001b[0;34m)\u001b[0m\u001b[0;34m\u001b[0m\u001b[0;34m\u001b[0m\u001b[0m\n\u001b[0m\u001b[1;32m   3363\u001b[0m \u001b[0;34m\u001b[0m\u001b[0m\n\u001b[1;32m   3364\u001b[0m     \u001b[0;32mdef\u001b[0m \u001b[0mreindex\u001b[0m\u001b[0;34m(\u001b[0m\u001b[0mself\u001b[0m\u001b[0;34m,\u001b[0m \u001b[0mtarget\u001b[0m\u001b[0;34m,\u001b[0m \u001b[0mmethod\u001b[0m\u001b[0;34m=\u001b[0m\u001b[0;32mNone\u001b[0m\u001b[0;34m,\u001b[0m \u001b[0mlevel\u001b[0m\u001b[0;34m=\u001b[0m\u001b[0;32mNone\u001b[0m\u001b[0;34m,\u001b[0m \u001b[0mlimit\u001b[0m\u001b[0;34m=\u001b[0m\u001b[0;32mNone\u001b[0m\u001b[0;34m,\u001b[0m \u001b[0mtolerance\u001b[0m\u001b[0;34m=\u001b[0m\u001b[0;32mNone\u001b[0m\u001b[0;34m)\u001b[0m\u001b[0;34m:\u001b[0m\u001b[0;34m\u001b[0m\u001b[0;34m\u001b[0m\u001b[0m\n",
      "\u001b[0;31mValueError\u001b[0m: cannot reindex from a duplicate axis"
     ]
    }
   ],
   "source": [
    "arr = []\n",
    "for t in stocks.diversos:\n",
    "    arr.append(get_info(t))\n",
    "    #time.sleep(12)\n",
    "\n",
    "df = pd.concat(arr, axis=1, sort=True)\n",
    "df = df[::-1]\n",
    "df.columns = stocks.diversos\n",
    "\n",
    "print('Último mês:', get_means(df, stocks.diversos, -21), '%')\n",
    "print('Últimos 12 meses:', get_means(df, stocks.diversos, -21*12), '%')\n",
    "print('Últimos 3 anos:', get_means(df, stocks.diversos, -21*12*3), '%')\n",
    "print('Últimos 5 anos:', get_means(df, stocks.diversos, -21*12*5), '%')\n",
    "print('Últimos 10 anos:', get_means(df, stocks.diversos, -21*12*10), '%')"
   ]
  },
  {
   "cell_type": "markdown",
   "metadata": {},
   "source": [
    "# Materiais Básicos"
   ]
  },
  {
   "cell_type": "code",
   "execution_count": 12,
   "metadata": {},
   "outputs": [
    {
     "name": "stdout",
     "output_type": "stream",
     "text": [
      "Último mês: 9.19 %\n",
      "Últimos 12 meses: 7.19 %\n",
      "Últimos 3 anos: 61.65 %\n",
      "Últimos 5 anos: 85.3 %\n",
      "Últimos 10 anos: nan %\n"
     ]
    }
   ],
   "source": [
    "arr = []\n",
    "for t in stocks.materiais_basicos:\n",
    "    arr.append(get_info(t))\n",
    "    #time.sleep(12)\n",
    "\n",
    "df = pd.concat(arr, axis=1, sort=True)\n",
    "df = df[::-1]\n",
    "df.columns = stocks.materiais_basicos\n",
    "\n",
    "print('Último mês:', get_means(df, stocks.materiais_basicos, -21), '%')\n",
    "print('Últimos 12 meses:', get_means(df, stocks.materiais_basicos, -21*12), '%')\n",
    "print('Últimos 3 anos:', get_means(df, stocks.materiais_basicos, -21*12*3), '%')\n",
    "print('Últimos 5 anos:', get_means(df, stocks.materiais_basicos, -21*12*5), '%')\n",
    "print('Últimos 10 anos:', get_means(df, stocks.materiais_basicos, -21*12*10), '%')"
   ]
  },
  {
   "cell_type": "markdown",
   "metadata": {},
   "source": [
    "# Petróleo"
   ]
  },
  {
   "cell_type": "code",
   "execution_count": 13,
   "metadata": {},
   "outputs": [
    {
     "name": "stdout",
     "output_type": "stream",
     "text": [
      "Último mês: 5.82 %\n",
      "Últimos 12 meses: 33.69 %\n",
      "Últimos 3 anos: 73.46 %\n",
      "Últimos 5 anos: 109.03 %\n",
      "Últimos 10 anos: nan %\n"
     ]
    }
   ],
   "source": [
    "arr = []\n",
    "for t in stocks.petroleo:\n",
    "    arr.append(get_info(t))\n",
    "    #time.sleep(12)\n",
    "\n",
    "df = pd.concat(arr, axis=1, sort=True)\n",
    "df = df[::-1]\n",
    "df.columns = stocks.petroleo\n",
    "\n",
    "print('Último mês:', get_means(df, stocks.petroleo, -21), '%')\n",
    "print('Últimos 12 meses:', get_means(df, stocks.petroleo, -21*12), '%')\n",
    "print('Últimos 3 anos:', get_means(df, stocks.petroleo, -21*12*3), '%')\n",
    "print('Últimos 5 anos:', get_means(df, stocks.petroleo, -21*12*5), '%')\n",
    "print('Últimos 10 anos:', get_means(df, stocks.petroleo, -21*12*10), '%')"
   ]
  },
  {
   "cell_type": "markdown",
   "metadata": {},
   "source": [
    "# Saúde"
   ]
  },
  {
   "cell_type": "code",
   "execution_count": 14,
   "metadata": {},
   "outputs": [
    {
     "name": "stdout",
     "output_type": "stream",
     "text": [
      "Último mês: 2.26 %\n",
      "Últimos 12 meses: 69.63 %\n",
      "Últimos 3 anos: 82.41 %\n",
      "Últimos 5 anos: 238.75 %\n",
      "Últimos 10 anos: nan %\n"
     ]
    }
   ],
   "source": [
    "arr = []\n",
    "for t in stocks.saude:\n",
    "    arr.append(get_info(t))\n",
    "    #time.sleep(12)\n",
    "\n",
    "df = pd.concat(arr, axis=1, sort=True)\n",
    "df = df[::-1]\n",
    "df.columns = stocks.saude\n",
    "\n",
    "print('Último mês:', get_means(df, stocks.saude, -21), '%')\n",
    "print('Últimos 12 meses:', get_means(df, stocks.saude, -21*12), '%')\n",
    "print('Últimos 3 anos:', get_means(df, stocks.saude, -21*12*3), '%')\n",
    "print('Últimos 5 anos:', get_means(df, stocks.saude, -21*12*5), '%')\n",
    "print('Últimos 10 anos:', get_means(df, stocks.saude, -21*12*10), '%')"
   ]
  },
  {
   "cell_type": "markdown",
   "metadata": {},
   "source": [
    "# Telecomunicação"
   ]
  },
  {
   "cell_type": "code",
   "execution_count": 15,
   "metadata": {},
   "outputs": [
    {
     "name": "stdout",
     "output_type": "stream",
     "text": [
      "Último mês: 13.14 %\n",
      "Últimos 12 meses: 27.13 %\n",
      "Últimos 3 anos: 73.26 %\n",
      "Últimos 5 anos: 48.85 %\n",
      "Últimos 10 anos: nan %\n"
     ]
    }
   ],
   "source": [
    "arr = []\n",
    "for t in stocks.telecomunicacao:\n",
    "    arr.append(get_info(t))\n",
    "    #time.sleep(12)\n",
    "\n",
    "df = pd.concat(arr, axis=1, sort=True)\n",
    "df = df[::-1]\n",
    "df.columns = stocks.telecomunicacao\n",
    "\n",
    "print('Último mês:', get_means(df, stocks.telecomunicacao, -21), '%')\n",
    "print('Últimos 12 meses:', get_means(df, stocks.telecomunicacao, -21*12), '%')\n",
    "print('Últimos 3 anos:', get_means(df, stocks.telecomunicacao, -21*12*3), '%')\n",
    "print('Últimos 5 anos:', get_means(df, stocks.telecomunicacao, -21*12*5), '%')\n",
    "print('Últimos 10 anos:', get_means(df, stocks.telecomunicacao, -21*12*10), '%')"
   ]
  },
  {
   "cell_type": "markdown",
   "metadata": {},
   "source": [
    "# Utilidade Pública"
   ]
  },
  {
   "cell_type": "code",
   "execution_count": 16,
   "metadata": {},
   "outputs": [
    {
     "name": "stdout",
     "output_type": "stream",
     "text": [
      "Último mês: 1.47 %\n",
      "Últimos 12 meses: 44.24 %\n",
      "Últimos 3 anos: 86.12 %\n",
      "Últimos 5 anos: 268.3 %\n",
      "Últimos 10 anos: nan %\n"
     ]
    }
   ],
   "source": [
    "arr = []\n",
    "for t in stocks.utilidade_publica:\n",
    "    arr.append(get_info(t))\n",
    "    #time.sleep(12)\n",
    "\n",
    "df = pd.concat(arr, axis=1, sort=True)\n",
    "df = df[::-1]\n",
    "df.columns = stocks.utilidade_publica\n",
    "\n",
    "print('Último mês:', get_means(df, stocks.utilidade_publica, -21), '%')\n",
    "print('Últimos 12 meses:', get_means(df, stocks.utilidade_publica, -21*12), '%')\n",
    "print('Últimos 3 anos:', get_means(df, stocks.utilidade_publica, -21*12*3), '%')\n",
    "print('Últimos 5 anos:', get_means(df, stocks.utilidade_publica, -21*12*5), '%')\n",
    "print('Últimos 10 anos:', get_means(df, stocks.utilidade_publica, -21*12*10), '%')"
   ]
  }
 ],
 "metadata": {
  "kernelspec": {
   "display_name": "Python 3",
   "language": "python",
   "name": "python3"
  },
  "language_info": {
   "codemirror_mode": {
    "name": "ipython",
    "version": 3
   },
   "file_extension": ".py",
   "mimetype": "text/x-python",
   "name": "python",
   "nbconvert_exporter": "python",
   "pygments_lexer": "ipython3",
   "version": "3.7.5"
  }
 },
 "nbformat": 4,
 "nbformat_minor": 2
}

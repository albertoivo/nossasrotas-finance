{
 "cells": [
  {
   "cell_type": "markdown",
   "metadata": {},
   "source": [
    "# Sharp Ratio & Frontier"
   ]
  },
  {
   "cell_type": "code",
   "execution_count": 99,
   "metadata": {},
   "outputs": [],
   "source": [
    "import pandas_datareader.data as web\n",
    "import pandas as pd\n",
    "import numpy as np\n",
    "import datetime\n",
    "import matplotlib.pyplot as plt\n",
    "\n",
    "%matplotlib inline\n",
    "\n",
    "ds_yahoo = 'yahoo'\n",
    "\n",
    "last_year = datetime.datetime.now().year - 1\n",
    "start = datetime.datetime.now().replace(year=last_year)\n",
    "end = datetime.datetime.now()"
   ]
  },
  {
   "cell_type": "markdown",
   "metadata": {},
   "source": [
    "## Portfolio Atual"
   ]
  },
  {
   "cell_type": "code",
   "execution_count": 100,
   "metadata": {},
   "outputs": [],
   "source": [
    "tickers = ['ITUB4.SA', 'ABEV3.SA', 'USIM5.SA', 'PMAM3.SA', 'FLRY3.SA', 'PSSA3.SA', 'TIET4.SA']\n",
    "\n",
    "itau = web.DataReader(tickers[0], ds_yahoo, start, end)\n",
    "abev = web.DataReader(tickers[1], ds_yahoo, start, end)\n",
    "usim = web.DataReader(tickers[2], ds_yahoo, start, end)\n",
    "pmam = web.DataReader(tickers[3], ds_yahoo, start, end)\n",
    "flry = web.DataReader(tickers[4], ds_yahoo, start, end)\n",
    "pssa = web.DataReader(tickers[5], ds_yahoo, start, end)\n",
    "tiet = web.DataReader(tickers[6], ds_yahoo, start, end)"
   ]
  },
  {
   "cell_type": "code",
   "execution_count": 101,
   "metadata": {},
   "outputs": [],
   "source": [
    "# PSSA = 27.2%\n",
    "# ABEV = 9.5%\n",
    "# USIM = 12%\n",
    "# PMAM = 4%\n",
    "# ITUB = 28.5%\n",
    "# TIET = 12.1%"
   ]
  },
  {
   "cell_type": "markdown",
   "metadata": {},
   "source": [
    "## Normalizando o retorno diário de cada ativo do portfólio"
   ]
  },
  {
   "cell_type": "code",
   "execution_count": 102,
   "metadata": {},
   "outputs": [],
   "source": [
    "for acao_df in (itau, abev, usim, pmam, flry, pssa, tiet):\n",
    "    acao_df['Retorno Normalizado'] = acao_df['Adj Close'] / acao_df.iloc[0]['Adj Close']"
   ]
  },
  {
   "cell_type": "markdown",
   "metadata": {},
   "source": [
    "## Alocando cada ativo com um peso específico"
   ]
  },
  {
   "cell_type": "code",
   "execution_count": 103,
   "metadata": {},
   "outputs": [],
   "source": [
    "# ['ITUB4.SA', 'ABEV3.SA', 'USIM5.SA', 'PMAM3.SA', 'FLRY3.SA', 'PSSA3.SA', 'TIET4.SA']\n",
    "# [0.26107593, 0.04831414, 0.02464465, 0.03614935, 0.03725014, 0.2962411 , 0.29632469]\n",
    "# [0.23831868, 0.03159086, 0.16443563, 0.05013128, 0.03560001, 0.38882187, 0.09110165]"
   ]
  },
  {
   "cell_type": "code",
   "execution_count": 135,
   "metadata": {},
   "outputs": [],
   "source": [
    "pesos_arr = [0.26107593, 0.04831414, 0.02464465, 0.03614935, 0.03725014, 0.2962411 , 0.29632469]\n",
    "for acao_df, alocacao in zip((itau, abev, usim, pmam, flry, pssa, tiet), pesos_arr):\n",
    "    acao_df['Alocacao'] = acao_df['Retorno Normalizado'] * alocacao"
   ]
  },
  {
   "cell_type": "markdown",
   "metadata": {},
   "source": [
    "## Posição de cada ativo no portfólio"
   ]
  },
  {
   "cell_type": "code",
   "execution_count": 129,
   "metadata": {},
   "outputs": [],
   "source": [
    "for acao_df in (itau, abev, usim, pmam, flry, pssa, tiet):\n",
    "    acao_df['Posicao'] = acao_df['Alocacao'] * 10000"
   ]
  },
  {
   "cell_type": "code",
   "execution_count": 130,
   "metadata": {},
   "outputs": [],
   "source": [
    "todas_posicoes = [itau['Posicao'], abev['Posicao'], usim['Posicao'],\n",
    "                  pmam['Posicao'], flry['Posicao'], pssa['Posicao'], tiet['Posicao']]\n",
    "\n",
    "# DF que terá colunas adicionadas como Total e Retorno Diário\n",
    "portfolio_posicao = pd.concat(todas_posicoes, axis=1)\n",
    "\n",
    "# DF que terá apenas as ações com o Adj Close column\n",
    "portfolio_acoes = pd.concat(todas_posicoes, axis=1)"
   ]
  },
  {
   "cell_type": "code",
   "execution_count": 131,
   "metadata": {},
   "outputs": [],
   "source": [
    "portfolio_posicao.columns = ['ITUB', 'ABEV', 'USIM', 'PMAM', 'FLRY', 'PSSA', 'TIET']\n",
    "portfolio_acoes.columns = ['ITUB', 'ABEV', 'USIM', 'PMAM', 'FLRY', 'PSSA', 'TIET']"
   ]
  },
  {
   "cell_type": "markdown",
   "metadata": {},
   "source": [
    "## Calculando o Total da carteira"
   ]
  },
  {
   "cell_type": "code",
   "execution_count": 132,
   "metadata": {},
   "outputs": [],
   "source": [
    "portfolio_posicao['Total'] = portfolio_posicao.sum(axis=1)"
   ]
  },
  {
   "cell_type": "code",
   "execution_count": 133,
   "metadata": {},
   "outputs": [
    {
     "data": {
      "text/html": [
       "<div>\n",
       "<style scoped>\n",
       "    .dataframe tbody tr th:only-of-type {\n",
       "        vertical-align: middle;\n",
       "    }\n",
       "\n",
       "    .dataframe tbody tr th {\n",
       "        vertical-align: top;\n",
       "    }\n",
       "\n",
       "    .dataframe thead th {\n",
       "        text-align: right;\n",
       "    }\n",
       "</style>\n",
       "<table border=\"1\" class=\"dataframe\">\n",
       "  <thead>\n",
       "    <tr style=\"text-align: right;\">\n",
       "      <th></th>\n",
       "      <th>ITUB</th>\n",
       "      <th>ABEV</th>\n",
       "      <th>USIM</th>\n",
       "      <th>PMAM</th>\n",
       "      <th>FLRY</th>\n",
       "      <th>PSSA</th>\n",
       "      <th>TIET</th>\n",
       "      <th>Total</th>\n",
       "    </tr>\n",
       "    <tr>\n",
       "      <th>Date</th>\n",
       "      <th></th>\n",
       "      <th></th>\n",
       "      <th></th>\n",
       "      <th></th>\n",
       "      <th></th>\n",
       "      <th></th>\n",
       "      <th></th>\n",
       "      <th></th>\n",
       "    </tr>\n",
       "  </thead>\n",
       "  <tbody>\n",
       "    <tr>\n",
       "      <th>2018-06-22</th>\n",
       "      <td>2610.759300</td>\n",
       "      <td>483.141400</td>\n",
       "      <td>246.446500</td>\n",
       "      <td>361.493500</td>\n",
       "      <td>372.501400</td>\n",
       "      <td>2962.411000</td>\n",
       "      <td>2963.246900</td>\n",
       "      <td>10000.000000</td>\n",
       "    </tr>\n",
       "    <tr>\n",
       "      <th>2018-06-25</th>\n",
       "      <td>2616.065235</td>\n",
       "      <td>484.737662</td>\n",
       "      <td>246.102312</td>\n",
       "      <td>347.033754</td>\n",
       "      <td>376.954199</td>\n",
       "      <td>3021.964397</td>\n",
       "      <td>2993.954358</td>\n",
       "      <td>10086.811917</td>\n",
       "    </tr>\n",
       "    <tr>\n",
       "      <th>2018-06-26</th>\n",
       "      <td>2607.434649</td>\n",
       "      <td>481.279051</td>\n",
       "      <td>244.725512</td>\n",
       "      <td>338.357906</td>\n",
       "      <td>400.600223</td>\n",
       "      <td>3078.464252</td>\n",
       "      <td>2993.954358</td>\n",
       "      <td>10144.815951</td>\n",
       "    </tr>\n",
       "    <tr>\n",
       "      <th>2018-06-27</th>\n",
       "      <td>2560.319742</td>\n",
       "      <td>477.554404</td>\n",
       "      <td>246.102312</td>\n",
       "      <td>332.574007</td>\n",
       "      <td>393.537117</td>\n",
       "      <td>3018.147074</td>\n",
       "      <td>2917.185911</td>\n",
       "      <td>9945.420568</td>\n",
       "    </tr>\n",
       "    <tr>\n",
       "      <th>2018-06-28</th>\n",
       "      <td>2631.325351</td>\n",
       "      <td>479.150666</td>\n",
       "      <td>255.739864</td>\n",
       "      <td>323.898192</td>\n",
       "      <td>402.289238</td>\n",
       "      <td>3044.384533</td>\n",
       "      <td>2978.600827</td>\n",
       "      <td>10115.388672</td>\n",
       "    </tr>\n",
       "  </tbody>\n",
       "</table>\n",
       "</div>"
      ],
      "text/plain": [
       "                   ITUB        ABEV        USIM        PMAM        FLRY  \\\n",
       "Date                                                                      \n",
       "2018-06-22  2610.759300  483.141400  246.446500  361.493500  372.501400   \n",
       "2018-06-25  2616.065235  484.737662  246.102312  347.033754  376.954199   \n",
       "2018-06-26  2607.434649  481.279051  244.725512  338.357906  400.600223   \n",
       "2018-06-27  2560.319742  477.554404  246.102312  332.574007  393.537117   \n",
       "2018-06-28  2631.325351  479.150666  255.739864  323.898192  402.289238   \n",
       "\n",
       "                   PSSA         TIET         Total  \n",
       "Date                                                \n",
       "2018-06-22  2962.411000  2963.246900  10000.000000  \n",
       "2018-06-25  3021.964397  2993.954358  10086.811917  \n",
       "2018-06-26  3078.464252  2993.954358  10144.815951  \n",
       "2018-06-27  3018.147074  2917.185911   9945.420568  \n",
       "2018-06-28  3044.384533  2978.600827  10115.388672  "
      ]
     },
     "execution_count": 133,
     "metadata": {},
     "output_type": "execute_result"
    }
   ],
   "source": [
    "portfolio_posicao.head()"
   ]
  },
  {
   "cell_type": "code",
   "execution_count": 134,
   "metadata": {},
   "outputs": [
    {
     "data": {
      "text/html": [
       "<div>\n",
       "<style scoped>\n",
       "    .dataframe tbody tr th:only-of-type {\n",
       "        vertical-align: middle;\n",
       "    }\n",
       "\n",
       "    .dataframe tbody tr th {\n",
       "        vertical-align: top;\n",
       "    }\n",
       "\n",
       "    .dataframe thead th {\n",
       "        text-align: right;\n",
       "    }\n",
       "</style>\n",
       "<table border=\"1\" class=\"dataframe\">\n",
       "  <thead>\n",
       "    <tr style=\"text-align: right;\">\n",
       "      <th></th>\n",
       "      <th>ITUB</th>\n",
       "      <th>ABEV</th>\n",
       "      <th>USIM</th>\n",
       "      <th>PMAM</th>\n",
       "      <th>FLRY</th>\n",
       "      <th>PSSA</th>\n",
       "      <th>TIET</th>\n",
       "      <th>Total</th>\n",
       "    </tr>\n",
       "    <tr>\n",
       "      <th>Date</th>\n",
       "      <th></th>\n",
       "      <th></th>\n",
       "      <th></th>\n",
       "      <th></th>\n",
       "      <th></th>\n",
       "      <th></th>\n",
       "      <th></th>\n",
       "      <th></th>\n",
       "    </tr>\n",
       "  </thead>\n",
       "  <tbody>\n",
       "    <tr>\n",
       "      <th>2019-06-14</th>\n",
       "      <td>3488.201423</td>\n",
       "      <td>478.958481</td>\n",
       "      <td>302.765962</td>\n",
       "      <td>358.431432</td>\n",
       "      <td>336.685128</td>\n",
       "      <td>4382.153335</td>\n",
       "      <td>3840.896819</td>\n",
       "      <td>13188.092580</td>\n",
       "    </tr>\n",
       "    <tr>\n",
       "      <th>2019-06-17</th>\n",
       "      <td>3484.096355</td>\n",
       "      <td>483.302771</td>\n",
       "      <td>300.668295</td>\n",
       "      <td>354.348686</td>\n",
       "      <td>331.691243</td>\n",
       "      <td>4436.826690</td>\n",
       "      <td>3907.405793</td>\n",
       "      <td>13298.339833</td>\n",
       "    </tr>\n",
       "    <tr>\n",
       "      <th>2019-06-18</th>\n",
       "      <td>3574.405882</td>\n",
       "      <td>490.090732</td>\n",
       "      <td>306.961329</td>\n",
       "      <td>348.734906</td>\n",
       "      <td>333.302182</td>\n",
       "      <td>4455.050931</td>\n",
       "      <td>3874.151306</td>\n",
       "      <td>13382.697269</td>\n",
       "    </tr>\n",
       "    <tr>\n",
       "      <th>2019-06-19</th>\n",
       "      <td>3630.849190</td>\n",
       "      <td>494.163550</td>\n",
       "      <td>302.765962</td>\n",
       "      <td>356.049838</td>\n",
       "      <td>335.074188</td>\n",
       "      <td>4460.849596</td>\n",
       "      <td>3874.151306</td>\n",
       "      <td>13453.903630</td>\n",
       "    </tr>\n",
       "    <tr>\n",
       "      <th>2019-06-21</th>\n",
       "      <td>3694.476170</td>\n",
       "      <td>500.951510</td>\n",
       "      <td>303.814795</td>\n",
       "      <td>359.792348</td>\n",
       "      <td>338.296068</td>\n",
       "      <td>4485.701379</td>\n",
       "      <td>3874.151306</td>\n",
       "      <td>13557.183577</td>\n",
       "    </tr>\n",
       "  </tbody>\n",
       "</table>\n",
       "</div>"
      ],
      "text/plain": [
       "                   ITUB        ABEV        USIM        PMAM        FLRY  \\\n",
       "Date                                                                      \n",
       "2019-06-14  3488.201423  478.958481  302.765962  358.431432  336.685128   \n",
       "2019-06-17  3484.096355  483.302771  300.668295  354.348686  331.691243   \n",
       "2019-06-18  3574.405882  490.090732  306.961329  348.734906  333.302182   \n",
       "2019-06-19  3630.849190  494.163550  302.765962  356.049838  335.074188   \n",
       "2019-06-21  3694.476170  500.951510  303.814795  359.792348  338.296068   \n",
       "\n",
       "                   PSSA         TIET         Total  \n",
       "Date                                                \n",
       "2019-06-14  4382.153335  3840.896819  13188.092580  \n",
       "2019-06-17  4436.826690  3907.405793  13298.339833  \n",
       "2019-06-18  4455.050931  3874.151306  13382.697269  \n",
       "2019-06-19  4460.849596  3874.151306  13453.903630  \n",
       "2019-06-21  4485.701379  3874.151306  13557.183577  "
      ]
     },
     "execution_count": 134,
     "metadata": {},
     "output_type": "execute_result"
    }
   ],
   "source": [
    "portfolio_posicao.tail()"
   ]
  },
  {
   "cell_type": "code",
   "execution_count": 111,
   "metadata": {},
   "outputs": [
    {
     "data": {
      "image/png": "[encoded data removed]",
      "text/plain": [
       "<Figure size 1224x432 with 1 Axes>"
      ]
     },
     "metadata": {
      "needs_background": "light"
     },
     "output_type": "display_data"
    }
   ],
   "source": [
    "abev['Adj Close'].plot(figsize=(17,6))\n",
    "plt.title('Posição total do portfolio');"
   ]
  },
  {
   "cell_type": "code",
   "execution_count": 112,
   "metadata": {},
   "outputs": [
    {
     "data": {
      "image/png": "[encoded data removed]",
      "text/plain": [
       "<Figure size 1224x432 with 1 Axes>"
      ]
     },
     "metadata": {
      "needs_background": "light"
     },
     "output_type": "display_data"
    }
   ],
   "source": [
    "portfolio_posicao.drop('Total', axis=1).plot(figsize=(17,6));"
   ]
  },
  {
   "cell_type": "markdown",
   "metadata": {},
   "source": [
    "## Retorno diário do Total da carteira"
   ]
  },
  {
   "cell_type": "code",
   "execution_count": 113,
   "metadata": {},
   "outputs": [],
   "source": [
    "portfolio_posicao['Retorno Diario'] = portfolio_posicao['Total'].pct_change(1)"
   ]
  },
  {
   "cell_type": "code",
   "execution_count": 114,
   "metadata": {},
   "outputs": [
    {
     "data": {
      "text/html": [
       "<div>\n",
       "<style scoped>\n",
       "    .dataframe tbody tr th:only-of-type {\n",
       "        vertical-align: middle;\n",
       "    }\n",
       "\n",
       "    .dataframe tbody tr th {\n",
       "        vertical-align: top;\n",
       "    }\n",
       "\n",
       "    .dataframe thead th {\n",
       "        text-align: right;\n",
       "    }\n",
       "</style>\n",
       "<table border=\"1\" class=\"dataframe\">\n",
       "  <thead>\n",
       "    <tr style=\"text-align: right;\">\n",
       "      <th></th>\n",
       "      <th>ITUB</th>\n",
       "      <th>ABEV</th>\n",
       "      <th>USIM</th>\n",
       "      <th>PMAM</th>\n",
       "      <th>FLRY</th>\n",
       "      <th>PSSA</th>\n",
       "      <th>TIET</th>\n",
       "      <th>Total</th>\n",
       "      <th>Retorno Diario</th>\n",
       "    </tr>\n",
       "    <tr>\n",
       "      <th>Date</th>\n",
       "      <th></th>\n",
       "      <th></th>\n",
       "      <th></th>\n",
       "      <th></th>\n",
       "      <th></th>\n",
       "      <th></th>\n",
       "      <th></th>\n",
       "      <th></th>\n",
       "      <th></th>\n",
       "    </tr>\n",
       "  </thead>\n",
       "  <tbody>\n",
       "    <tr>\n",
       "      <th>2018-06-22</th>\n",
       "      <td>2104.238800</td>\n",
       "      <td>246.225400</td>\n",
       "      <td>2512.913700</td>\n",
       "      <td>14.047700</td>\n",
       "      <td>228.738200</td>\n",
       "      <td>4496.165800</td>\n",
       "      <td>397.670500</td>\n",
       "      <td>10000.000100</td>\n",
       "      <td>NaN</td>\n",
       "    </tr>\n",
       "    <tr>\n",
       "      <th>2018-06-25</th>\n",
       "      <td>2108.515316</td>\n",
       "      <td>247.038910</td>\n",
       "      <td>2509.404161</td>\n",
       "      <td>13.485792</td>\n",
       "      <td>231.472485</td>\n",
       "      <td>4586.552295</td>\n",
       "      <td>401.791470</td>\n",
       "      <td>10098.260429</td>\n",
       "      <td>0.009826</td>\n",
       "    </tr>\n",
       "    <tr>\n",
       "      <th>2018-06-26</th>\n",
       "      <td>2101.559174</td>\n",
       "      <td>245.276283</td>\n",
       "      <td>2495.365494</td>\n",
       "      <td>13.148647</td>\n",
       "      <td>245.992562</td>\n",
       "      <td>4672.304311</td>\n",
       "      <td>401.791470</td>\n",
       "      <td>10175.437941</td>\n",
       "      <td>0.007643</td>\n",
       "    </tr>\n",
       "    <tr>\n",
       "      <th>2018-06-27</th>\n",
       "      <td>2063.585157</td>\n",
       "      <td>243.378075</td>\n",
       "      <td>2509.404161</td>\n",
       "      <td>12.923883</td>\n",
       "      <td>241.655392</td>\n",
       "      <td>4580.758597</td>\n",
       "      <td>391.489072</td>\n",
       "      <td>10043.194338</td>\n",
       "      <td>-0.012996</td>\n",
       "    </tr>\n",
       "    <tr>\n",
       "      <th>2018-06-28</th>\n",
       "      <td>2120.814776</td>\n",
       "      <td>244.191585</td>\n",
       "      <td>2607.674318</td>\n",
       "      <td>12.586740</td>\n",
       "      <td>247.029719</td>\n",
       "      <td>4620.580203</td>\n",
       "      <td>399.731011</td>\n",
       "      <td>10252.608353</td>\n",
       "      <td>0.020851</td>\n",
       "    </tr>\n",
       "  </tbody>\n",
       "</table>\n",
       "</div>"
      ],
      "text/plain": [
       "                   ITUB        ABEV         USIM       PMAM        FLRY  \\\n",
       "Date                                                                      \n",
       "2018-06-22  2104.238800  246.225400  2512.913700  14.047700  228.738200   \n",
       "2018-06-25  2108.515316  247.038910  2509.404161  13.485792  231.472485   \n",
       "2018-06-26  2101.559174  245.276283  2495.365494  13.148647  245.992562   \n",
       "2018-06-27  2063.585157  243.378075  2509.404161  12.923883  241.655392   \n",
       "2018-06-28  2120.814776  244.191585  2607.674318  12.586740  247.029719   \n",
       "\n",
       "                   PSSA        TIET         Total  Retorno Diario  \n",
       "Date                                                               \n",
       "2018-06-22  4496.165800  397.670500  10000.000100             NaN  \n",
       "2018-06-25  4586.552295  401.791470  10098.260429        0.009826  \n",
       "2018-06-26  4672.304311  401.791470  10175.437941        0.007643  \n",
       "2018-06-27  4580.758597  391.489072  10043.194338       -0.012996  \n",
       "2018-06-28  4620.580203  399.731011  10252.608353        0.020851  "
      ]
     },
     "execution_count": 114,
     "metadata": {},
     "output_type": "execute_result"
    }
   ],
   "source": [
    "portfolio_posicao.head()"
   ]
  },
  {
   "cell_type": "code",
   "execution_count": 115,
   "metadata": {},
   "outputs": [
    {
     "data": {
      "text/html": [
       "<div>\n",
       "<style scoped>\n",
       "    .dataframe tbody tr th:only-of-type {\n",
       "        vertical-align: middle;\n",
       "    }\n",
       "\n",
       "    .dataframe tbody tr th {\n",
       "        vertical-align: top;\n",
       "    }\n",
       "\n",
       "    .dataframe thead th {\n",
       "        text-align: right;\n",
       "    }\n",
       "</style>\n",
       "<table border=\"1\" class=\"dataframe\">\n",
       "  <thead>\n",
       "    <tr style=\"text-align: right;\">\n",
       "      <th></th>\n",
       "      <th>ITUB</th>\n",
       "      <th>ABEV</th>\n",
       "      <th>USIM</th>\n",
       "      <th>PMAM</th>\n",
       "      <th>FLRY</th>\n",
       "      <th>PSSA</th>\n",
       "      <th>TIET</th>\n",
       "      <th>Total</th>\n",
       "      <th>Retorno Diario</th>\n",
       "    </tr>\n",
       "    <tr>\n",
       "      <th>Date</th>\n",
       "      <th></th>\n",
       "      <th></th>\n",
       "      <th></th>\n",
       "      <th></th>\n",
       "      <th></th>\n",
       "      <th></th>\n",
       "      <th></th>\n",
       "      <th></th>\n",
       "      <th></th>\n",
       "    </tr>\n",
       "  </thead>\n",
       "  <tbody>\n",
       "    <tr>\n",
       "      <th>2019-06-14</th>\n",
       "      <td>2811.445994</td>\n",
       "      <td>244.093641</td>\n",
       "      <td>3087.180113</td>\n",
       "      <td>13.928708</td>\n",
       "      <td>206.744861</td>\n",
       "      <td>6650.963677</td>\n",
       "      <td>515.451938</td>\n",
       "      <td>13529.808932</td>\n",
       "      <td>-0.008085</td>\n",
       "    </tr>\n",
       "    <tr>\n",
       "      <th>2019-06-17</th>\n",
       "      <td>2808.137362</td>\n",
       "      <td>246.307640</td>\n",
       "      <td>3065.791064</td>\n",
       "      <td>13.770051</td>\n",
       "      <td>203.678316</td>\n",
       "      <td>6733.943542</td>\n",
       "      <td>524.377505</td>\n",
       "      <td>13596.005480</td>\n",
       "      <td>0.004893</td>\n",
       "    </tr>\n",
       "    <tr>\n",
       "      <th>2019-06-18</th>\n",
       "      <td>2880.925692</td>\n",
       "      <td>249.767018</td>\n",
       "      <td>3129.958550</td>\n",
       "      <td>13.551899</td>\n",
       "      <td>204.667529</td>\n",
       "      <td>6761.603178</td>\n",
       "      <td>519.914722</td>\n",
       "      <td>13760.388587</td>\n",
       "      <td>0.012091</td>\n",
       "    </tr>\n",
       "    <tr>\n",
       "      <th>2019-06-19</th>\n",
       "      <td>2926.418281</td>\n",
       "      <td>251.842665</td>\n",
       "      <td>3087.180113</td>\n",
       "      <td>13.836158</td>\n",
       "      <td>205.755647</td>\n",
       "      <td>6770.404036</td>\n",
       "      <td>519.914722</td>\n",
       "      <td>13775.351622</td>\n",
       "      <td>0.001087</td>\n",
       "    </tr>\n",
       "    <tr>\n",
       "      <th>2019-06-21</th>\n",
       "      <td>2977.700818</td>\n",
       "      <td>255.302042</td>\n",
       "      <td>3097.874637</td>\n",
       "      <td>13.981593</td>\n",
       "      <td>207.734075</td>\n",
       "      <td>6808.122549</td>\n",
       "      <td>519.914722</td>\n",
       "      <td>13880.630435</td>\n",
       "      <td>0.007643</td>\n",
       "    </tr>\n",
       "  </tbody>\n",
       "</table>\n",
       "</div>"
      ],
      "text/plain": [
       "                   ITUB        ABEV         USIM       PMAM        FLRY  \\\n",
       "Date                                                                      \n",
       "2019-06-14  2811.445994  244.093641  3087.180113  13.928708  206.744861   \n",
       "2019-06-17  2808.137362  246.307640  3065.791064  13.770051  203.678316   \n",
       "2019-06-18  2880.925692  249.767018  3129.958550  13.551899  204.667529   \n",
       "2019-06-19  2926.418281  251.842665  3087.180113  13.836158  205.755647   \n",
       "2019-06-21  2977.700818  255.302042  3097.874637  13.981593  207.734075   \n",
       "\n",
       "                   PSSA        TIET         Total  Retorno Diario  \n",
       "Date                                                               \n",
       "2019-06-14  6650.963677  515.451938  13529.808932       -0.008085  \n",
       "2019-06-17  6733.943542  524.377505  13596.005480        0.004893  \n",
       "2019-06-18  6761.603178  519.914722  13760.388587        0.012091  \n",
       "2019-06-19  6770.404036  519.914722  13775.351622        0.001087  \n",
       "2019-06-21  6808.122549  519.914722  13880.630435        0.007643  "
      ]
     },
     "execution_count": 115,
     "metadata": {},
     "output_type": "execute_result"
    }
   ],
   "source": [
    "portfolio_posicao.tail()"
   ]
  },
  {
   "cell_type": "code",
   "execution_count": 116,
   "metadata": {},
   "outputs": [
    {
     "data": {
      "text/plain": [
       "0.145"
      ]
     },
     "execution_count": 116,
     "metadata": {},
     "output_type": "execute_result"
    }
   ],
   "source": [
    "round(portfolio_posicao['Retorno Diario'].mean() * 100, 3)"
   ]
  },
  {
   "cell_type": "code",
   "execution_count": 117,
   "metadata": {},
   "outputs": [
    {
     "data": {
      "text/plain": [
       "0.014652967684820618"
      ]
     },
     "execution_count": 117,
     "metadata": {},
     "output_type": "execute_result"
    }
   ],
   "source": [
    "portfolio_posicao['Retorno Diario'].std()"
   ]
  },
  {
   "cell_type": "code",
   "execution_count": 118,
   "metadata": {},
   "outputs": [
    {
     "data": {
      "image/png": "[encoded data removed]",
      "text/plain": [
       "<Figure size 288x360 with 1 Axes>"
      ]
     },
     "metadata": {
      "needs_background": "light"
     },
     "output_type": "display_data"
    }
   ],
   "source": [
    "portfolio_posicao['Retorno Diario'].plot(kind='kde', figsize=(4,5));"
   ]
  },
  {
   "cell_type": "code",
   "execution_count": 119,
   "metadata": {},
   "outputs": [
    {
     "data": {
      "text/plain": [
       "38.80630296213856"
      ]
     },
     "execution_count": 119,
     "metadata": {},
     "output_type": "execute_result"
    }
   ],
   "source": [
    "retorno_total_acumulado = 100 * (portfolio_posicao['Total'][-1] / portfolio_posicao['Total'][0] - 1)\n",
    "retorno_total_acumulado"
   ]
  },
  {
   "cell_type": "code",
   "execution_count": 120,
   "metadata": {},
   "outputs": [
    {
     "data": {
      "text/plain": [
       "0.0990523968649568"
      ]
     },
     "execution_count": 120,
     "metadata": {},
     "output_type": "execute_result"
    }
   ],
   "source": [
    "sharpe_ratio = (portfolio_posicao['Retorno Diario'].mean()) / portfolio_posicao['Retorno Diario'].std()\n",
    "sharpe_ratio"
   ]
  },
  {
   "cell_type": "code",
   "execution_count": 121,
   "metadata": {},
   "outputs": [
    {
     "data": {
      "text/plain": [
       "1.5504152490703134"
      ]
     },
     "execution_count": 121,
     "metadata": {},
     "output_type": "execute_result"
    }
   ],
   "source": [
    "sharpe_ratio_ano = (245 ** 0.5) * sharpe_ratio\n",
    "sharpe_ratio_ano"
   ]
  },
  {
   "cell_type": "markdown",
   "metadata": {},
   "source": [
    "## Retorno diário logarítimico"
   ]
  },
  {
   "cell_type": "code",
   "execution_count": 122,
   "metadata": {},
   "outputs": [],
   "source": [
    "retorno_log = np.log( portfolio_acoes / portfolio_acoes.shift(1) )"
   ]
  },
  {
   "cell_type": "code",
   "execution_count": 123,
   "metadata": {},
   "outputs": [
    {
     "data": {
      "text/html": [
       "<div>\n",
       "<style scoped>\n",
       "    .dataframe tbody tr th:only-of-type {\n",
       "        vertical-align: middle;\n",
       "    }\n",
       "\n",
       "    .dataframe tbody tr th {\n",
       "        vertical-align: top;\n",
       "    }\n",
       "\n",
       "    .dataframe thead th {\n",
       "        text-align: right;\n",
       "    }\n",
       "</style>\n",
       "<table border=\"1\" class=\"dataframe\">\n",
       "  <thead>\n",
       "    <tr style=\"text-align: right;\">\n",
       "      <th></th>\n",
       "      <th>ITUB</th>\n",
       "      <th>ABEV</th>\n",
       "      <th>USIM</th>\n",
       "      <th>PMAM</th>\n",
       "      <th>FLRY</th>\n",
       "      <th>PSSA</th>\n",
       "      <th>TIET</th>\n",
       "    </tr>\n",
       "    <tr>\n",
       "      <th>Date</th>\n",
       "      <th></th>\n",
       "      <th></th>\n",
       "      <th></th>\n",
       "      <th></th>\n",
       "      <th></th>\n",
       "      <th></th>\n",
       "      <th></th>\n",
       "    </tr>\n",
       "  </thead>\n",
       "  <tbody>\n",
       "    <tr>\n",
       "      <th>2018-06-22</th>\n",
       "      <td>NaN</td>\n",
       "      <td>NaN</td>\n",
       "      <td>NaN</td>\n",
       "      <td>NaN</td>\n",
       "      <td>NaN</td>\n",
       "      <td>NaN</td>\n",
       "      <td>NaN</td>\n",
       "    </tr>\n",
       "    <tr>\n",
       "      <th>2018-06-25</th>\n",
       "      <td>0.002030</td>\n",
       "      <td>0.003298</td>\n",
       "      <td>-0.001398</td>\n",
       "      <td>-0.040822</td>\n",
       "      <td>0.011883</td>\n",
       "      <td>0.019904</td>\n",
       "      <td>0.010309</td>\n",
       "    </tr>\n",
       "    <tr>\n",
       "      <th>2018-06-26</th>\n",
       "      <td>-0.003305</td>\n",
       "      <td>-0.007161</td>\n",
       "      <td>-0.005610</td>\n",
       "      <td>-0.025318</td>\n",
       "      <td>0.060840</td>\n",
       "      <td>0.018524</td>\n",
       "      <td>0.000000</td>\n",
       "    </tr>\n",
       "    <tr>\n",
       "      <th>2018-06-27</th>\n",
       "      <td>-0.018235</td>\n",
       "      <td>-0.007769</td>\n",
       "      <td>0.005610</td>\n",
       "      <td>-0.017242</td>\n",
       "      <td>-0.017789</td>\n",
       "      <td>-0.019788</td>\n",
       "      <td>-0.025976</td>\n",
       "    </tr>\n",
       "    <tr>\n",
       "      <th>2018-06-28</th>\n",
       "      <td>0.027356</td>\n",
       "      <td>0.003337</td>\n",
       "      <td>0.038413</td>\n",
       "      <td>-0.026433</td>\n",
       "      <td>0.021996</td>\n",
       "      <td>0.008656</td>\n",
       "      <td>0.020834</td>\n",
       "    </tr>\n",
       "  </tbody>\n",
       "</table>\n",
       "</div>"
      ],
      "text/plain": [
       "                ITUB      ABEV      USIM      PMAM      FLRY      PSSA  \\\n",
       "Date                                                                     \n",
       "2018-06-22       NaN       NaN       NaN       NaN       NaN       NaN   \n",
       "2018-06-25  0.002030  0.003298 -0.001398 -0.040822  0.011883  0.019904   \n",
       "2018-06-26 -0.003305 -0.007161 -0.005610 -0.025318  0.060840  0.018524   \n",
       "2018-06-27 -0.018235 -0.007769  0.005610 -0.017242 -0.017789 -0.019788   \n",
       "2018-06-28  0.027356  0.003337  0.038413 -0.026433  0.021996  0.008656   \n",
       "\n",
       "                TIET  \n",
       "Date                  \n",
       "2018-06-22       NaN  \n",
       "2018-06-25  0.010309  \n",
       "2018-06-26  0.000000  \n",
       "2018-06-27 -0.025976  \n",
       "2018-06-28  0.020834  "
      ]
     },
     "execution_count": 123,
     "metadata": {},
     "output_type": "execute_result"
    }
   ],
   "source": [
    "retorno_log.head()"
   ]
  },
  {
   "cell_type": "code",
   "execution_count": 124,
   "metadata": {},
   "outputs": [
    {
     "data": {
      "text/html": [
       "<div>\n",
       "<style scoped>\n",
       "    .dataframe tbody tr th:only-of-type {\n",
       "        vertical-align: middle;\n",
       "    }\n",
       "\n",
       "    .dataframe tbody tr th {\n",
       "        vertical-align: top;\n",
       "    }\n",
       "\n",
       "    .dataframe thead th {\n",
       "        text-align: right;\n",
       "    }\n",
       "</style>\n",
       "<table border=\"1\" class=\"dataframe\">\n",
       "  <thead>\n",
       "    <tr style=\"text-align: right;\">\n",
       "      <th></th>\n",
       "      <th>ITUB</th>\n",
       "      <th>ABEV</th>\n",
       "      <th>USIM</th>\n",
       "      <th>PMAM</th>\n",
       "      <th>FLRY</th>\n",
       "      <th>PSSA</th>\n",
       "      <th>TIET</th>\n",
       "    </tr>\n",
       "    <tr>\n",
       "      <th>Date</th>\n",
       "      <th></th>\n",
       "      <th></th>\n",
       "      <th></th>\n",
       "      <th></th>\n",
       "      <th></th>\n",
       "      <th></th>\n",
       "      <th></th>\n",
       "    </tr>\n",
       "  </thead>\n",
       "  <tbody>\n",
       "    <tr>\n",
       "      <th>2019-06-14</th>\n",
       "      <td>0.000294</td>\n",
       "      <td>-0.011835</td>\n",
       "      <td>-0.030702</td>\n",
       "      <td>-0.006151</td>\n",
       "      <td>-0.018019</td>\n",
       "      <td>-0.001889</td>\n",
       "      <td>0.008696</td>\n",
       "    </tr>\n",
       "    <tr>\n",
       "      <th>2019-06-17</th>\n",
       "      <td>-0.001178</td>\n",
       "      <td>0.009029</td>\n",
       "      <td>-0.006952</td>\n",
       "      <td>-0.011456</td>\n",
       "      <td>-0.014944</td>\n",
       "      <td>0.012399</td>\n",
       "      <td>0.017168</td>\n",
       "    </tr>\n",
       "    <tr>\n",
       "      <th>2019-06-18</th>\n",
       "      <td>0.025590</td>\n",
       "      <td>0.013947</td>\n",
       "      <td>0.020714</td>\n",
       "      <td>-0.015969</td>\n",
       "      <td>0.004845</td>\n",
       "      <td>0.004099</td>\n",
       "      <td>-0.008547</td>\n",
       "    </tr>\n",
       "    <tr>\n",
       "      <th>2019-06-19</th>\n",
       "      <td>0.015668</td>\n",
       "      <td>0.008276</td>\n",
       "      <td>-0.013762</td>\n",
       "      <td>0.020759</td>\n",
       "      <td>0.005302</td>\n",
       "      <td>0.001301</td>\n",
       "      <td>0.000000</td>\n",
       "    </tr>\n",
       "    <tr>\n",
       "      <th>2019-06-21</th>\n",
       "      <td>0.017372</td>\n",
       "      <td>0.013643</td>\n",
       "      <td>0.003458</td>\n",
       "      <td>0.010456</td>\n",
       "      <td>0.009569</td>\n",
       "      <td>0.005556</td>\n",
       "      <td>0.000000</td>\n",
       "    </tr>\n",
       "  </tbody>\n",
       "</table>\n",
       "</div>"
      ],
      "text/plain": [
       "                ITUB      ABEV      USIM      PMAM      FLRY      PSSA  \\\n",
       "Date                                                                     \n",
       "2019-06-14  0.000294 -0.011835 -0.030702 -0.006151 -0.018019 -0.001889   \n",
       "2019-06-17 -0.001178  0.009029 -0.006952 -0.011456 -0.014944  0.012399   \n",
       "2019-06-18  0.025590  0.013947  0.020714 -0.015969  0.004845  0.004099   \n",
       "2019-06-19  0.015668  0.008276 -0.013762  0.020759  0.005302  0.001301   \n",
       "2019-06-21  0.017372  0.013643  0.003458  0.010456  0.009569  0.005556   \n",
       "\n",
       "                TIET  \n",
       "Date                  \n",
       "2019-06-14  0.008696  \n",
       "2019-06-17  0.017168  \n",
       "2019-06-18 -0.008547  \n",
       "2019-06-19  0.000000  \n",
       "2019-06-21  0.000000  "
      ]
     },
     "execution_count": 124,
     "metadata": {},
     "output_type": "execute_result"
    }
   ],
   "source": [
    "retorno_log.tail()"
   ]
  },
  {
   "cell_type": "code",
   "execution_count": 125,
   "metadata": {},
   "outputs": [
    {
     "name": "stdout",
     "output_type": "stream",
     "text": [
      "<class 'pandas.core.frame.DataFrame'>\n",
      "DatetimeIndex: 245 entries, 2018-06-22 to 2019-06-21\n",
      "Data columns (total 7 columns):\n",
      "ITUB    244 non-null float64\n",
      "ABEV    244 non-null float64\n",
      "USIM    244 non-null float64\n",
      "PMAM    244 non-null float64\n",
      "FLRY    244 non-null float64\n",
      "PSSA    244 non-null float64\n",
      "TIET    244 non-null float64\n",
      "dtypes: float64(7)\n",
      "memory usage: 25.3 KB\n"
     ]
    }
   ],
   "source": [
    "retorno_log.info()"
   ]
  },
  {
   "cell_type": "markdown",
   "metadata": {},
   "source": [
    "## Gerando um único portfólio com pesos aleatórios"
   ]
  },
  {
   "cell_type": "code",
   "execution_count": 126,
   "metadata": {},
   "outputs": [
    {
     "name": "stdout",
     "output_type": "stream",
     "text": [
      "Index(['ITUB', 'ABEV', 'USIM', 'PMAM', 'FLRY', 'PSSA', 'TIET'], dtype='object')\n",
      "Pesos Aleatórios\n",
      "[0.33824905 0.16844131 0.11062981 0.9154562  0.2178225  0.58858816\n",
      " 0.64799819]\n",
      "Rebalancear os pesos\n",
      "[0.11323337 0.05638797 0.0370348  0.30646114 0.07291898 0.19703772\n",
      " 0.21692602]\n",
      "Retorno esperado\n",
      "0.18127112450491328\n",
      "Volatilidade esperada\n",
      "0.19576069978217714\n",
      "Sharpe Ratio\n",
      "0.9259832270042638\n"
     ]
    }
   ],
   "source": [
    "print(portfolio_acoes.columns)\n",
    "\n",
    "# Gerando pesos aleatórios\n",
    "print(\"Pesos Aleatórios\")\n",
    "pesos = np.array(np.random.random(7))\n",
    "print(pesos)\n",
    "\n",
    "print(\"Rebalancear os pesos\")\n",
    "pesos = pesos / np.sum(pesos)\n",
    "print(pesos)\n",
    "\n",
    "# Retorno esperado\n",
    "print(\"Retorno esperado\")\n",
    "ret_esp = np.sum( (retorno_log.mean() * pesos) * 245 )\n",
    "print(ret_esp)\n",
    "\n",
    "# Volatilidade esperada\n",
    "print(\"Volatilidade esperada\")\n",
    "vol_esp = np.sqrt( np.dot( pesos.T, np.dot( retorno_log.cov() * 245, pesos )))\n",
    "print(vol_esp)\n",
    "\n",
    "# Taxa de Sharpe\n",
    "print(\"Sharpe Ratio\")\n",
    "sharpe = ret_esp / vol_esp\n",
    "print(sharpe)\n"
   ]
  },
  {
   "cell_type": "markdown",
   "metadata": {},
   "source": [
    "## Gerando milhares de portfólios"
   ]
  },
  {
   "cell_type": "code",
   "execution_count": 127,
   "metadata": {},
   "outputs": [
    {
     "ename": "NameError",
     "evalue": "name 'weights' is not defined",
     "output_type": "error",
     "traceback": [
      "\u001b[0;31m---------------------------------------------------------------------------\u001b[0m",
      "\u001b[0;31mNameError\u001b[0m                                 Traceback (most recent call last)",
      "\u001b[0;32m<ipython-input-127-f80e50522464>\u001b[0m in \u001b[0;36m<module>\u001b[0;34m\u001b[0m\n\u001b[1;32m     13\u001b[0m \u001b[0;34m\u001b[0m\u001b[0m\n\u001b[1;32m     14\u001b[0m     \u001b[0;31m# Retorno esperado\u001b[0m\u001b[0;34m\u001b[0m\u001b[0;34m\u001b[0m\u001b[0;34m\u001b[0m\u001b[0m\n\u001b[0;32m---> 15\u001b[0;31m     \u001b[0mret_esp_arr\u001b[0m\u001b[0;34m[\u001b[0m\u001b[0mind\u001b[0m\u001b[0;34m]\u001b[0m \u001b[0;34m=\u001b[0m \u001b[0mnp\u001b[0m\u001b[0;34m.\u001b[0m\u001b[0msum\u001b[0m\u001b[0;34m(\u001b[0m \u001b[0;34m(\u001b[0m\u001b[0mretorno_log\u001b[0m\u001b[0;34m.\u001b[0m\u001b[0mmean\u001b[0m\u001b[0;34m(\u001b[0m\u001b[0;34m)\u001b[0m \u001b[0;34m*\u001b[0m \u001b[0mweights\u001b[0m\u001b[0;34m)\u001b[0m \u001b[0;34m*\u001b[0m \u001b[0;36m245\u001b[0m \u001b[0;34m)\u001b[0m\u001b[0;34m\u001b[0m\u001b[0;34m\u001b[0m\u001b[0m\n\u001b[0m\u001b[1;32m     16\u001b[0m \u001b[0;34m\u001b[0m\u001b[0m\n\u001b[1;32m     17\u001b[0m     \u001b[0;31m# Volatilidade esperada\u001b[0m\u001b[0;34m\u001b[0m\u001b[0;34m\u001b[0m\u001b[0;34m\u001b[0m\u001b[0m\n",
      "\u001b[0;31mNameError\u001b[0m: name 'weights' is not defined"
     ]
    }
   ],
   "source": [
    "num_portfolios = 5\n",
    "pesos_arr = np.zeros((num_portfolios, len(portfolio_acoes.columns)))\n",
    "ret_esp_arr = np.zeros(num_portfolios)\n",
    "vol_esp_arr = np.zeros(num_portfolios)\n",
    "sharpe_arr = np.zeros(num_portfolios)\n",
    "\n",
    "for ind in range(num_portfolios):\n",
    "\n",
    "    # Gerando pesos aleatórios\n",
    "    pesos = np.array(np.random.random(7))\n",
    "    pesos = pesos / np.sum(pesos)\n",
    "    pesos_arr[ind,:] = pesos\n",
    "\n",
    "    # Retorno esperado\n",
    "    ret_esp_arr[ind] = np.sum( (retorno_log.mean() * weights) * 245 )\n",
    "\n",
    "    # Volatilidade esperada\n",
    "    vol_esp_arr[ind] = np.sqrt( np.dot( pesos.T, np.dot( retorno_log.cov() * 245, pesos ) ) )\n",
    "\n",
    "    # Taxa de Sharpe\n",
    "    sharpe_arr[ind] = ret_esp_arr[ind] / vol_esp_arr[ind]\n",
    "    "
   ]
  },
  {
   "cell_type": "code",
   "execution_count": null,
   "metadata": {},
   "outputs": [],
   "source": [
    "sharpe_arr.max()"
   ]
  },
  {
   "cell_type": "code",
   "execution_count": null,
   "metadata": {},
   "outputs": [],
   "source": [
    "sharpe_arr.argmax()"
   ]
  },
  {
   "cell_type": "code",
   "execution_count": null,
   "metadata": {},
   "outputs": [],
   "source": [
    "pesos_arr[sharpe_arr.argmax(),:]"
   ]
  },
  {
   "cell_type": "code",
   "execution_count": null,
   "metadata": {},
   "outputs": [],
   "source": []
  }
 ],
 "metadata": {
  "kernelspec": {
   "display_name": "Python 3",
   "language": "python",
   "name": "python3"
  },
  "language_info": {
   "codemirror_mode": {
    "name": "ipython",
    "version": 3
   },
   "file_extension": ".py",
   "mimetype": "text/x-python",
   "name": "python",
   "nbconvert_exporter": "python",
   "pygments_lexer": "ipython3",
   "version": "3.7.3"
  }
 },
 "nbformat": 4,
 "nbformat_minor": 2
}

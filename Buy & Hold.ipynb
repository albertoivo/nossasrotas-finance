{
 "cells": [
  {
   "cell_type": "markdown",
   "metadata": {},
   "source": [
    "# Buy & Hold"
   ]
  },
  {
   "cell_type": "code",
   "execution_count": null,
   "metadata": {},
   "outputs": [],
   "source": [
    "import pandas_datareader.data as web\n",
    "import pandas as pd\n",
    "import numpy as np\n",
    "import datetime\n",
    "import matplotlib.pyplot as plt\n",
    "\n",
    "%matplotlib inline\n",
    "\n",
    "ds_yahoo = 'yahoo'\n",
    "\n",
    "last_year = datetime.datetime.now().year - 1\n",
    "start = datetime.datetime.now().replace(year=last_year)\n",
    "end = datetime.datetime.now()"
   ]
  },
  {
   "cell_type": "code",
   "execution_count": null,
   "metadata": {},
   "outputs": [],
   "source": [
    "tickers = ['ITUB4.SA', 'ABEV3.SA', 'USIM5.SA', 'PMAM3.SA', 'FLRY3.SA',\n",
    "           'PSSA3.SA', 'TIET4.SA', 'LEVE3.SA', 'WHRL3.SA',\n",
    "           'LB', 'M',\n",
    "           'IAU', 'BTC-USD']\n",
    "\n",
    "itau = web.DataReader(tickers[0], ds_yahoo, start, end)\n",
    "abev = web.DataReader(tickers[1], ds_yahoo, start, end)\n",
    "usim = web.DataReader(tickers[2], ds_yahoo, start, end)\n",
    "pmam = web.DataReader(tickers[3], ds_yahoo, start, end)\n",
    "flry = web.DataReader(tickers[4], ds_yahoo, start, end)\n",
    "pssa = web.DataReader(tickers[5], ds_yahoo, start, end)\n",
    "tiet = web.DataReader(tickers[6], ds_yahoo, start, end)\n",
    "leve = web.DataReader(tickers[7], ds_yahoo, start, end)\n",
    "whrl = web.DataReader(tickers[8], ds_yahoo, start, end)\n",
    "lb   = web.DataReader(tickers[9], ds_yahoo, start, end)\n",
    "m    = web.DataReader(tickers[10], ds_yahoo, start, end)\n",
    "iau  = web.DataReader(tickers[11], ds_yahoo, start, end)\n",
    "bitcoin = web.DataReader(tickers[12], ds_yahoo, start, end)"
   ]
  }
 ],
 "metadata": {
  "kernelspec": {
   "display_name": "Python 3",
   "language": "python",
   "name": "python3"
  },
  "language_info": {
   "codemirror_mode": {
    "name": "ipython",
    "version": 3
   },
   "file_extension": ".py",
   "mimetype": "text/x-python",
   "name": "python",
   "nbconvert_exporter": "python",
   "pygments_lexer": "ipython3",
   "version": "3.6.8"
  }
 },
 "nbformat": 4,
 "nbformat_minor": 2
}

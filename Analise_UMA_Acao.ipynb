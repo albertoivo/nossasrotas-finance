{
 "cells": [
  {
   "cell_type": "markdown",
   "metadata": {},
   "source": [
    "# Análise da Carteira"
   ]
  },
  {
   "cell_type": "code",
   "execution_count": 1,
   "metadata": {},
   "outputs": [],
   "source": [
    "import pandas_datareader.data as web\n",
    "import pandas as pd\n",
    "import numpy as np\n",
    "import datetime\n",
    "import matplotlib.pyplot as plt\n",
    "\n",
    "%matplotlib inline\n",
    "\n",
    "ds_yahoo = 'yahoo'\n",
    "\n",
    "last_year = datetime.datetime.now().year - 1\n",
    "start = datetime.datetime.now().replace(year=last_year)\n",
    "end = datetime.datetime.now()"
   ]
  },
  {
   "cell_type": "markdown",
   "metadata": {},
   "source": [
    "## Portfolio Brasileiro Atual"
   ]
  },
  {
   "cell_type": "markdown",
   "metadata": {},
   "source": [
    "### Pegando os dados na API do Yahoo"
   ]
  },
  {
   "cell_type": "code",
   "execution_count": 2,
   "metadata": {},
   "outputs": [],
   "source": [
    "acao = web.DataReader('MGLU3.SA', ds_yahoo, start, end)"
   ]
  },
  {
   "cell_type": "markdown",
   "metadata": {},
   "source": [
    "## Normalizando o retorno diário de cada ativo do portfólio"
   ]
  },
  {
   "cell_type": "code",
   "execution_count": 3,
   "metadata": {},
   "outputs": [],
   "source": [
    "acao['Retorno Normalizado'] = acao['Adj Close'] / acao.iloc[0]['Adj Close']"
   ]
  },
  {
   "cell_type": "code",
   "execution_count": 4,
   "metadata": {},
   "outputs": [],
   "source": [
    "acao['Retorno Diario R$'] = acao['Adj Close'].diff(1)"
   ]
  },
  {
   "cell_type": "code",
   "execution_count": 7,
   "metadata": {},
   "outputs": [],
   "source": [
    "acao['Retorno Diario %'] = round(acao['Adj Close'].pct_change(1) * 100, 2)"
   ]
  },
  {
   "cell_type": "code",
   "execution_count": 8,
   "metadata": {},
   "outputs": [
    {
     "data": {
      "text/html": [
       "<div>\n",
       "<style scoped>\n",
       "    .dataframe tbody tr th:only-of-type {\n",
       "        vertical-align: middle;\n",
       "    }\n",
       "\n",
       "    .dataframe tbody tr th {\n",
       "        vertical-align: top;\n",
       "    }\n",
       "\n",
       "    .dataframe thead th {\n",
       "        text-align: right;\n",
       "    }\n",
       "</style>\n",
       "<table border=\"1\" class=\"dataframe\">\n",
       "  <thead>\n",
       "    <tr style=\"text-align: right;\">\n",
       "      <th></th>\n",
       "      <th>High</th>\n",
       "      <th>Low</th>\n",
       "      <th>Open</th>\n",
       "      <th>Close</th>\n",
       "      <th>Volume</th>\n",
       "      <th>Adj Close</th>\n",
       "      <th>Retorno Normalizado</th>\n",
       "      <th>Retorno Diario R$</th>\n",
       "      <th>Retorno Diario %</th>\n",
       "      <th>Parcial</th>\n",
       "    </tr>\n",
       "    <tr>\n",
       "      <th>Date</th>\n",
       "      <th></th>\n",
       "      <th></th>\n",
       "      <th></th>\n",
       "      <th></th>\n",
       "      <th></th>\n",
       "      <th></th>\n",
       "      <th></th>\n",
       "      <th></th>\n",
       "      <th></th>\n",
       "      <th></th>\n",
       "    </tr>\n",
       "  </thead>\n",
       "  <tbody>\n",
       "    <tr>\n",
       "      <th>2018-11-14</th>\n",
       "      <td>19.537500</td>\n",
       "      <td>18.688700</td>\n",
       "      <td>19.293800</td>\n",
       "      <td>19.437500</td>\n",
       "      <td>11627200.0</td>\n",
       "      <td>18.549950</td>\n",
       "      <td>1.000000</td>\n",
       "      <td>NaN</td>\n",
       "      <td>NaN</td>\n",
       "      <td>NaN</td>\n",
       "    </tr>\n",
       "    <tr>\n",
       "      <th>2018-11-16</th>\n",
       "      <td>19.715000</td>\n",
       "      <td>19.375000</td>\n",
       "      <td>19.611200</td>\n",
       "      <td>19.562500</td>\n",
       "      <td>10806400.0</td>\n",
       "      <td>18.669243</td>\n",
       "      <td>1.006431</td>\n",
       "      <td>0.119293</td>\n",
       "      <td>0.64</td>\n",
       "      <td>18.669243</td>\n",
       "    </tr>\n",
       "    <tr>\n",
       "      <th>2018-11-19</th>\n",
       "      <td>19.725000</td>\n",
       "      <td>19.282499</td>\n",
       "      <td>19.625000</td>\n",
       "      <td>19.518700</td>\n",
       "      <td>5355200.0</td>\n",
       "      <td>18.627441</td>\n",
       "      <td>1.004177</td>\n",
       "      <td>-0.041801</td>\n",
       "      <td>-0.22</td>\n",
       "      <td>18.508148</td>\n",
       "    </tr>\n",
       "    <tr>\n",
       "      <th>2018-11-21</th>\n",
       "      <td>19.606300</td>\n",
       "      <td>19.025000</td>\n",
       "      <td>19.348700</td>\n",
       "      <td>19.405001</td>\n",
       "      <td>7469600.0</td>\n",
       "      <td>18.518934</td>\n",
       "      <td>0.998328</td>\n",
       "      <td>-0.108507</td>\n",
       "      <td>-0.58</td>\n",
       "      <td>18.441442</td>\n",
       "    </tr>\n",
       "    <tr>\n",
       "      <th>2018-11-22</th>\n",
       "      <td>20.000000</td>\n",
       "      <td>19.376200</td>\n",
       "      <td>19.388800</td>\n",
       "      <td>20.000000</td>\n",
       "      <td>9015200.0</td>\n",
       "      <td>19.086765</td>\n",
       "      <td>1.028939</td>\n",
       "      <td>0.567831</td>\n",
       "      <td>3.07</td>\n",
       "      <td>19.117781</td>\n",
       "    </tr>\n",
       "    <tr>\n",
       "      <th>...</th>\n",
       "      <td>...</td>\n",
       "      <td>...</td>\n",
       "      <td>...</td>\n",
       "      <td>...</td>\n",
       "      <td>...</td>\n",
       "      <td>...</td>\n",
       "      <td>...</td>\n",
       "      <td>...</td>\n",
       "      <td>...</td>\n",
       "      <td>...</td>\n",
       "    </tr>\n",
       "    <tr>\n",
       "      <th>2019-11-08</th>\n",
       "      <td>44.790001</td>\n",
       "      <td>42.950001</td>\n",
       "      <td>43.509998</td>\n",
       "      <td>43.810001</td>\n",
       "      <td>10639700.0</td>\n",
       "      <td>43.810001</td>\n",
       "      <td>2.361732</td>\n",
       "      <td>-0.389999</td>\n",
       "      <td>-0.88</td>\n",
       "      <td>18.159950</td>\n",
       "    </tr>\n",
       "    <tr>\n",
       "      <th>2019-11-11</th>\n",
       "      <td>45.480000</td>\n",
       "      <td>43.240002</td>\n",
       "      <td>43.500000</td>\n",
       "      <td>45.020000</td>\n",
       "      <td>11163900.0</td>\n",
       "      <td>45.020000</td>\n",
       "      <td>2.426961</td>\n",
       "      <td>1.209999</td>\n",
       "      <td>2.76</td>\n",
       "      <td>19.759949</td>\n",
       "    </tr>\n",
       "    <tr>\n",
       "      <th>2019-11-12</th>\n",
       "      <td>45.459999</td>\n",
       "      <td>43.070000</td>\n",
       "      <td>45.200001</td>\n",
       "      <td>43.400002</td>\n",
       "      <td>16359300.0</td>\n",
       "      <td>43.400002</td>\n",
       "      <td>2.339629</td>\n",
       "      <td>-1.619999</td>\n",
       "      <td>-3.60</td>\n",
       "      <td>16.929951</td>\n",
       "    </tr>\n",
       "    <tr>\n",
       "      <th>2019-11-13</th>\n",
       "      <td>42.880001</td>\n",
       "      <td>41.700001</td>\n",
       "      <td>42.860001</td>\n",
       "      <td>42.500000</td>\n",
       "      <td>22822800.0</td>\n",
       "      <td>42.500000</td>\n",
       "      <td>2.291111</td>\n",
       "      <td>-0.900002</td>\n",
       "      <td>-2.07</td>\n",
       "      <td>17.649948</td>\n",
       "    </tr>\n",
       "    <tr>\n",
       "      <th>2019-11-14</th>\n",
       "      <td>44.200001</td>\n",
       "      <td>42.570000</td>\n",
       "      <td>42.700001</td>\n",
       "      <td>44.070000</td>\n",
       "      <td>7472800.0</td>\n",
       "      <td>44.070000</td>\n",
       "      <td>2.375748</td>\n",
       "      <td>1.570000</td>\n",
       "      <td>3.69</td>\n",
       "      <td>20.119949</td>\n",
       "    </tr>\n",
       "  </tbody>\n",
       "</table>\n",
       "<p>249 rows × 10 columns</p>\n",
       "</div>"
      ],
      "text/plain": [
       "                 High        Low       Open      Close      Volume  Adj Close  \\\n",
       "Date                                                                            \n",
       "2018-11-14  19.537500  18.688700  19.293800  19.437500  11627200.0  18.549950   \n",
       "2018-11-16  19.715000  19.375000  19.611200  19.562500  10806400.0  18.669243   \n",
       "2018-11-19  19.725000  19.282499  19.625000  19.518700   5355200.0  18.627441   \n",
       "2018-11-21  19.606300  19.025000  19.348700  19.405001   7469600.0  18.518934   \n",
       "2018-11-22  20.000000  19.376200  19.388800  20.000000   9015200.0  19.086765   \n",
       "...               ...        ...        ...        ...         ...        ...   \n",
       "2019-11-08  44.790001  42.950001  43.509998  43.810001  10639700.0  43.810001   \n",
       "2019-11-11  45.480000  43.240002  43.500000  45.020000  11163900.0  45.020000   \n",
       "2019-11-12  45.459999  43.070000  45.200001  43.400002  16359300.0  43.400002   \n",
       "2019-11-13  42.880001  41.700001  42.860001  42.500000  22822800.0  42.500000   \n",
       "2019-11-14  44.200001  42.570000  42.700001  44.070000   7472800.0  44.070000   \n",
       "\n",
       "            Retorno Normalizado  Retorno Diario R$  Retorno Diario %  \\\n",
       "Date                                                                   \n",
       "2018-11-14             1.000000                NaN               NaN   \n",
       "2018-11-16             1.006431           0.119293              0.64   \n",
       "2018-11-19             1.004177          -0.041801             -0.22   \n",
       "2018-11-21             0.998328          -0.108507             -0.58   \n",
       "2018-11-22             1.028939           0.567831              3.07   \n",
       "...                         ...                ...               ...   \n",
       "2019-11-08             2.361732          -0.389999             -0.88   \n",
       "2019-11-11             2.426961           1.209999              2.76   \n",
       "2019-11-12             2.339629          -1.619999             -3.60   \n",
       "2019-11-13             2.291111          -0.900002             -2.07   \n",
       "2019-11-14             2.375748           1.570000              3.69   \n",
       "\n",
       "              Parcial  \n",
       "Date                   \n",
       "2018-11-14        NaN  \n",
       "2018-11-16  18.669243  \n",
       "2018-11-19  18.508148  \n",
       "2018-11-21  18.441442  \n",
       "2018-11-22  19.117781  \n",
       "...               ...  \n",
       "2019-11-08  18.159950  \n",
       "2019-11-11  19.759949  \n",
       "2019-11-12  16.929951  \n",
       "2019-11-13  17.649948  \n",
       "2019-11-14  20.119949  \n",
       "\n",
       "[249 rows x 10 columns]"
      ]
     },
     "execution_count": 8,
     "metadata": {},
     "output_type": "execute_result"
    }
   ],
   "source": [
    "acao"
   ]
  },
  {
   "cell_type": "markdown",
   "metadata": {},
   "source": [
    "## Desempenho da carteira"
   ]
  },
  {
   "cell_type": "code",
   "execution_count": null,
   "metadata": {},
   "outputs": [],
   "source": [
    "acao['Total'] = acao[]"
   ]
  },
  {
   "cell_type": "code",
   "execution_count": null,
   "metadata": {},
   "outputs": [],
   "source": [
    "print('Investimento inicial:')\n",
    "print(acao['Total'][0])\n",
    "print('Investimento final:')\n",
    "print(round(acao['Total'][-1], 2))"
   ]
  },
  {
   "cell_type": "code",
   "execution_count": null,
   "metadata": {},
   "outputs": [],
   "source": [
    "portfolio_posicao['Total'].plot(figsize=(17,6))\n",
    "plt.title('Posição total do portfolio');"
   ]
  },
  {
   "cell_type": "markdown",
   "metadata": {},
   "source": [
    "## Desempenho da Carteira Normalizada"
   ]
  },
  {
   "cell_type": "code",
   "execution_count": null,
   "metadata": {},
   "outputs": [],
   "source": [
    "portfolio_normalizado = portfolio_acoes / portfolio_acoes.iloc[0]\n",
    "portfolio_normalizado.plot(figsize=(17,6));"
   ]
  },
  {
   "cell_type": "markdown",
   "metadata": {},
   "source": [
    "## Retorno diário da carteira"
   ]
  },
  {
   "cell_type": "code",
   "execution_count": null,
   "metadata": {},
   "outputs": [],
   "source": [
    "portfolio_posicao['Retorno Diario'] = portfolio_posicao['Total'].pct_change(1)"
   ]
  },
  {
   "cell_type": "code",
   "execution_count": null,
   "metadata": {},
   "outputs": [],
   "source": [
    "# Média de retorno diário\n",
    "round_ret_medio_diario = round(portfolio_posicao['Retorno Diario'].mean() * 100, 2)\n",
    "print('Essa carteira rende em média {}% diariamente'.format(round_ret_medio_diario))"
   ]
  },
  {
   "cell_type": "code",
   "execution_count": null,
   "metadata": {},
   "outputs": [],
   "source": [
    "# Desvio Padrão do retorno diário\n",
    "portfolio_posicao['Retorno Diario'].std()"
   ]
  },
  {
   "cell_type": "code",
   "execution_count": null,
   "metadata": {},
   "outputs": [],
   "source": [
    "# Gráfico de densidade\n",
    "portfolio_posicao['Retorno Diario'].plot(kind='kde', figsize=(4,5));"
   ]
  },
  {
   "cell_type": "code",
   "execution_count": null,
   "metadata": {},
   "outputs": [],
   "source": [
    "print('Nos últimos 12 meses houve {} pregões.'.format(len(portfolio_posicao)))\n",
    "print('Sendo que {} dias foram de queda e {} dias de alta'\n",
    "      .format(len(portfolio_posicao[portfolio_posicao['Retorno Diario'] > 0]),\n",
    "             len(portfolio_posicao[portfolio_posicao['Retorno Diario'] < 0])))"
   ]
  },
  {
   "cell_type": "markdown",
   "metadata": {},
   "source": [
    "## Retorno Total da Carteira"
   ]
  },
  {
   "cell_type": "code",
   "execution_count": null,
   "metadata": {},
   "outputs": [],
   "source": [
    "retorno_total_acumulado = 100 * (portfolio_posicao['Total'][-1] / portfolio_posicao['Total'][0] - 1)\n",
    "round_ret = round(retorno_total_acumulado, 3)\n",
    "print('Essa carteira rendeu {}%'.format(round_ret))"
   ]
  }
 ],
 "metadata": {
  "kernelspec": {
   "display_name": "Python 3",
   "language": "python",
   "name": "python3"
  },
  "language_info": {
   "codemirror_mode": {
    "name": "ipython",
    "version": 3
   },
   "file_extension": ".py",
   "mimetype": "text/x-python",
   "name": "python",
   "nbconvert_exporter": "python",
   "pygments_lexer": "ipython3",
   "version": "3.7.5"
  }
 },
 "nbformat": 4,
 "nbformat_minor": 2
}

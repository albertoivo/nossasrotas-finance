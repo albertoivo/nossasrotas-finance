{
 "cells": [
  {
   "cell_type": "markdown",
   "metadata": {},
   "source": [
    "# CAPM EUA"
   ]
  },
  {
   "cell_type": "code",
   "execution_count": null,
   "metadata": {},
   "outputs": [],
   "source": [
    "from scipy import stats\n",
    "import pandas_datareader.data as web\n",
    "import pandas as pd\n",
    "import numpy as np\n",
    "import datetime\n",
    "import matplotlib.pyplot as plt\n",
    "\n",
    "%matplotlib inline\n",
    "\n",
    "ds_yahoo = 'yahoo'\n",
    "\n",
    "last_year = datetime.datetime.now().year - 1\n",
    "start = datetime.datetime.now().replace(year=last_year)\n",
    "end = datetime.datetime.now()"
   ]
  },
  {
   "cell_type": "markdown",
   "metadata": {},
   "source": [
    "### S&P500 ETF"
   ]
  },
  {
   "cell_type": "code",
   "execution_count": null,
   "metadata": {},
   "outputs": [],
   "source": [
    "spy = web.DataReader('SPY', ds_yahoo, start, end)"
   ]
  },
  {
   "cell_type": "markdown",
   "metadata": {},
   "source": [
    "### Carteira de Ações"
   ]
  },
  {
   "cell_type": "code",
   "execution_count": null,
   "metadata": {},
   "outputs": [],
   "source": [
    "tickers = ['LB', 'M']\n",
    "\n",
    "lb = web.DataReader(tickers[0], ds_yahoo, start, end)\n",
    "m = web.DataReader(tickers[1], ds_yahoo, start, end)"
   ]
  },
  {
   "cell_type": "markdown",
   "metadata": {},
   "source": [
    "### Acumulado"
   ]
  },
  {
   "cell_type": "code",
   "execution_count": null,
   "metadata": {},
   "outputs": [],
   "source": [
    "spy['Acumulado'] = spy['Adj Close'] / spy['Adj Close'].iloc[0]\n",
    "lb['Acumulado'] = lb['Adj Close'] / lb['Adj Close'].iloc[0]\n",
    "m['Acumulado'] = m['Adj Close'] / m['Adj Close'].iloc[0]"
   ]
  },
  {
   "cell_type": "code",
   "execution_count": null,
   "metadata": {},
   "outputs": [],
   "source": [
    "spy['Acumulado'].plot(label='spy', figsize=(17,6))\n",
    "lb['Acumulado'].plot(label='Limited Brands')\n",
    "m['Acumulado'].plot(label='Macys')\n",
    "plt.legend();"
   ]
  },
  {
   "cell_type": "markdown",
   "metadata": {},
   "source": [
    "# Calculando o Retorno Diário de cada ação"
   ]
  },
  {
   "cell_type": "code",
   "execution_count": null,
   "metadata": {},
   "outputs": [],
   "source": [
    "spy['Retorno Diário'] = spy['Adj Close'].pct_change(1)\n",
    "lb['Retorno Diário'] = lb['Adj Close'].pct_change(1)\n",
    "m['Retorno Diário'] = m['Adj Close'].pct_change(1)"
   ]
  },
  {
   "cell_type": "markdown",
   "metadata": {},
   "source": [
    "# Calculando o Retorno Diário de toda a Carteira"
   ]
  },
  {
   "cell_type": "markdown",
   "metadata": {},
   "source": [
    "### Normalizando o retorno diário de cada ativo do portfólio"
   ]
  },
  {
   "cell_type": "code",
   "execution_count": null,
   "metadata": {},
   "outputs": [],
   "source": [
    "for acao_df in (lb, m):\n",
    "    acao_df['Retorno Normalizado'] = acao_df['Adj Close'] / acao_df.iloc[0]['Adj Close']"
   ]
  },
  {
   "cell_type": "markdown",
   "metadata": {},
   "source": [
    "### Alocando cada ativo com um peso específico"
   ]
  },
  {
   "cell_type": "code",
   "execution_count": null,
   "metadata": {},
   "outputs": [],
   "source": [
    "# Pesos atuais\n",
    "pesos = [.5, .5]\n",
    "\n",
    "for acao_df, alocacao in zip((lb, m), pesos):\n",
    "    acao_df['Alocacao'] = acao_df['Retorno Normalizado'] * alocacao"
   ]
  },
  {
   "cell_type": "markdown",
   "metadata": {},
   "source": [
    "### Posição de cada ativo no portfólio"
   ]
  },
  {
   "cell_type": "code",
   "execution_count": null,
   "metadata": {},
   "outputs": [],
   "source": [
    "for acao_df in (lb, m):\n",
    "    acao_df['Posicao'] = acao_df['Alocacao'] * 70000"
   ]
  },
  {
   "cell_type": "code",
   "execution_count": null,
   "metadata": {},
   "outputs": [],
   "source": [
    "todas_posicoes = [lb['Posicao'], m['Posicao']]\n",
    "\n",
    "# DF que terá colunas adicionadas como Total e Retorno Diário\n",
    "portfolio_posicao = pd.concat(todas_posicoes, axis=1)"
   ]
  },
  {
   "cell_type": "code",
   "execution_count": null,
   "metadata": {},
   "outputs": [],
   "source": [
    "portfolio_posicao.columns = ['LB', 'M']"
   ]
  },
  {
   "cell_type": "code",
   "execution_count": null,
   "metadata": {},
   "outputs": [],
   "source": [
    "portfolio_posicao['Total'] = portfolio_posicao.sum(axis=1)"
   ]
  },
  {
   "cell_type": "code",
   "execution_count": null,
   "metadata": {},
   "outputs": [],
   "source": [
    "portfolio_posicao['Retorno Diário'] = portfolio_posicao['Total'].pct_change(1)"
   ]
  },
  {
   "cell_type": "code",
   "execution_count": null,
   "metadata": {},
   "outputs": [],
   "source": [
    "portfolio_posicao.head()"
   ]
  },
  {
   "cell_type": "markdown",
   "metadata": {},
   "source": [
    "### Carteira EUA x S&P500"
   ]
  },
  {
   "cell_type": "code",
   "execution_count": null,
   "metadata": {},
   "outputs": [],
   "source": [
    "plt.scatter(portfolio_posicao['Retorno Diário'], spy['Retorno Diário'], alpha=0.5);"
   ]
  },
  {
   "cell_type": "code",
   "execution_count": null,
   "metadata": {},
   "outputs": [],
   "source": [
    "beta_p, alpha_p, r_value_p, p_value_p, std_err_p = stats.linregress(portfolio_posicao['Retorno Diário'].iloc[1:],\n",
    "                                                                    spy['Retorno Diário'].iloc[1:])"
   ]
  },
  {
   "cell_type": "code",
   "execution_count": null,
   "metadata": {},
   "outputs": [],
   "source": [
    "print('beta: {}'.format(beta_p))\n",
    "print('alpha: {}'.format(alpha_p))\n",
    "print('r_value: {}'.format(r_value_p))\n",
    "print('p_value: {}'.format(p_value_p))\n",
    "print('std_err: {}'.format(std_err_p))"
   ]
  },
  {
   "cell_type": "markdown",
   "metadata": {},
   "source": [
    "### Limited Brands x S&P500"
   ]
  },
  {
   "cell_type": "code",
   "execution_count": null,
   "metadata": {},
   "outputs": [],
   "source": [
    "plt.scatter(lb['Retorno Diário'], spy['Retorno Diário'], alpha=0.5);"
   ]
  },
  {
   "cell_type": "code",
   "execution_count": null,
   "metadata": {},
   "outputs": [],
   "source": [
    "beta_i, alpha_i, r_value_i, p_value_i, std_err_i = stats.linregress(lb['Retorno Diário'].iloc[1:],\n",
    "                                                                    spy['Retorno Diário'].iloc[1:])"
   ]
  },
  {
   "cell_type": "code",
   "execution_count": null,
   "metadata": {},
   "outputs": [],
   "source": [
    "print('beta: {}'.format(beta_i))\n",
    "print('alpha: {}'.format(alpha_i))\n",
    "print('r_value: {}'.format(r_value_i))\n",
    "print('p_value: {}'.format(p_value_i))\n",
    "print('std_err: {}'.format(std_err_i))"
   ]
  },
  {
   "cell_type": "markdown",
   "metadata": {},
   "source": [
    "### Macy's x S&P500"
   ]
  },
  {
   "cell_type": "code",
   "execution_count": null,
   "metadata": {},
   "outputs": [],
   "source": [
    "plt.scatter(m['Retorno Diário'], spy['Retorno Diário'], alpha=0.5);"
   ]
  },
  {
   "cell_type": "code",
   "execution_count": null,
   "metadata": {},
   "outputs": [],
   "source": [
    "beta_f, alpha_f, r_value_f, p_value_f, std_err_f = stats.linregress(m['Retorno Diário'].iloc[1:],\n",
    "                                                                    spy['Retorno Diário'].iloc[1:])"
   ]
  },
  {
   "cell_type": "code",
   "execution_count": null,
   "metadata": {},
   "outputs": [],
   "source": [
    "print('beta: {}'.format(beta_f))\n",
    "print('alpha: {}'.format(alpha_f))\n",
    "print('r_value: {}'.format(r_value_f))\n",
    "print('p_value: {}'.format(p_value_f))\n",
    "print('std_err: {}'.format(std_err_f))"
   ]
  }
 ],
 "metadata": {
  "kernelspec": {
   "display_name": "Python 3",
   "language": "python",
   "name": "python3"
  },
  "language_info": {
   "codemirror_mode": {
    "name": "ipython",
    "version": 3
   },
   "file_extension": ".py",
   "mimetype": "text/x-python",
   "name": "python",
   "nbconvert_exporter": "python",
   "pygments_lexer": "ipython3",
   "version": "3.7.3"
  }
 },
 "nbformat": 4,
 "nbformat_minor": 2
}

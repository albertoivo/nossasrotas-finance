{
 "cells": [
  {
   "cell_type": "markdown",
   "metadata": {},
   "source": [
    "# Sharp Ratio & Frontier"
   ]
  },
  {
   "cell_type": "code",
   "execution_count": null,
   "metadata": {},
   "outputs": [],
   "source": [
    "import pandas_datareader.data as web\n",
    "import pandas as pd\n",
    "import numpy as np\n",
    "import datetime\n",
    "import matplotlib.pyplot as plt\n",
    "\n",
    "%matplotlib inline"
   ]
  },
  {
   "cell_type": "markdown",
   "metadata": {},
   "source": [
    "## Portfolio Atual"
   ]
  },
  {
   "cell_type": "code",
   "execution_count": null,
   "metadata": {},
   "outputs": [],
   "source": [
    "itau = pd.read_csv('csv/ITUB4.csv')\n",
    "abev = pd.read_csv('csv/ABEV3.csv')\n",
    "usim = pd.read_csv('csv/USIM5.csv')\n",
    "pmam = pd.read_csv('csv/PMAM3.csv')\n",
    "flry = pd.read_csv('csv/FLRY3.csv')\n",
    "pssa = pd.read_csv('csv/PSSA3.csv')\n",
    "tiet = pd.read_csv('csv/TIET4.csv')"
   ]
  },
  {
   "cell_type": "markdown",
   "metadata": {},
   "source": [
    "## Normalizando o retorno diário de cada ativo do portfólio"
   ]
  },
  {
   "cell_type": "code",
   "execution_count": null,
   "metadata": {},
   "outputs": [],
   "source": [
    "for acao_df in (itau, abev, usim, pmam, flry, pssa, tiet):\n",
    "    acao_df['Retorno Normalizado'] = acao_df['Adj Close'] / acao_df.iloc[0]['Adj Close']"
   ]
  },
  {
   "cell_type": "markdown",
   "metadata": {},
   "source": [
    "## Alocando cada ativo com um peso específico"
   ]
  },
  {
   "cell_type": "code",
   "execution_count": null,
   "metadata": {},
   "outputs": [],
   "source": [
    "# pesos = [0.30685331, 0.00641836, 0.06383855, 0.06783421, 0.00519073, 0.37586239, 0.17400245]\n",
    "pesos = [0.32492868, 0.00764669, 0.05838742, 0.05361701, 0.01495727, 0.29189387, 0.24856906]\n",
    "\n",
    "for acao_df, alocacao in zip((itau, abev, usim, pmam, flry, pssa, tiet), pesos):\n",
    "    acao_df['Alocacao'] = acao_df['Retorno Normalizado'] * alocacao"
   ]
  },
  {
   "cell_type": "markdown",
   "metadata": {},
   "source": [
    "## Posição de cada ativo no portfólio"
   ]
  },
  {
   "cell_type": "code",
   "execution_count": null,
   "metadata": {},
   "outputs": [],
   "source": [
    "for acao_df in (itau, abev, usim, pmam, flry, pssa, tiet):\n",
    "    acao_df['Posicao'] = acao_df['Alocacao'] * 10000"
   ]
  },
  {
   "cell_type": "code",
   "execution_count": null,
   "metadata": {},
   "outputs": [],
   "source": [
    "todas_posicoes = [itau['Posicao'], abev['Posicao'], usim['Posicao'],\n",
    "                  pmam['Posicao'], flry['Posicao'], pssa['Posicao'], tiet['Posicao']]\n",
    "\n",
    "# DF que terá colunas adicionadas como Total e Retorno Diário\n",
    "portfolio_posicao = pd.concat(todas_posicoes, axis=1)\n",
    "\n",
    "# DF que terá apenas as ações com o Adj Close column\n",
    "portfolio_acoes = pd.concat(todas_posicoes, axis=1)"
   ]
  },
  {
   "cell_type": "code",
   "execution_count": null,
   "metadata": {},
   "outputs": [],
   "source": [
    "portfolio_posicao.columns = ['ITUB', 'ABEV', 'USIM', 'PMAM', 'FLRY', 'PSSA', 'TIET']\n",
    "portfolio_acoes.columns = ['ITUB', 'ABEV', 'USIM', 'PMAM', 'FLRY', 'PSSA', 'TIET']"
   ]
  },
  {
   "cell_type": "markdown",
   "metadata": {},
   "source": [
    "## Desempenho da carteira"
   ]
  },
  {
   "cell_type": "code",
   "execution_count": null,
   "metadata": {},
   "outputs": [],
   "source": [
    "portfolio_posicao['Total'] = portfolio_posicao.sum(axis=1)\n",
    "portfolio_posicao.drop(labels='Total', axis=1, inplace=True)\n",
    "portfolio_posicao['Total'] = portfolio_posicao.sum(axis=1)"
   ]
  },
  {
   "cell_type": "code",
   "execution_count": null,
   "metadata": {},
   "outputs": [],
   "source": [
    "print('Investimento inicial:')\n",
    "print(portfolio_posicao['Total'][0])\n",
    "print('Investimento final:')\n",
    "print(round(portfolio_posicao['Total'].iloc[-1], 2))"
   ]
  },
  {
   "cell_type": "code",
   "execution_count": null,
   "metadata": {},
   "outputs": [],
   "source": [
    "portfolio_posicao['Total'].plot(figsize=(17,6))\n",
    "plt.title('Posição total do portfolio');"
   ]
  },
  {
   "cell_type": "markdown",
   "metadata": {},
   "source": [
    "## Desempenho da Carteira Normalizada"
   ]
  },
  {
   "cell_type": "code",
   "execution_count": null,
   "metadata": {},
   "outputs": [],
   "source": [
    "portfolio_normalizado = portfolio_acoes / portfolio_acoes.iloc[0]\n",
    "portfolio_normalizado.plot(figsize=(17,6));"
   ]
  },
  {
   "cell_type": "markdown",
   "metadata": {},
   "source": [
    "## Retorno diário da carteira"
   ]
  },
  {
   "cell_type": "code",
   "execution_count": null,
   "metadata": {},
   "outputs": [],
   "source": [
    "portfolio_posicao['Retorno Diario'] = portfolio_posicao['Total'].pct_change(1)"
   ]
  },
  {
   "cell_type": "code",
   "execution_count": null,
   "metadata": {},
   "outputs": [],
   "source": [
    "# Média de retorno diário\n",
    "round_ret_medio_diario = round(portfolio_posicao['Retorno Diario'].mean() * 100, 2)\n",
    "print('Essa carteira rende em média {}% diariamente'.format(round_ret_medio_diario))"
   ]
  },
  {
   "cell_type": "code",
   "execution_count": null,
   "metadata": {},
   "outputs": [],
   "source": [
    "# Gráfico de densidade\n",
    "portfolio_posicao['Retorno Diario'].plot(kind='kde', figsize=(4,5));"
   ]
  },
  {
   "cell_type": "markdown",
   "metadata": {},
   "source": [
    "## Retorno Total da Carteira"
   ]
  },
  {
   "cell_type": "code",
   "execution_count": null,
   "metadata": {},
   "outputs": [],
   "source": [
    "retorno_total_acumulado = 100 * (portfolio_posicao['Total'].iloc[-1] / portfolio_posicao['Total'].iloc[0] - 1)\n",
    "round_ret_total_acum = round(retorno_total_acumulado, 2)\n",
    "print('Essa carteira rendeu {}%'.format(round_ret_total_acum))"
   ]
  }
 ],
 "metadata": {
  "kernelspec": {
   "display_name": "Python 3",
   "language": "python",
   "name": "python3"
  },
  "language_info": {
   "codemirror_mode": {
    "name": "ipython",
    "version": 3
   },
   "file_extension": ".py",
   "mimetype": "text/x-python",
   "name": "python",
   "nbconvert_exporter": "python",
   "pygments_lexer": "ipython3",
   "version": "3.7.3"
  }
 },
 "nbformat": 4,
 "nbformat_minor": 2
}
